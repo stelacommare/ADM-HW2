{
 "cells": [
  {
   "cell_type": "markdown",
   "id": "0d472a08",
   "metadata": {
    "jp-MarkdownHeadingCollapsed": true,
    "tags": []
   },
   "source": [
    "# Environment preparation"
   ]
  },
  {
   "cell_type": "markdown",
   "id": "7ecff007-6e15-4569-afec-aeb0e0a6eb1b",
   "metadata": {
    "jp-MarkdownHeadingCollapsed": true,
    "tags": []
   },
   "source": [
    "### Importing the main libraries "
   ]
  },
  {
   "cell_type": "code",
   "execution_count": 1,
   "id": "174132da-8668-42e7-9cda-57b010361233",
   "metadata": {},
   "outputs": [],
   "source": [
    "import pandas as pd\n",
    "import matplotlib.pyplot as plt\n",
    "import numpy as np\n",
    "from datetime import datetime as dt\n",
    "from collections import Counter \n",
    "\n",
    "# we import our functions from the functions module\n",
    "import functions"
   ]
  },
  {
   "cell_type": "markdown",
   "id": "71b0e6fd-b589-466a-9c50-449184daf217",
   "metadata": {},
   "source": [
    "### Importing the the whole data set \"instagram_profiles.csv\""
   ]
  },
  {
   "cell_type": "markdown",
   "id": "12b78305",
   "metadata": {},
   "source": [
    "In this case the data set is not too large, thus we can sinply import the whole csv with pandas. For the next excercises we are going to import only few columns of each data frame in order to reduce the computing complexity of our algorithms and avoid any problem related to the size of our inputs."
   ]
  },
  {
   "cell_type": "code",
   "execution_count": 2,
   "id": "ad0ce30b-46f0-44ed-8352-4e0b45d44e11",
   "metadata": {},
   "outputs": [
    {
     "data": {
      "text/html": [
       "<div>\n",
       "<style scoped>\n",
       "    .dataframe tbody tr th:only-of-type {\n",
       "        vertical-align: middle;\n",
       "    }\n",
       "\n",
       "    .dataframe tbody tr th {\n",
       "        vertical-align: top;\n",
       "    }\n",
       "\n",
       "    .dataframe thead th {\n",
       "        text-align: right;\n",
       "    }\n",
       "</style>\n",
       "<table border=\"1\" class=\"dataframe\">\n",
       "  <thead>\n",
       "    <tr style=\"text-align: right;\">\n",
       "      <th></th>\n",
       "      <th>sid</th>\n",
       "      <th>profile_id</th>\n",
       "      <th>profile_name</th>\n",
       "      <th>firstname_lastname</th>\n",
       "      <th>description</th>\n",
       "      <th>following</th>\n",
       "      <th>followers</th>\n",
       "      <th>n_posts</th>\n",
       "      <th>url</th>\n",
       "      <th>cts</th>\n",
       "      <th>is_business_account</th>\n",
       "    </tr>\n",
       "  </thead>\n",
       "  <tbody>\n",
       "    <tr>\n",
       "      <th>0</th>\n",
       "      <td>4184446</td>\n",
       "      <td>4.721050e+09</td>\n",
       "      <td>jphillip033</td>\n",
       "      <td>John Pierce</td>\n",
       "      <td>\"Document Everything Always\"</td>\n",
       "      <td>250.0</td>\n",
       "      <td>146.0</td>\n",
       "      <td>170.0</td>\n",
       "      <td>NaN</td>\n",
       "      <td>2019-08-01 14:38:55.394 -0400</td>\n",
       "      <td>False</td>\n",
       "    </tr>\n",
       "    <tr>\n",
       "      <th>1</th>\n",
       "      <td>4184457</td>\n",
       "      <td>5.905830e+08</td>\n",
       "      <td>mama_haas</td>\n",
       "      <td>Deanna</td>\n",
       "      <td>Trying to enjoy the simple things in life. Kni...</td>\n",
       "      <td>534.0</td>\n",
       "      <td>1145.0</td>\n",
       "      <td>2878.0</td>\n",
       "      <td>www.etsy.com/shop/MamaHaas69</td>\n",
       "      <td>2019-08-01 14:39:36.526 -0400</td>\n",
       "      <td>False</td>\n",
       "    </tr>\n",
       "    <tr>\n",
       "      <th>2</th>\n",
       "      <td>4184460</td>\n",
       "      <td>1.074147e+09</td>\n",
       "      <td>yellowlightbreen</td>\n",
       "      <td>Eliza Gray</td>\n",
       "      <td>Maine is for Lovers</td>\n",
       "      <td>469.0</td>\n",
       "      <td>324.0</td>\n",
       "      <td>431.0</td>\n",
       "      <td>elizajanegray.com</td>\n",
       "      <td>2019-08-01 14:39:54.407 -0400</td>\n",
       "      <td>False</td>\n",
       "    </tr>\n",
       "    <tr>\n",
       "      <th>3</th>\n",
       "      <td>4184461</td>\n",
       "      <td>1.472039e+09</td>\n",
       "      <td>tec1025</td>\n",
       "      <td>Thomas Clark</td>\n",
       "      <td>NaN</td>\n",
       "      <td>NaN</td>\n",
       "      <td>NaN</td>\n",
       "      <td>NaN</td>\n",
       "      <td>NaN</td>\n",
       "      <td>2019-08-01 14:40:06.472 -0400</td>\n",
       "      <td>NaN</td>\n",
       "    </tr>\n",
       "    <tr>\n",
       "      <th>4</th>\n",
       "      <td>4184462</td>\n",
       "      <td>3.531421e+09</td>\n",
       "      <td>luckyfluff</td>\n",
       "      <td>NaN</td>\n",
       "      <td>NaN</td>\n",
       "      <td>NaN</td>\n",
       "      <td>NaN</td>\n",
       "      <td>NaN</td>\n",
       "      <td>NaN</td>\n",
       "      <td>2019-08-01 14:40:07.806 -0400</td>\n",
       "      <td>NaN</td>\n",
       "    </tr>\n",
       "    <tr>\n",
       "      <th>5</th>\n",
       "      <td>4184465</td>\n",
       "      <td>1.450642e+08</td>\n",
       "      <td>sabahlke</td>\n",
       "      <td>Sarah bahlke</td>\n",
       "      <td>NaN</td>\n",
       "      <td>266.0</td>\n",
       "      <td>192.0</td>\n",
       "      <td>590.0</td>\n",
       "      <td>NaN</td>\n",
       "      <td>2019-08-01 14:40:16.443 -0400</td>\n",
       "      <td>False</td>\n",
       "    </tr>\n",
       "    <tr>\n",
       "      <th>6</th>\n",
       "      <td>4184471</td>\n",
       "      <td>2.061868e+09</td>\n",
       "      <td>masslivehs</td>\n",
       "      <td>MassLive High School Sports</td>\n",
       "      <td>Your spot for the best Western Mass. high scho...</td>\n",
       "      <td>157.0</td>\n",
       "      <td>4137.0</td>\n",
       "      <td>753.0</td>\n",
       "      <td>bit.ly/2HIysyv</td>\n",
       "      <td>2019-08-01 14:40:40.390 -0400</td>\n",
       "      <td>True</td>\n",
       "    </tr>\n",
       "    <tr>\n",
       "      <th>7</th>\n",
       "      <td>4184472</td>\n",
       "      <td>1.446651e+09</td>\n",
       "      <td>hvcanes</td>\n",
       "      <td>Hoosac Valley</td>\n",
       "      <td>NaN</td>\n",
       "      <td>NaN</td>\n",
       "      <td>NaN</td>\n",
       "      <td>NaN</td>\n",
       "      <td>NaN</td>\n",
       "      <td>2019-08-01 14:40:52.635 -0400</td>\n",
       "      <td>NaN</td>\n",
       "    </tr>\n",
       "    <tr>\n",
       "      <th>8</th>\n",
       "      <td>4184475</td>\n",
       "      <td>1.743726e+09</td>\n",
       "      <td>will_jay_k</td>\n",
       "      <td>William Kramer</td>\n",
       "      <td>I’d rather die a big death than live a small life</td>\n",
       "      <td>115.0</td>\n",
       "      <td>183.0</td>\n",
       "      <td>37.0</td>\n",
       "      <td>NaN</td>\n",
       "      <td>2019-08-01 14:40:59.969 -0400</td>\n",
       "      <td>False</td>\n",
       "    </tr>\n",
       "    <tr>\n",
       "      <th>9</th>\n",
       "      <td>4184476</td>\n",
       "      <td>5.455198e+09</td>\n",
       "      <td>ashley_downing722</td>\n",
       "      <td>Ashley Downing</td>\n",
       "      <td>NaN</td>\n",
       "      <td>NaN</td>\n",
       "      <td>NaN</td>\n",
       "      <td>NaN</td>\n",
       "      <td>NaN</td>\n",
       "      <td>2019-08-01 14:41:12.826 -0400</td>\n",
       "      <td>NaN</td>\n",
       "    </tr>\n",
       "  </tbody>\n",
       "</table>\n",
       "</div>"
      ],
      "text/plain": [
       "       sid    profile_id       profile_name           firstname_lastname  \\\n",
       "0  4184446  4.721050e+09        jphillip033                  John Pierce   \n",
       "1  4184457  5.905830e+08          mama_haas                       Deanna   \n",
       "2  4184460  1.074147e+09   yellowlightbreen                   Eliza Gray   \n",
       "3  4184461  1.472039e+09            tec1025                 Thomas Clark   \n",
       "4  4184462  3.531421e+09         luckyfluff                          NaN   \n",
       "5  4184465  1.450642e+08           sabahlke                 Sarah bahlke   \n",
       "6  4184471  2.061868e+09         masslivehs  MassLive High School Sports   \n",
       "7  4184472  1.446651e+09            hvcanes                Hoosac Valley   \n",
       "8  4184475  1.743726e+09         will_jay_k               William Kramer   \n",
       "9  4184476  5.455198e+09  ashley_downing722               Ashley Downing   \n",
       "\n",
       "                                         description  following  followers  \\\n",
       "0                       \"Document Everything Always\"      250.0      146.0   \n",
       "1  Trying to enjoy the simple things in life. Kni...      534.0     1145.0   \n",
       "2                                Maine is for Lovers      469.0      324.0   \n",
       "3                                                NaN        NaN        NaN   \n",
       "4                                                NaN        NaN        NaN   \n",
       "5                                                NaN      266.0      192.0   \n",
       "6  Your spot for the best Western Mass. high scho...      157.0     4137.0   \n",
       "7                                                NaN        NaN        NaN   \n",
       "8  I’d rather die a big death than live a small life      115.0      183.0   \n",
       "9                                                NaN        NaN        NaN   \n",
       "\n",
       "   n_posts                           url                            cts  \\\n",
       "0    170.0                           NaN  2019-08-01 14:38:55.394 -0400   \n",
       "1   2878.0  www.etsy.com/shop/MamaHaas69  2019-08-01 14:39:36.526 -0400   \n",
       "2    431.0             elizajanegray.com  2019-08-01 14:39:54.407 -0400   \n",
       "3      NaN                           NaN  2019-08-01 14:40:06.472 -0400   \n",
       "4      NaN                           NaN  2019-08-01 14:40:07.806 -0400   \n",
       "5    590.0                           NaN  2019-08-01 14:40:16.443 -0400   \n",
       "6    753.0                bit.ly/2HIysyv  2019-08-01 14:40:40.390 -0400   \n",
       "7      NaN                           NaN  2019-08-01 14:40:52.635 -0400   \n",
       "8     37.0                           NaN  2019-08-01 14:40:59.969 -0400   \n",
       "9      NaN                           NaN  2019-08-01 14:41:12.826 -0400   \n",
       "\n",
       "  is_business_account  \n",
       "0               False  \n",
       "1               False  \n",
       "2               False  \n",
       "3                 NaN  \n",
       "4                 NaN  \n",
       "5               False  \n",
       "6                True  \n",
       "7                 NaN  \n",
       "8               False  \n",
       "9                 NaN  "
      ]
     },
     "execution_count": 2,
     "metadata": {},
     "output_type": "execute_result"
    }
   ],
   "source": [
    "profiles = pd.read_csv('instagram_profiles.zip',delimiter='\\t')\n",
    "\n",
    "# let's have a look to the content of the data frame \n",
    "profiles.head(10)"
   ]
  },
  {
   "cell_type": "markdown",
   "id": "e9a9efcb-7089-40c6-97cc-439964411874",
   "metadata": {},
   "source": [
    "### Cleaning the data set "
   ]
  },
  {
   "cell_type": "markdown",
   "id": "10392d38",
   "metadata": {},
   "source": [
    "We start by cleaning this data set with the dafault value of the relative type of attribute in the data set. Later in this notebook will be foundamental to correctly clean the data set when merging tables or manipulating the rows."
   ]
  },
  {
   "cell_type": "code",
   "execution_count": null,
   "id": "8ce62b52-49cb-4d9b-8569-d48c3830257f",
   "metadata": {},
   "outputs": [
    {
     "data": {
      "text/html": [
       "<div>\n",
       "<style scoped>\n",
       "    .dataframe tbody tr th:only-of-type {\n",
       "        vertical-align: middle;\n",
       "    }\n",
       "\n",
       "    .dataframe tbody tr th {\n",
       "        vertical-align: top;\n",
       "    }\n",
       "\n",
       "    .dataframe thead th {\n",
       "        text-align: right;\n",
       "    }\n",
       "</style>\n",
       "<table border=\"1\" class=\"dataframe\">\n",
       "  <thead>\n",
       "    <tr style=\"text-align: right;\">\n",
       "      <th></th>\n",
       "      <th>sid</th>\n",
       "      <th>profile_id</th>\n",
       "      <th>profile_name</th>\n",
       "      <th>firstname_lastname</th>\n",
       "      <th>description</th>\n",
       "      <th>following</th>\n",
       "      <th>followers</th>\n",
       "      <th>n_posts</th>\n",
       "      <th>url</th>\n",
       "      <th>cts</th>\n",
       "      <th>is_business_account</th>\n",
       "    </tr>\n",
       "  </thead>\n",
       "  <tbody>\n",
       "    <tr>\n",
       "      <th>0</th>\n",
       "      <td>4184446</td>\n",
       "      <td>4.721050e+09</td>\n",
       "      <td>jphillip033</td>\n",
       "      <td>John Pierce</td>\n",
       "      <td>\"Document Everything Always\"</td>\n",
       "      <td>250.0</td>\n",
       "      <td>146.0</td>\n",
       "      <td>170.0</td>\n",
       "      <td></td>\n",
       "      <td>2019-08-01 14:38:55.394 -0400</td>\n",
       "      <td>False</td>\n",
       "    </tr>\n",
       "    <tr>\n",
       "      <th>1</th>\n",
       "      <td>4184457</td>\n",
       "      <td>5.905830e+08</td>\n",
       "      <td>mama_haas</td>\n",
       "      <td>Deanna</td>\n",
       "      <td>Trying to enjoy the simple things in life. Kni...</td>\n",
       "      <td>534.0</td>\n",
       "      <td>1145.0</td>\n",
       "      <td>2878.0</td>\n",
       "      <td>www.etsy.com/shop/MamaHaas69</td>\n",
       "      <td>2019-08-01 14:39:36.526 -0400</td>\n",
       "      <td>False</td>\n",
       "    </tr>\n",
       "    <tr>\n",
       "      <th>2</th>\n",
       "      <td>4184460</td>\n",
       "      <td>1.074147e+09</td>\n",
       "      <td>yellowlightbreen</td>\n",
       "      <td>Eliza Gray</td>\n",
       "      <td>Maine is for Lovers</td>\n",
       "      <td>469.0</td>\n",
       "      <td>324.0</td>\n",
       "      <td>431.0</td>\n",
       "      <td>elizajanegray.com</td>\n",
       "      <td>2019-08-01 14:39:54.407 -0400</td>\n",
       "      <td>False</td>\n",
       "    </tr>\n",
       "    <tr>\n",
       "      <th>3</th>\n",
       "      <td>4184461</td>\n",
       "      <td>1.472039e+09</td>\n",
       "      <td>tec1025</td>\n",
       "      <td>Thomas Clark</td>\n",
       "      <td></td>\n",
       "      <td>0.0</td>\n",
       "      <td>0.0</td>\n",
       "      <td>0.0</td>\n",
       "      <td></td>\n",
       "      <td>2019-08-01 14:40:06.472 -0400</td>\n",
       "      <td>False</td>\n",
       "    </tr>\n",
       "    <tr>\n",
       "      <th>4</th>\n",
       "      <td>4184462</td>\n",
       "      <td>3.531421e+09</td>\n",
       "      <td>luckyfluff</td>\n",
       "      <td></td>\n",
       "      <td></td>\n",
       "      <td>0.0</td>\n",
       "      <td>0.0</td>\n",
       "      <td>0.0</td>\n",
       "      <td></td>\n",
       "      <td>2019-08-01 14:40:07.806 -0400</td>\n",
       "      <td>False</td>\n",
       "    </tr>\n",
       "    <tr>\n",
       "      <th>5</th>\n",
       "      <td>4184465</td>\n",
       "      <td>1.450642e+08</td>\n",
       "      <td>sabahlke</td>\n",
       "      <td>Sarah bahlke</td>\n",
       "      <td></td>\n",
       "      <td>266.0</td>\n",
       "      <td>192.0</td>\n",
       "      <td>590.0</td>\n",
       "      <td></td>\n",
       "      <td>2019-08-01 14:40:16.443 -0400</td>\n",
       "      <td>False</td>\n",
       "    </tr>\n",
       "    <tr>\n",
       "      <th>6</th>\n",
       "      <td>4184471</td>\n",
       "      <td>2.061868e+09</td>\n",
       "      <td>masslivehs</td>\n",
       "      <td>MassLive High School Sports</td>\n",
       "      <td>Your spot for the best Western Mass. high scho...</td>\n",
       "      <td>157.0</td>\n",
       "      <td>4137.0</td>\n",
       "      <td>753.0</td>\n",
       "      <td>bit.ly/2HIysyv</td>\n",
       "      <td>2019-08-01 14:40:40.390 -0400</td>\n",
       "      <td>True</td>\n",
       "    </tr>\n",
       "    <tr>\n",
       "      <th>7</th>\n",
       "      <td>4184472</td>\n",
       "      <td>1.446651e+09</td>\n",
       "      <td>hvcanes</td>\n",
       "      <td>Hoosac Valley</td>\n",
       "      <td></td>\n",
       "      <td>0.0</td>\n",
       "      <td>0.0</td>\n",
       "      <td>0.0</td>\n",
       "      <td></td>\n",
       "      <td>2019-08-01 14:40:52.635 -0400</td>\n",
       "      <td>False</td>\n",
       "    </tr>\n",
       "    <tr>\n",
       "      <th>8</th>\n",
       "      <td>4184475</td>\n",
       "      <td>1.743726e+09</td>\n",
       "      <td>will_jay_k</td>\n",
       "      <td>William Kramer</td>\n",
       "      <td>I’d rather die a big death than live a small life</td>\n",
       "      <td>115.0</td>\n",
       "      <td>183.0</td>\n",
       "      <td>37.0</td>\n",
       "      <td></td>\n",
       "      <td>2019-08-01 14:40:59.969 -0400</td>\n",
       "      <td>False</td>\n",
       "    </tr>\n",
       "    <tr>\n",
       "      <th>9</th>\n",
       "      <td>4184476</td>\n",
       "      <td>5.455198e+09</td>\n",
       "      <td>ashley_downing722</td>\n",
       "      <td>Ashley Downing</td>\n",
       "      <td></td>\n",
       "      <td>0.0</td>\n",
       "      <td>0.0</td>\n",
       "      <td>0.0</td>\n",
       "      <td></td>\n",
       "      <td>2019-08-01 14:41:12.826 -0400</td>\n",
       "      <td>False</td>\n",
       "    </tr>\n",
       "  </tbody>\n",
       "</table>\n",
       "</div>"
      ],
      "text/plain": [
       "       sid    profile_id       profile_name           firstname_lastname  \\\n",
       "0  4184446  4.721050e+09        jphillip033                  John Pierce   \n",
       "1  4184457  5.905830e+08          mama_haas                       Deanna   \n",
       "2  4184460  1.074147e+09   yellowlightbreen                   Eliza Gray   \n",
       "3  4184461  1.472039e+09            tec1025                 Thomas Clark   \n",
       "4  4184462  3.531421e+09         luckyfluff                                \n",
       "5  4184465  1.450642e+08           sabahlke                 Sarah bahlke   \n",
       "6  4184471  2.061868e+09         masslivehs  MassLive High School Sports   \n",
       "7  4184472  1.446651e+09            hvcanes                Hoosac Valley   \n",
       "8  4184475  1.743726e+09         will_jay_k               William Kramer   \n",
       "9  4184476  5.455198e+09  ashley_downing722               Ashley Downing   \n",
       "\n",
       "                                         description  following  followers  \\\n",
       "0                       \"Document Everything Always\"      250.0      146.0   \n",
       "1  Trying to enjoy the simple things in life. Kni...      534.0     1145.0   \n",
       "2                                Maine is for Lovers      469.0      324.0   \n",
       "3                                                           0.0        0.0   \n",
       "4                                                           0.0        0.0   \n",
       "5                                                         266.0      192.0   \n",
       "6  Your spot for the best Western Mass. high scho...      157.0     4137.0   \n",
       "7                                                           0.0        0.0   \n",
       "8  I’d rather die a big death than live a small life      115.0      183.0   \n",
       "9                                                           0.0        0.0   \n",
       "\n",
       "   n_posts                           url                            cts  \\\n",
       "0    170.0                                2019-08-01 14:38:55.394 -0400   \n",
       "1   2878.0  www.etsy.com/shop/MamaHaas69  2019-08-01 14:39:36.526 -0400   \n",
       "2    431.0             elizajanegray.com  2019-08-01 14:39:54.407 -0400   \n",
       "3      0.0                                2019-08-01 14:40:06.472 -0400   \n",
       "4      0.0                                2019-08-01 14:40:07.806 -0400   \n",
       "5    590.0                                2019-08-01 14:40:16.443 -0400   \n",
       "6    753.0                bit.ly/2HIysyv  2019-08-01 14:40:40.390 -0400   \n",
       "7      0.0                                2019-08-01 14:40:52.635 -0400   \n",
       "8     37.0                                2019-08-01 14:40:59.969 -0400   \n",
       "9      0.0                                2019-08-01 14:41:12.826 -0400   \n",
       "\n",
       "   is_business_account  \n",
       "0                False  \n",
       "1                False  \n",
       "2                False  \n",
       "3                False  \n",
       "4                False  \n",
       "5                False  \n",
       "6                 True  \n",
       "7                False  \n",
       "8                False  \n",
       "9                False  "
      ]
     },
     "execution_count": 4,
     "metadata": {},
     "output_type": "execute_result"
    }
   ],
   "source": [
    "# cleaning the NaN values\n",
    "profiles.firstname_lastname.fillna('',inplace=True)\n",
    "profiles.description.fillna('',inplace=True)\n",
    "profiles.url.fillna('',inplace=True)\n",
    "profiles.is_business_account.fillna(False,inplace=True)\n",
    "profiles.cts.fillna('',inplace=True)\n",
    "profiles.following.fillna(0, inplace=True)\n",
    "profiles.followers.fillna(0, inplace=True)\n",
    "profiles.n_posts.fillna(0, inplace=True)\n",
    "profiles.head(10)"
   ]
  },
  {
   "cell_type": "markdown",
   "id": "edd5b691-0835-44b1-b551-b3ab3f35de57",
   "metadata": {
    "jp-MarkdownHeadingCollapsed": true,
    "tags": []
   },
   "source": [
    "# [RQ1] After collecting information, the Data Scientists have to know what dataset they are dealing with, so let's start with an Exploratory Data Analysis (EDA). What can you say about our datasets? Please summarise its main characteristics with visual and tabular methods."
   ]
  },
  {
   "cell_type": "markdown",
   "id": "f7b17ba8-68bf-4fe0-8e3a-616489d058d9",
   "metadata": {},
   "source": [
    "### Profiles:"
   ]
  },
  {
   "cell_type": "code",
   "execution_count": 2,
   "id": "3e4974cf-2a18-46a7-bb0b-3e1c62bd2f04",
   "metadata": {},
   "outputs": [],
   "source": [
    "import pandas as pd\n",
    "profiles = pd.read_csv('~/instagram_profiles.zip', delimiter='\\t')"
   ]
  },
  {
   "cell_type": "markdown",
   "id": "eb4b5f6a-3d26-4a46-a5d2-a91677a47ad2",
   "metadata": {},
   "source": [
    "We start importing pandas and instagram_profiles. Then let's see our date with funcions head and tail that show first and last 5 rows of the dataset"
   ]
  },
  {
   "cell_type": "code",
   "execution_count": 3,
   "id": "dbaa2357-4039-4958-b2c3-1fbb7a5147e1",
   "metadata": {
    "collapsed": true,
    "jupyter": {
     "outputs_hidden": true
    },
    "tags": []
   },
   "outputs": [
    {
     "data": {
      "text/html": [
       "<div>\n",
       "<style scoped>\n",
       "    .dataframe tbody tr th:only-of-type {\n",
       "        vertical-align: middle;\n",
       "    }\n",
       "\n",
       "    .dataframe tbody tr th {\n",
       "        vertical-align: top;\n",
       "    }\n",
       "\n",
       "    .dataframe thead th {\n",
       "        text-align: right;\n",
       "    }\n",
       "</style>\n",
       "<table border=\"1\" class=\"dataframe\">\n",
       "  <thead>\n",
       "    <tr style=\"text-align: right;\">\n",
       "      <th></th>\n",
       "      <th>sid</th>\n",
       "      <th>profile_id</th>\n",
       "      <th>profile_name</th>\n",
       "      <th>firstname_lastname</th>\n",
       "      <th>description</th>\n",
       "      <th>following</th>\n",
       "      <th>followers</th>\n",
       "      <th>n_posts</th>\n",
       "      <th>url</th>\n",
       "      <th>cts</th>\n",
       "      <th>is_business_account</th>\n",
       "    </tr>\n",
       "  </thead>\n",
       "  <tbody>\n",
       "    <tr>\n",
       "      <th>0</th>\n",
       "      <td>4184446</td>\n",
       "      <td>4.721050e+09</td>\n",
       "      <td>jphillip033</td>\n",
       "      <td>John Pierce</td>\n",
       "      <td>\"Document Everything Always\"</td>\n",
       "      <td>250.0</td>\n",
       "      <td>146.0</td>\n",
       "      <td>170.0</td>\n",
       "      <td>NaN</td>\n",
       "      <td>2019-08-01 14:38:55.394 -0400</td>\n",
       "      <td>False</td>\n",
       "    </tr>\n",
       "    <tr>\n",
       "      <th>1</th>\n",
       "      <td>4184457</td>\n",
       "      <td>5.905830e+08</td>\n",
       "      <td>mama_haas</td>\n",
       "      <td>Deanna</td>\n",
       "      <td>Trying to enjoy the simple things in life. Kni...</td>\n",
       "      <td>534.0</td>\n",
       "      <td>1145.0</td>\n",
       "      <td>2878.0</td>\n",
       "      <td>www.etsy.com/shop/MamaHaas69</td>\n",
       "      <td>2019-08-01 14:39:36.526 -0400</td>\n",
       "      <td>False</td>\n",
       "    </tr>\n",
       "    <tr>\n",
       "      <th>2</th>\n",
       "      <td>4184460</td>\n",
       "      <td>1.074147e+09</td>\n",
       "      <td>yellowlightbreen</td>\n",
       "      <td>Eliza Gray</td>\n",
       "      <td>Maine is for Lovers</td>\n",
       "      <td>469.0</td>\n",
       "      <td>324.0</td>\n",
       "      <td>431.0</td>\n",
       "      <td>elizajanegray.com</td>\n",
       "      <td>2019-08-01 14:39:54.407 -0400</td>\n",
       "      <td>False</td>\n",
       "    </tr>\n",
       "    <tr>\n",
       "      <th>3</th>\n",
       "      <td>4184461</td>\n",
       "      <td>1.472039e+09</td>\n",
       "      <td>tec1025</td>\n",
       "      <td>Thomas Clark</td>\n",
       "      <td>NaN</td>\n",
       "      <td>NaN</td>\n",
       "      <td>NaN</td>\n",
       "      <td>NaN</td>\n",
       "      <td>NaN</td>\n",
       "      <td>2019-08-01 14:40:06.472 -0400</td>\n",
       "      <td>NaN</td>\n",
       "    </tr>\n",
       "    <tr>\n",
       "      <th>4</th>\n",
       "      <td>4184462</td>\n",
       "      <td>3.531421e+09</td>\n",
       "      <td>luckyfluff</td>\n",
       "      <td>NaN</td>\n",
       "      <td>NaN</td>\n",
       "      <td>NaN</td>\n",
       "      <td>NaN</td>\n",
       "      <td>NaN</td>\n",
       "      <td>NaN</td>\n",
       "      <td>2019-08-01 14:40:07.806 -0400</td>\n",
       "      <td>NaN</td>\n",
       "    </tr>\n",
       "  </tbody>\n",
       "</table>\n",
       "</div>"
      ],
      "text/plain": [
       "       sid    profile_id      profile_name firstname_lastname  \\\n",
       "0  4184446  4.721050e+09       jphillip033        John Pierce   \n",
       "1  4184457  5.905830e+08         mama_haas             Deanna   \n",
       "2  4184460  1.074147e+09  yellowlightbreen         Eliza Gray   \n",
       "3  4184461  1.472039e+09           tec1025       Thomas Clark   \n",
       "4  4184462  3.531421e+09        luckyfluff                NaN   \n",
       "\n",
       "                                         description  following  followers  \\\n",
       "0                       \"Document Everything Always\"      250.0      146.0   \n",
       "1  Trying to enjoy the simple things in life. Kni...      534.0     1145.0   \n",
       "2                                Maine is for Lovers      469.0      324.0   \n",
       "3                                                NaN        NaN        NaN   \n",
       "4                                                NaN        NaN        NaN   \n",
       "\n",
       "   n_posts                           url                            cts  \\\n",
       "0    170.0                           NaN  2019-08-01 14:38:55.394 -0400   \n",
       "1   2878.0  www.etsy.com/shop/MamaHaas69  2019-08-01 14:39:36.526 -0400   \n",
       "2    431.0             elizajanegray.com  2019-08-01 14:39:54.407 -0400   \n",
       "3      NaN                           NaN  2019-08-01 14:40:06.472 -0400   \n",
       "4      NaN                           NaN  2019-08-01 14:40:07.806 -0400   \n",
       "\n",
       "  is_business_account  \n",
       "0               False  \n",
       "1               False  \n",
       "2               False  \n",
       "3                 NaN  \n",
       "4                 NaN  "
      ]
     },
     "execution_count": 3,
     "metadata": {},
     "output_type": "execute_result"
    }
   ],
   "source": [
    "profiles.head()"
   ]
  },
  {
   "cell_type": "code",
   "execution_count": 4,
   "id": "4a201660-b3c7-4481-b4d7-186b37d528f9",
   "metadata": {
    "tags": []
   },
   "outputs": [
    {
     "data": {
      "text/html": [
       "<div>\n",
       "<style scoped>\n",
       "    .dataframe tbody tr th:only-of-type {\n",
       "        vertical-align: middle;\n",
       "    }\n",
       "\n",
       "    .dataframe tbody tr th {\n",
       "        vertical-align: top;\n",
       "    }\n",
       "\n",
       "    .dataframe thead th {\n",
       "        text-align: right;\n",
       "    }\n",
       "</style>\n",
       "<table border=\"1\" class=\"dataframe\">\n",
       "  <thead>\n",
       "    <tr style=\"text-align: right;\">\n",
       "      <th></th>\n",
       "      <th>sid</th>\n",
       "      <th>profile_id</th>\n",
       "      <th>profile_name</th>\n",
       "      <th>firstname_lastname</th>\n",
       "      <th>description</th>\n",
       "      <th>following</th>\n",
       "      <th>followers</th>\n",
       "      <th>n_posts</th>\n",
       "      <th>url</th>\n",
       "      <th>cts</th>\n",
       "      <th>is_business_account</th>\n",
       "    </tr>\n",
       "  </thead>\n",
       "  <tbody>\n",
       "    <tr>\n",
       "      <th>4509581</th>\n",
       "      <td>4184467</td>\n",
       "      <td>1.418322e+09</td>\n",
       "      <td>karenarkesteyn</td>\n",
       "      <td>Karen Arkesteyn</td>\n",
       "      <td>🙏🏻</td>\n",
       "      <td>468.0</td>\n",
       "      <td>481.0</td>\n",
       "      <td>497.0</td>\n",
       "      <td>NaN</td>\n",
       "      <td>2019-08-01 14:40:26.554 -0400</td>\n",
       "      <td>False</td>\n",
       "    </tr>\n",
       "    <tr>\n",
       "      <th>4509582</th>\n",
       "      <td>4184469</td>\n",
       "      <td>1.340704e+07</td>\n",
       "      <td>jornvlaeminck</td>\n",
       "      <td>Jorn Vlaeminck</td>\n",
       "      <td>NaN</td>\n",
       "      <td>NaN</td>\n",
       "      <td>NaN</td>\n",
       "      <td>NaN</td>\n",
       "      <td>NaN</td>\n",
       "      <td>2019-08-01 14:40:41.628 -0400</td>\n",
       "      <td>NaN</td>\n",
       "    </tr>\n",
       "    <tr>\n",
       "      <th>4509583</th>\n",
       "      <td>4184470</td>\n",
       "      <td>6.007354e+09</td>\n",
       "      <td>s_degol</td>\n",
       "      <td>Sanne Degol</td>\n",
       "      <td>NaN</td>\n",
       "      <td>NaN</td>\n",
       "      <td>NaN</td>\n",
       "      <td>NaN</td>\n",
       "      <td>NaN</td>\n",
       "      <td>2019-08-01 14:40:42.983 -0400</td>\n",
       "      <td>NaN</td>\n",
       "    </tr>\n",
       "    <tr>\n",
       "      <th>4509584</th>\n",
       "      <td>4184473</td>\n",
       "      <td>2.338990e+07</td>\n",
       "      <td>anwilms</td>\n",
       "      <td>An Wilms</td>\n",
       "      <td>Fashion - travel - photography ... that's me!👗...</td>\n",
       "      <td>504.0</td>\n",
       "      <td>153.0</td>\n",
       "      <td>183.0</td>\n",
       "      <td>NaN</td>\n",
       "      <td>2019-08-01 14:40:49.982 -0400</td>\n",
       "      <td>False</td>\n",
       "    </tr>\n",
       "    <tr>\n",
       "      <th>4509585</th>\n",
       "      <td>4184511</td>\n",
       "      <td>2.088094e+09</td>\n",
       "      <td>arnaubassols_</td>\n",
       "      <td>Arnau Bassols Noguer</td>\n",
       "      <td>NaN</td>\n",
       "      <td>NaN</td>\n",
       "      <td>NaN</td>\n",
       "      <td>NaN</td>\n",
       "      <td>NaN</td>\n",
       "      <td>2019-08-01 14:42:30.055 -0400</td>\n",
       "      <td>NaN</td>\n",
       "    </tr>\n",
       "  </tbody>\n",
       "</table>\n",
       "</div>"
      ],
      "text/plain": [
       "             sid    profile_id    profile_name    firstname_lastname  \\\n",
       "4509581  4184467  1.418322e+09  karenarkesteyn       Karen Arkesteyn   \n",
       "4509582  4184469  1.340704e+07   jornvlaeminck        Jorn Vlaeminck   \n",
       "4509583  4184470  6.007354e+09         s_degol           Sanne Degol   \n",
       "4509584  4184473  2.338990e+07         anwilms              An Wilms   \n",
       "4509585  4184511  2.088094e+09   arnaubassols_  Arnau Bassols Noguer   \n",
       "\n",
       "                                               description  following  \\\n",
       "4509581                                                 🙏🏻      468.0   \n",
       "4509582                                                NaN        NaN   \n",
       "4509583                                                NaN        NaN   \n",
       "4509584  Fashion - travel - photography ... that's me!👗...      504.0   \n",
       "4509585                                                NaN        NaN   \n",
       "\n",
       "         followers  n_posts  url                            cts  \\\n",
       "4509581      481.0    497.0  NaN  2019-08-01 14:40:26.554 -0400   \n",
       "4509582        NaN      NaN  NaN  2019-08-01 14:40:41.628 -0400   \n",
       "4509583        NaN      NaN  NaN  2019-08-01 14:40:42.983 -0400   \n",
       "4509584      153.0    183.0  NaN  2019-08-01 14:40:49.982 -0400   \n",
       "4509585        NaN      NaN  NaN  2019-08-01 14:42:30.055 -0400   \n",
       "\n",
       "        is_business_account  \n",
       "4509581               False  \n",
       "4509582                 NaN  \n",
       "4509583                 NaN  \n",
       "4509584               False  \n",
       "4509585                 NaN  "
      ]
     },
     "execution_count": 4,
     "metadata": {},
     "output_type": "execute_result"
    }
   ],
   "source": [
    "profiles.tail()"
   ]
  },
  {
   "cell_type": "code",
   "execution_count": 5,
   "id": "844f13f0-4b35-4266-a552-09ec7e47b34d",
   "metadata": {},
   "outputs": [
    {
     "data": {
      "text/plain": [
       "(4509586, 11)"
      ]
     },
     "execution_count": 5,
     "metadata": {},
     "output_type": "execute_result"
    }
   ],
   "source": [
    "profiles.shape"
   ]
  },
  {
   "cell_type": "markdown",
   "id": "78b0f224-cce9-411c-a86a-cf82833e90ee",
   "metadata": {},
   "source": [
    "There are 4509586 rows (profiles) and 11 columns (variables)"
   ]
  },
  {
   "cell_type": "code",
   "execution_count": 6,
   "id": "8d2e846c-a12a-499b-8aa5-73b74621d50a",
   "metadata": {
    "tags": []
   },
   "outputs": [
    {
     "name": "stdout",
     "output_type": "stream",
     "text": [
      "<class 'pandas.core.frame.DataFrame'>\n",
      "RangeIndex: 4509586 entries, 0 to 4509585\n",
      "Data columns (total 11 columns):\n",
      " #   Column               Dtype  \n",
      "---  ------               -----  \n",
      " 0   sid                  int64  \n",
      " 1   profile_id           float64\n",
      " 2   profile_name         object \n",
      " 3   firstname_lastname   object \n",
      " 4   description          object \n",
      " 5   following            float64\n",
      " 6   followers            float64\n",
      " 7   n_posts              float64\n",
      " 8   url                  object \n",
      " 9   cts                  object \n",
      " 10  is_business_account  object \n",
      "dtypes: float64(4), int64(1), object(6)\n",
      "memory usage: 378.5+ MB\n"
     ]
    }
   ],
   "source": [
    "profiles.info()"
   ]
  },
  {
   "cell_type": "markdown",
   "id": "30ed34e4-1bdd-4c58-b99d-950d904b7821",
   "metadata": {},
   "source": [
    "With info function we can understand classes of our variables. they are 6 objects, 4 float64 and a int64"
   ]
  },
  {
   "cell_type": "code",
   "execution_count": 8,
   "id": "b680e687-deb4-423b-bdfc-e31e6c1242e5",
   "metadata": {
    "tags": []
   },
   "outputs": [
    {
     "data": {
      "text/html": [
       "<div>\n",
       "<style scoped>\n",
       "    .dataframe tbody tr th:only-of-type {\n",
       "        vertical-align: middle;\n",
       "    }\n",
       "\n",
       "    .dataframe tbody tr th {\n",
       "        vertical-align: top;\n",
       "    }\n",
       "\n",
       "    .dataframe thead th {\n",
       "        text-align: right;\n",
       "    }\n",
       "</style>\n",
       "<table border=\"1\" class=\"dataframe\">\n",
       "  <thead>\n",
       "    <tr style=\"text-align: right;\">\n",
       "      <th></th>\n",
       "      <th>sid</th>\n",
       "      <th>profile_id</th>\n",
       "      <th>following</th>\n",
       "      <th>followers</th>\n",
       "      <th>n_posts</th>\n",
       "    </tr>\n",
       "  </thead>\n",
       "  <tbody>\n",
       "    <tr>\n",
       "      <th>count</th>\n",
       "      <td>4.509586e+06</td>\n",
       "      <td>4.477139e+06</td>\n",
       "      <td>3.452771e+06</td>\n",
       "      <td>3.452771e+06</td>\n",
       "      <td>3.452771e+06</td>\n",
       "    </tr>\n",
       "    <tr>\n",
       "      <th>mean</th>\n",
       "      <td>2.255992e+06</td>\n",
       "      <td>3.083302e+09</td>\n",
       "      <td>1.405641e+03</td>\n",
       "      <td>4.739899e+03</td>\n",
       "      <td>4.095414e+02</td>\n",
       "    </tr>\n",
       "    <tr>\n",
       "      <th>std</th>\n",
       "      <td>1.301807e+06</td>\n",
       "      <td>4.266575e+10</td>\n",
       "      <td>8.113473e+03</td>\n",
       "      <td>1.939087e+05</td>\n",
       "      <td>1.041940e+03</td>\n",
       "    </tr>\n",
       "    <tr>\n",
       "      <th>min</th>\n",
       "      <td>1.186000e+03</td>\n",
       "      <td>4.000000e+00</td>\n",
       "      <td>0.000000e+00</td>\n",
       "      <td>0.000000e+00</td>\n",
       "      <td>0.000000e+00</td>\n",
       "    </tr>\n",
       "    <tr>\n",
       "      <th>25%</th>\n",
       "      <td>1.128596e+06</td>\n",
       "      <td>2.735177e+08</td>\n",
       "      <td>3.560000e+02</td>\n",
       "      <td>1.590000e+02</td>\n",
       "      <td>2.200000e+01</td>\n",
       "    </tr>\n",
       "    <tr>\n",
       "      <th>50%</th>\n",
       "      <td>2.255992e+06</td>\n",
       "      <td>1.649248e+09</td>\n",
       "      <td>7.540000e+02</td>\n",
       "      <td>4.060000e+02</td>\n",
       "      <td>1.200000e+02</td>\n",
       "    </tr>\n",
       "    <tr>\n",
       "      <th>75%</th>\n",
       "      <td>3.383389e+06</td>\n",
       "      <td>5.514691e+09</td>\n",
       "      <td>1.573000e+03</td>\n",
       "      <td>9.740000e+02</td>\n",
       "      <td>4.200000e+02</td>\n",
       "    </tr>\n",
       "    <tr>\n",
       "      <th>max</th>\n",
       "      <td>4.510785e+06</td>\n",
       "      <td>9.001013e+13</td>\n",
       "      <td>4.191080e+06</td>\n",
       "      <td>2.854576e+08</td>\n",
       "      <td>1.837300e+05</td>\n",
       "    </tr>\n",
       "  </tbody>\n",
       "</table>\n",
       "</div>"
      ],
      "text/plain": [
       "                sid    profile_id     following     followers       n_posts\n",
       "count  4.509586e+06  4.477139e+06  3.452771e+06  3.452771e+06  3.452771e+06\n",
       "mean   2.255992e+06  3.083302e+09  1.405641e+03  4.739899e+03  4.095414e+02\n",
       "std    1.301807e+06  4.266575e+10  8.113473e+03  1.939087e+05  1.041940e+03\n",
       "min    1.186000e+03  4.000000e+00  0.000000e+00  0.000000e+00  0.000000e+00\n",
       "25%    1.128596e+06  2.735177e+08  3.560000e+02  1.590000e+02  2.200000e+01\n",
       "50%    2.255992e+06  1.649248e+09  7.540000e+02  4.060000e+02  1.200000e+02\n",
       "75%    3.383389e+06  5.514691e+09  1.573000e+03  9.740000e+02  4.200000e+02\n",
       "max    4.510785e+06  9.001013e+13  4.191080e+06  2.854576e+08  1.837300e+05"
      ]
     },
     "execution_count": 8,
     "metadata": {},
     "output_type": "execute_result"
    }
   ],
   "source": [
    "profiles.describe()"
   ]
  },
  {
   "cell_type": "markdown",
   "id": "7445c6af-a7f0-4abb-936d-12569a3668fd",
   "metadata": {},
   "source": [
    "We can start analyzing features of numerical variables but we are interested only in last three columns, because first two are identifying variables. The minimum values of following, followers and n_post are all 0, and maximum values are 4.191080e+06,\t2.854576e+08 and 1.837300e+05. Mean of followers is bigger than the mean of following, but the median (that is more resistant statistic) of following is bigger than the followers one."
   ]
  },
  {
   "cell_type": "code",
   "execution_count": 3,
   "id": "59713895-842f-4e93-8615-5bed72bd54a1",
   "metadata": {},
   "outputs": [],
   "source": [
    "#profiles.is_business_account.fillna(False,inplace=True)\n",
    "print(profiles[\"is_business_account\"].value_counts())\n",
    "print(profiles[\"is_business_account\"].value_counts(normalize=True))\n",
    "import seaborn as sns\n",
    "import matplotlib.pyplot as plt\n",
    "\n",
    "sns.countplot(x=\"is_business_account\", data=profiles, edgecolor = 'black')"
   ]
  },
  {
   "cell_type": "markdown",
   "id": "a4db3ae8-8f73-4be4-a0a9-3f389d0aacf3",
   "metadata": {},
   "source": [
    "After importing seaborn and matplotlib, we can analyze what accounts are business. They are 855254 in 4509586 (24.8% of the population). In this case we are considering only profiles with no null values on the variable is_business_account."
   ]
  },
  {
   "cell_type": "code",
   "execution_count": 10,
   "id": "0225276f-d2ab-4233-ac89-04748d153a8b",
   "metadata": {
    "tags": []
   },
   "outputs": [],
   "source": [
    "def find_outliers(df):\n",
    "\n",
    "   q1=df.quantile(0.25)\n",
    "\n",
    "   q3=df.quantile(0.75)\n",
    "\n",
    "   IQR=q3-q1\n",
    "\n",
    "   outliers = df[((df<(q1-1.5*IQR)) | (df>(q3+1.5*IQR)))]\n",
    "\n",
    "   return outliers\n"
   ]
  },
  {
   "cell_type": "markdown",
   "id": "b010ad1b-d3d2-45b2-a390-7f05e7c6b61d",
   "metadata": {},
   "source": [
    "This is a function to find outliers, based on interquantile difference"
   ]
  },
  {
   "cell_type": "code",
   "execution_count": 11,
   "id": "f98560d0-0fdd-41f2-8329-8026ac239e6a",
   "metadata": {
    "tags": []
   },
   "outputs": [
    {
     "name": "stdout",
     "output_type": "stream",
     "text": [
      "number of outliers of following variable: 370009\n",
      "max outlier value of following variable: 4191080.0\n",
      "min outlier value of following variable: 3399.0\n"
     ]
    },
    {
     "data": {
      "image/png": "[encoded data removed]",
      "text/plain": [
       "<Figure size 1440x360 with 2 Axes>"
      ]
     },
     "metadata": {
      "needs_background": "light"
     },
     "output_type": "display_data"
    }
   ],
   "source": [
    "nofollowing=find_outliers(profiles['following'])\n",
    "print('number of outliers of following variable: '+ str(len(nofollowing)))\n",
    "print('max outlier value of following variable: '+ str(nofollowing.max()))\n",
    "print('min outlier value of following variable: '+ str(nofollowing.min()))\n",
    "\n",
    "plt.figure(figsize=(20,5))\n",
    "\n",
    "ax1 = plt.subplot(1, 2, 1)\n",
    "ax1.set_title(\"Boxplot of # of following per user\", {\"fontsize\":16, \"color\":\"blue\"})\n",
    "profiles.following.plot.box(vert = False)\n",
    "\n",
    "ax2 = plt.subplot(1, 2, 2)\n",
    "ax2.set_title(\"Boxplot of # of following per user without outliers\", {\"fontsize\":16, \"color\":\"blue\"})\n",
    "profiles.following.plot.box(showfliers=False, vert = False, fontsize = \"large\")\n",
    "plt.show()"
   ]
  },
  {
   "cell_type": "markdown",
   "id": "40d4d20f-9a60-4ce2-8b07-a52152164f54",
   "metadata": {},
   "source": [
    "These boxplots show the number of following with and without outliers"
   ]
  },
  {
   "cell_type": "code",
   "execution_count": 43,
   "id": "bbd3a602-a0bf-46a7-a484-32b76564786c",
   "metadata": {},
   "outputs": [
    {
     "data": {
      "image/png": "[encoded data removed]",
      "text/plain": [
       "<Figure size 1440x360 with 2 Axes>"
      ]
     },
     "metadata": {
      "needs_background": "light"
     },
     "output_type": "display_data"
    }
   ],
   "source": [
    "plt.figure(figsize=(20, 5))\n",
    "\n",
    "ax1 = plt.subplot(1, 2, 1)\n",
    "ax1.set_title(\"Histogram of # of following per user\", {\"fontsize\":16, \"color\":\"blue\"})\n",
    "profiles.following.plot.hist(color='lightgreen',edgecolor='black')\n",
    "\n",
    "ax2 = plt.subplot(1, 2, 2)\n",
    "followen = profiles[profiles['following']<3500]\n",
    "ax2.set_title(\"Histogram of # of following per user without outliers\", {\"fontsize\":16, \"color\":\"blue\"})\n",
    "plt.hist(followen['following'], bins = 20,color='lightgreen',edgecolor='black')\n",
    "plt.show()"
   ]
  },
  {
   "cell_type": "markdown",
   "id": "3daf1fd2-2805-4117-9b10-4457c14e4c5f",
   "metadata": {},
   "source": [
    "These histograms show the number of following with and without outliers (are considered outliers those profiles with more than 3500 following)"
   ]
  },
  {
   "cell_type": "code",
   "execution_count": 17,
   "id": "27b97cbd-67bb-4939-ab22-25ae9f8ede37",
   "metadata": {},
   "outputs": [
    {
     "name": "stdout",
     "output_type": "stream",
     "text": [
      "number of outliers of followers variable: 385054\n",
      "max outlier value of followers variable: 285457645.0\n",
      "min outlier value of followers variable: 2197.0\n"
     ]
    },
    {
     "data": {
      "image/png": "[encoded data removed]",
      "text/plain": [
       "<Figure size 1440x360 with 2 Axes>"
      ]
     },
     "metadata": {
      "needs_background": "light"
     },
     "output_type": "display_data"
    }
   ],
   "source": [
    "nofollowers=find_outliers(profiles['followers'])\n",
    "print('number of outliers of followers variable: '+ str(len(nofollowers)))\n",
    "print('max outlier value of followers variable: '+ str(nofollowers.max()))\n",
    "print('min outlier value of followers variable: '+ str(nofollowers.min()))\n",
    "\n",
    "plt.figure(figsize=(20, 5))\n",
    "\n",
    "ax1 = plt.subplot(1, 2, 1)\n",
    "ax1.set_title(\"Boxplot of # of followers per user\", {\"fontsize\":16, \"color\":\"lightblue\"})\n",
    "profiles.followers.plot.box(vert = False)\n",
    "\n",
    "ax2 = plt.subplot(1, 2, 2)\n",
    "ax2.set_title(\"Boxplot of # of followers per user without outliers\", {\"fontsize\":16, \"color\":\"lightblue\"})\n",
    "profiles.followers.plot.box(showfliers=False, vert = False, fontsize = \"large\")\n",
    "plt.show()"
   ]
  },
  {
   "cell_type": "markdown",
   "id": "abe4e14b-7fe4-4543-a7db-72c166d17ee4",
   "metadata": {},
   "source": [
    "These boxplots show the number of following with and without outliers.\n",
    "In following and followers, some outliers are very far from the distribution. The maximum outliers are 4191080.0 for following and 285457645.0 for followers"
   ]
  },
  {
   "cell_type": "code",
   "execution_count": 44,
   "id": "45a6c839-3d71-4a4c-97bf-ffb63edffeb8",
   "metadata": {},
   "outputs": [
    {
     "data": {
      "image/png": "[encoded data removed]",
      "text/plain": [
       "<Figure size 1440x360 with 2 Axes>"
      ]
     },
     "metadata": {
      "needs_background": "light"
     },
     "output_type": "display_data"
    }
   ],
   "source": [
    "plt.figure(figsize=(20, 5))\n",
    "\n",
    "ax1 = plt.subplot(1, 2, 1)\n",
    "ax1.set_title(\"Histogram of # of followers per user\", {\"fontsize\":16, \"color\":\"blue\"})\n",
    "profiles.followers.plot.hist(color='lightblue',edgecolor='black')\n",
    "\n",
    "ax2 = plt.subplot(1, 2, 2)\n",
    "followezz = profiles[profiles['followers']<2500]\n",
    "ax2.set_title(\"Histogram of # of followers per user without outliers\", {\"fontsize\":16, \"color\":\"blue\"})\n",
    "plt.hist(followezz['followers'], bins = 20,color='lightblue',edgecolor='black')\n",
    "plt.show()"
   ]
  },
  {
   "cell_type": "markdown",
   "id": "98eac3eb-ba09-4706-978f-baad6ed1657e",
   "metadata": {},
   "source": [
    "These histograms show the number of followers with and without outliers (are considered outliers those profiles with more than 2500 followers)"
   ]
  },
  {
   "cell_type": "code",
   "execution_count": 18,
   "id": "382ca90f-d02b-4395-9e79-4f43cbd1a4b0",
   "metadata": {
    "tags": []
   },
   "outputs": [
    {
     "name": "stdout",
     "output_type": "stream",
     "text": [
      "number of outliers of n_posts variable: 349151\n",
      "max outlier value of n_posts variable: 183730.0\n",
      "min outlier value of n_posts variable: 1018.0\n"
     ]
    },
    {
     "data": {
      "image/png": "[encoded data removed]",
      "text/plain": [
       "<Figure size 1440x360 with 2 Axes>"
      ]
     },
     "metadata": {
      "needs_background": "light"
     },
     "output_type": "display_data"
    }
   ],
   "source": [
    "noposts=find_outliers(profiles['n_posts'])\n",
    "print('number of outliers of n_posts variable: '+ str(len(noposts)))\n",
    "print('max outlier value of n_posts variable: '+ str(noposts.max()))\n",
    "print('min outlier value of n_posts variable: '+ str(noposts.min()))\n",
    "\n",
    "plt.figure(figsize=(20, 5))\n",
    "\n",
    "ax1 = plt.subplot(1, 2, 1)\n",
    "ax1.set_title(\"Boxplot of # of posts per user\", {\"fontsize\":16, \"color\":\"thistle\"})\n",
    "profiles.n_posts.plot.box(vert = False)\n",
    "\n",
    "ax2 = plt.subplot(1, 2, 2)\n",
    "ax2.set_title(\"Boxplot of # of posts per user without outliers\", {\"fontsize\":16, \"color\":\"thistle\"})\n",
    "profiles.n_posts.plot.box(showfliers=False, vert = False, fontsize = \"large\")\n",
    "plt.show()"
   ]
  },
  {
   "cell_type": "markdown",
   "id": "5e6acc52-b5c0-4619-94da-7abb5f912fa1",
   "metadata": {},
   "source": [
    "These boxplots show the number of following with and without outliers"
   ]
  },
  {
   "cell_type": "code",
   "execution_count": 45,
   "id": "51f0f1dd-3b9e-415b-b682-910a7d446228",
   "metadata": {},
   "outputs": [
    {
     "data": {
      "image/png": "[encoded data removed]",
      "text/plain": [
       "<Figure size 1440x360 with 2 Axes>"
      ]
     },
     "metadata": {
      "needs_background": "light"
     },
     "output_type": "display_data"
    }
   ],
   "source": [
    "plt.figure(figsize=(20, 5))\n",
    "\n",
    "ax1 = plt.subplot(1, 2, 1)\n",
    "ax1.set_title(\"Histogram of # of posts per user\", {\"fontsize\":16, \"color\":\"blue\"})\n",
    "profiles.n_posts.plot.hist(color='thistle',edgecolor='black')\n",
    "\n",
    "ax2 = plt.subplot(1, 2, 2)\n",
    "post = profiles[profiles['n_posts']<1000]\n",
    "ax2.set_title(\"Histogram of # of posts per user without outliers\", {\"fontsize\":16, \"color\":\"blue\"})\n",
    "plt.hist(post['n_posts'], bins = 20,color='thistle',edgecolor='black')\n",
    "plt.show()"
   ]
  },
  {
   "cell_type": "markdown",
   "id": "a4693cca-6b95-4f2c-8875-96efe64c4e06",
   "metadata": {},
   "source": [
    "These histograms show the number of posts with and without outliers (are considered outliers those profiles with more than 1000 posts). A biggest part of the distribution is near to 0"
   ]
  },
  {
   "cell_type": "markdown",
   "id": "c3a27b57-57ad-480b-82a8-f072075c6d84",
   "metadata": {},
   "source": [
    "Now let's see if there are null values"
   ]
  },
  {
   "cell_type": "code",
   "execution_count": 21,
   "id": "0732cd89-c3bf-4278-82b7-88fc8b23113b",
   "metadata": {
    "tags": []
   },
   "outputs": [
    {
     "data": {
      "text/plain": [
       "sid                          0\n",
       "profile_id               32447\n",
       "profile_name                 0\n",
       "firstname_lastname      288465\n",
       "description            2055996\n",
       "following              1056815\n",
       "followers              1056815\n",
       "n_posts                1056815\n",
       "url                    3639312\n",
       "cts                     438488\n",
       "is_business_account    1064263\n",
       "dtype: int64"
      ]
     },
     "execution_count": 21,
     "metadata": {},
     "output_type": "execute_result"
    }
   ],
   "source": [
    "profiles.isnull().sum()"
   ]
  },
  {
   "cell_type": "code",
   "execution_count": 47,
   "id": "e78c3115-2b67-4f70-b7b5-9ae86b2b2fda",
   "metadata": {
    "tags": []
   },
   "outputs": [
    {
     "name": "stdout",
     "output_type": "stream",
     "text": [
      "profile_id : 0.72%\n",
      "firstname_lastname : 6.40%\n",
      "description : 45.59%\n",
      "following : 23.43%\n",
      "followers : 23.43%\n",
      "n_posts : 23.43%\n",
      "url : 80.70%\n",
      "cts : 9.72%\n",
      "is_business_account : 23.60%\n"
     ]
    }
   ],
   "source": [
    "for column in profiles.columns:\n",
    "    if profiles[column].isnull().sum() > 0:\n",
    "        print(column, ': {:.2%}'.format(profiles[column].isnull().sum() /\n",
    "                                               profiles[column].shape[0]))"
   ]
  },
  {
   "cell_type": "markdown",
   "id": "d2ee29f7-1d70-46b7-a749-0bc0b7aadb2a",
   "metadata": {},
   "source": [
    "These are the percentages of null values in each variable.  We could replace these values with an empty string. There are also others methods such as raplace null values with the median of a variable or exclude the whole row. In this example we'll replace them with an empty string"
   ]
  },
  {
   "cell_type": "code",
   "execution_count": 48,
   "id": "ff97a15c-cbc9-4062-9cab-94e1f62bddd8",
   "metadata": {},
   "outputs": [],
   "source": [
    "profiles_copy = profiles.copy()"
   ]
  },
  {
   "cell_type": "code",
   "execution_count": 49,
   "id": "471655c5-c948-4ba3-9d3c-e86fa79ecb07",
   "metadata": {
    "tags": []
   },
   "outputs": [],
   "source": [
    "profiles_copy.firstname_lastname.fillna('', inplace=True)\n",
    "profiles_copy.description.fillna('', inplace=True)\n",
    "profiles_copy.url.fillna('', inplace=True)\n",
    "profiles_copy.cts.fillna('', inplace=True)\n"
   ]
  },
  {
   "cell_type": "markdown",
   "id": "eb515bf9-c314-4965-85c0-29e39329bae8",
   "metadata": {},
   "source": [
    "In some cases we could replace null values with 'False'. We could assume that when not specified it is a not business account"
   ]
  },
  {
   "cell_type": "code",
   "execution_count": 50,
   "id": "fbabca1c-84e7-445e-88da-fa38ea998b10",
   "metadata": {},
   "outputs": [
    {
     "name": "stdout",
     "output_type": "stream",
     "text": [
      "False    3654332\n",
      "True      855254\n",
      "Name: is_business_account, dtype: int64\n"
     ]
    }
   ],
   "source": [
    "profiles_copy.is_business_account.fillna(False, inplace=True)\n",
    "c=profiles_copy[\"is_business_account\"].value_counts()\n",
    "print(c)"
   ]
  },
  {
   "cell_type": "code",
   "execution_count": 55,
   "id": "372f722f-9c52-4256-b377-0aae36e4c5a2",
   "metadata": {
    "tags": []
   },
   "outputs": [
    {
     "data": {
      "text/plain": [
       "<AxesSubplot:xlabel='following', ylabel='followers'>"
      ]
     },
     "execution_count": 55,
     "metadata": {},
     "output_type": "execute_result"
    },
    {
     "data": {
      "image/png": "[encoded data removed]",
      "text/plain": [
       "<Figure size 432x288 with 1 Axes>"
      ]
     },
     "metadata": {
      "needs_background": "light"
     },
     "output_type": "display_data"
    }
   ],
   "source": [
    "profiles_copy.plot(x='following', y='followers', kind='scatter')"
   ]
  },
  {
   "cell_type": "markdown",
   "id": "3fe69b90-adc7-4c18-af16-6ada98129eef",
   "metadata": {},
   "source": [
    "With this scatter plot we can see that usually there are more followinf than followers in an instagram profiles"
   ]
  },
  {
   "cell_type": "markdown",
   "id": "09137af6-be5b-429f-8a0b-8af031fc4d06",
   "metadata": {},
   "source": [
    "### Locations"
   ]
  },
  {
   "cell_type": "code",
   "execution_count": 4,
   "id": "d12e4053-b6ef-419c-bd58-724edd2d6c35",
   "metadata": {},
   "outputs": [],
   "source": [
    "import pandas as pd\n",
    "locations = pd.read_csv('~/instagram_locations.zip', delimiter='\\t')"
   ]
  },
  {
   "cell_type": "markdown",
   "id": "077144eb-ab8e-40fb-a08c-8ede19662b49",
   "metadata": {},
   "source": [
    "As we did before, we can extract the head and the tail of locations distribution to see in general our data"
   ]
  },
  {
   "cell_type": "code",
   "execution_count": 56,
   "id": "5312d594-2007-4f3a-92e6-c841c678fa0b",
   "metadata": {
    "tags": []
   },
   "outputs": [
    {
     "data": {
      "text/html": [
       "<div>\n",
       "<style scoped>\n",
       "    .dataframe tbody tr th:only-of-type {\n",
       "        vertical-align: middle;\n",
       "    }\n",
       "\n",
       "    .dataframe tbody tr th {\n",
       "        vertical-align: top;\n",
       "    }\n",
       "\n",
       "    .dataframe thead th {\n",
       "        text-align: right;\n",
       "    }\n",
       "</style>\n",
       "<table border=\"1\" class=\"dataframe\">\n",
       "  <thead>\n",
       "    <tr style=\"text-align: right;\">\n",
       "      <th></th>\n",
       "      <th>sid</th>\n",
       "      <th>id</th>\n",
       "      <th>name</th>\n",
       "      <th>street</th>\n",
       "      <th>zip</th>\n",
       "      <th>city</th>\n",
       "      <th>region</th>\n",
       "      <th>cd</th>\n",
       "      <th>phone</th>\n",
       "      <th>aj_exact_city_match</th>\n",
       "      <th>...</th>\n",
       "      <th>dir_city_name</th>\n",
       "      <th>dir_city_slug</th>\n",
       "      <th>dir_country_id</th>\n",
       "      <th>dir_country_name</th>\n",
       "      <th>lat</th>\n",
       "      <th>lng</th>\n",
       "      <th>primary_alias_on_fb</th>\n",
       "      <th>slug</th>\n",
       "      <th>website</th>\n",
       "      <th>cts</th>\n",
       "    </tr>\n",
       "  </thead>\n",
       "  <tbody>\n",
       "    <tr>\n",
       "      <th>0</th>\n",
       "      <td>719981</td>\n",
       "      <td>110296492939207</td>\n",
       "      <td>Playa de Daimuz - Valencia, España</td>\n",
       "      <td>NaN</td>\n",
       "      <td>NaN</td>\n",
       "      <td>NaN</td>\n",
       "      <td>NaN</td>\n",
       "      <td>NaN</td>\n",
       "      <td>NaN</td>\n",
       "      <td>False</td>\n",
       "      <td>...</td>\n",
       "      <td>NaN</td>\n",
       "      <td>NaN</td>\n",
       "      <td>NaN</td>\n",
       "      <td>NaN</td>\n",
       "      <td>-0.139475</td>\n",
       "      <td>38.974391</td>\n",
       "      <td>daimuzplaya</td>\n",
       "      <td>playa-de-daimuz-valencia-espana</td>\n",
       "      <td>https://es.wikipedia.org/wiki/Daimuz</td>\n",
       "      <td>2019-05-29 01:21:29.987</td>\n",
       "    </tr>\n",
       "    <tr>\n",
       "      <th>1</th>\n",
       "      <td>719983</td>\n",
       "      <td>274391278</td>\n",
       "      <td>Nová Vieska</td>\n",
       "      <td>NaN</td>\n",
       "      <td>NaN</td>\n",
       "      <td>Nová Vieska</td>\n",
       "      <td>NaN</td>\n",
       "      <td>SK</td>\n",
       "      <td>NaN</td>\n",
       "      <td>True</td>\n",
       "      <td>...</td>\n",
       "      <td>Kis-Újfalu</td>\n",
       "      <td>kis-ujfalu</td>\n",
       "      <td>SK</td>\n",
       "      <td>Slovakia</td>\n",
       "      <td>18.466667</td>\n",
       "      <td>47.866667</td>\n",
       "      <td>NaN</td>\n",
       "      <td>nova-vieska</td>\n",
       "      <td>NaN</td>\n",
       "      <td>2019-05-29 01:21:38.037</td>\n",
       "    </tr>\n",
       "    <tr>\n",
       "      <th>2</th>\n",
       "      <td>719985</td>\n",
       "      <td>148885595789195</td>\n",
       "      <td>Everest Today</td>\n",
       "      <td>Himalayas</td>\n",
       "      <td>+977</td>\n",
       "      <td>Kathmandu, Nepal</td>\n",
       "      <td>NaN</td>\n",
       "      <td>NP</td>\n",
       "      <td>NaN</td>\n",
       "      <td>False</td>\n",
       "      <td>...</td>\n",
       "      <td>Pasupati</td>\n",
       "      <td>pasupati</td>\n",
       "      <td>NP</td>\n",
       "      <td>Nepal</td>\n",
       "      <td>85.330150</td>\n",
       "      <td>27.701960</td>\n",
       "      <td>EverestToday</td>\n",
       "      <td>everest-today</td>\n",
       "      <td>NaN</td>\n",
       "      <td>2019-05-29 01:21:46.295</td>\n",
       "    </tr>\n",
       "    <tr>\n",
       "      <th>3</th>\n",
       "      <td>719987</td>\n",
       "      <td>263258277</td>\n",
       "      <td>BULAC - Bibliothèque universitaire des langues...</td>\n",
       "      <td>65, rue des Grands-Moulins</td>\n",
       "      <td>75013</td>\n",
       "      <td>Paris, France</td>\n",
       "      <td>NaN</td>\n",
       "      <td>FR</td>\n",
       "      <td>01 81 69 18 00</td>\n",
       "      <td>False</td>\n",
       "      <td>...</td>\n",
       "      <td>13ème Arrondissement Paris</td>\n",
       "      <td>13eme-arrondissement-paris</td>\n",
       "      <td>FR</td>\n",
       "      <td>France</td>\n",
       "      <td>2.375995</td>\n",
       "      <td>48.827240</td>\n",
       "      <td>BULAC.Paris</td>\n",
       "      <td>bulac-bibliotheque-universitaire-des-langues-e...</td>\n",
       "      <td>www.bulac.fr</td>\n",
       "      <td>2019-05-29 01:21:54.355</td>\n",
       "    </tr>\n",
       "    <tr>\n",
       "      <th>4</th>\n",
       "      <td>326443</td>\n",
       "      <td>406147529857708</td>\n",
       "      <td>ABC Cable Networks Group</td>\n",
       "      <td>3800 W Alameda Ave</td>\n",
       "      <td>91505</td>\n",
       "      <td>Burbank, California</td>\n",
       "      <td>NaN</td>\n",
       "      <td>US</td>\n",
       "      <td>(818) 569-7500</td>\n",
       "      <td>False</td>\n",
       "      <td>...</td>\n",
       "      <td>NaN</td>\n",
       "      <td>NaN</td>\n",
       "      <td>NaN</td>\n",
       "      <td>NaN</td>\n",
       "      <td>-118.341864</td>\n",
       "      <td>34.153265</td>\n",
       "      <td>NaN</td>\n",
       "      <td>abc-cable-networks-group</td>\n",
       "      <td>NaN</td>\n",
       "      <td>2019-04-02 15:22:55.703</td>\n",
       "    </tr>\n",
       "  </tbody>\n",
       "</table>\n",
       "<p>5 rows × 23 columns</p>\n",
       "</div>"
      ],
      "text/plain": [
       "      sid               id                                               name  \\\n",
       "0  719981  110296492939207                 Playa de Daimuz - Valencia, España   \n",
       "1  719983        274391278                                        Nová Vieska   \n",
       "2  719985  148885595789195                                      Everest Today   \n",
       "3  719987        263258277  BULAC - Bibliothèque universitaire des langues...   \n",
       "4  326443  406147529857708                           ABC Cable Networks Group   \n",
       "\n",
       "                       street    zip                 city region   cd  \\\n",
       "0                         NaN    NaN                  NaN    NaN  NaN   \n",
       "1                         NaN    NaN          Nová Vieska    NaN   SK   \n",
       "2                   Himalayas   +977     Kathmandu, Nepal    NaN   NP   \n",
       "3  65, rue des Grands-Moulins  75013        Paris, France    NaN   FR   \n",
       "4          3800 W Alameda Ave  91505  Burbank, California    NaN   US   \n",
       "\n",
       "            phone aj_exact_city_match  ...               dir_city_name  \\\n",
       "0             NaN               False  ...                         NaN   \n",
       "1             NaN                True  ...                  Kis-Újfalu   \n",
       "2             NaN               False  ...                    Pasupati   \n",
       "3  01 81 69 18 00               False  ...  13ème Arrondissement Paris   \n",
       "4  (818) 569-7500               False  ...                         NaN   \n",
       "\n",
       "                dir_city_slug dir_country_id dir_country_name         lat  \\\n",
       "0                         NaN            NaN              NaN   -0.139475   \n",
       "1                  kis-ujfalu             SK         Slovakia   18.466667   \n",
       "2                    pasupati             NP            Nepal   85.330150   \n",
       "3  13eme-arrondissement-paris             FR           France    2.375995   \n",
       "4                         NaN            NaN              NaN -118.341864   \n",
       "\n",
       "         lng primary_alias_on_fb  \\\n",
       "0  38.974391         daimuzplaya   \n",
       "1  47.866667                 NaN   \n",
       "2  27.701960        EverestToday   \n",
       "3  48.827240         BULAC.Paris   \n",
       "4  34.153265                 NaN   \n",
       "\n",
       "                                                slug  \\\n",
       "0                    playa-de-daimuz-valencia-espana   \n",
       "1                                        nova-vieska   \n",
       "2                                      everest-today   \n",
       "3  bulac-bibliotheque-universitaire-des-langues-e...   \n",
       "4                           abc-cable-networks-group   \n",
       "\n",
       "                                website                      cts  \n",
       "0  https://es.wikipedia.org/wiki/Daimuz  2019-05-29 01:21:29.987  \n",
       "1                                   NaN  2019-05-29 01:21:38.037  \n",
       "2                                   NaN  2019-05-29 01:21:46.295  \n",
       "3                          www.bulac.fr  2019-05-29 01:21:54.355  \n",
       "4                                   NaN  2019-04-02 15:22:55.703  \n",
       "\n",
       "[5 rows x 23 columns]"
      ]
     },
     "execution_count": 56,
     "metadata": {},
     "output_type": "execute_result"
    }
   ],
   "source": [
    "locations.head()"
   ]
  },
  {
   "cell_type": "code",
   "execution_count": 39,
   "id": "0083ede9-8698-4e51-a67f-8e56e1bb1964",
   "metadata": {
    "tags": []
   },
   "outputs": [
    {
     "data": {
      "text/html": [
       "<div>\n",
       "<style scoped>\n",
       "    .dataframe tbody tr th:only-of-type {\n",
       "        vertical-align: middle;\n",
       "    }\n",
       "\n",
       "    .dataframe tbody tr th {\n",
       "        vertical-align: top;\n",
       "    }\n",
       "\n",
       "    .dataframe thead th {\n",
       "        text-align: right;\n",
       "    }\n",
       "</style>\n",
       "<table border=\"1\" class=\"dataframe\">\n",
       "  <thead>\n",
       "    <tr style=\"text-align: right;\">\n",
       "      <th></th>\n",
       "      <th>sid</th>\n",
       "      <th>id</th>\n",
       "      <th>name</th>\n",
       "      <th>street</th>\n",
       "      <th>zip</th>\n",
       "      <th>city</th>\n",
       "      <th>region</th>\n",
       "      <th>cd</th>\n",
       "      <th>phone</th>\n",
       "      <th>aj_exact_city_match</th>\n",
       "      <th>...</th>\n",
       "      <th>dir_city_name</th>\n",
       "      <th>dir_city_slug</th>\n",
       "      <th>dir_country_id</th>\n",
       "      <th>dir_country_name</th>\n",
       "      <th>lat</th>\n",
       "      <th>lng</th>\n",
       "      <th>primary_alias_on_fb</th>\n",
       "      <th>slug</th>\n",
       "      <th>website</th>\n",
       "      <th>cts</th>\n",
       "    </tr>\n",
       "  </thead>\n",
       "  <tbody>\n",
       "    <tr>\n",
       "      <th>1022653</th>\n",
       "      <td>719973</td>\n",
       "      <td>873926439475785</td>\n",
       "      <td>Baby Season</td>\n",
       "      <td>Suarez de Figueroa # 380</td>\n",
       "      <td>NaN</td>\n",
       "      <td>Santa Cruz de la Sierra, Bolivia</td>\n",
       "      <td>NaN</td>\n",
       "      <td>BO</td>\n",
       "      <td>69118383</td>\n",
       "      <td>False</td>\n",
       "      <td>...</td>\n",
       "      <td>Santa Cruz de la Sierra</td>\n",
       "      <td>santa-cruz-de-la-sierra</td>\n",
       "      <td>BO</td>\n",
       "      <td>Bolivia</td>\n",
       "      <td>-63.185307</td>\n",
       "      <td>-17.786130</td>\n",
       "      <td>babyseason.srl</td>\n",
       "      <td>baby-season</td>\n",
       "      <td>NaN</td>\n",
       "      <td>2019-05-29 01:20:57.078</td>\n",
       "    </tr>\n",
       "    <tr>\n",
       "      <th>1022654</th>\n",
       "      <td>719975</td>\n",
       "      <td>390707529</td>\n",
       "      <td>Cueva Carvajal</td>\n",
       "      <td>NaN</td>\n",
       "      <td>NaN</td>\n",
       "      <td>NaN</td>\n",
       "      <td>NaN</td>\n",
       "      <td>NaN</td>\n",
       "      <td>+52 81 2089 7776</td>\n",
       "      <td>NaN</td>\n",
       "      <td>...</td>\n",
       "      <td>NaN</td>\n",
       "      <td>NaN</td>\n",
       "      <td>NaN</td>\n",
       "      <td>NaN</td>\n",
       "      <td>-100.359619</td>\n",
       "      <td>25.653550</td>\n",
       "      <td>CuevaCarvajalBrewPub</td>\n",
       "      <td>cueva-carvajal</td>\n",
       "      <td>http://www.cuevacarvajal.mx</td>\n",
       "      <td>2019-05-29 01:21:04.434</td>\n",
       "    </tr>\n",
       "    <tr>\n",
       "      <th>1022655</th>\n",
       "      <td>719977</td>\n",
       "      <td>1205466612894741</td>\n",
       "      <td>The Cheesecake Factory</td>\n",
       "      <td>304 Orland Square Dr</td>\n",
       "      <td>60462</td>\n",
       "      <td>Orland Park, Illinois</td>\n",
       "      <td>NaN</td>\n",
       "      <td>US</td>\n",
       "      <td>(708) 873-3747</td>\n",
       "      <td>False</td>\n",
       "      <td>...</td>\n",
       "      <td>Manor Homes</td>\n",
       "      <td>manor-homes</td>\n",
       "      <td>US</td>\n",
       "      <td>United States</td>\n",
       "      <td>-87.843649</td>\n",
       "      <td>41.618551</td>\n",
       "      <td>NaN</td>\n",
       "      <td>the-cheesecake-factory</td>\n",
       "      <td>http://locations.thecheesecakefactory.com/il/o...</td>\n",
       "      <td>2019-05-29 01:21:13.404</td>\n",
       "    </tr>\n",
       "    <tr>\n",
       "      <th>1022656</th>\n",
       "      <td>719979</td>\n",
       "      <td>286794844</td>\n",
       "      <td>Plimmer Towers</td>\n",
       "      <td>2 Gilmer Terrace</td>\n",
       "      <td>NaN</td>\n",
       "      <td>Wellington, New Zealand</td>\n",
       "      <td>NaN</td>\n",
       "      <td>NZ</td>\n",
       "      <td>NaN</td>\n",
       "      <td>False</td>\n",
       "      <td>...</td>\n",
       "      <td>NaN</td>\n",
       "      <td>NaN</td>\n",
       "      <td>NaN</td>\n",
       "      <td>NaN</td>\n",
       "      <td>174.775000</td>\n",
       "      <td>-41.285800</td>\n",
       "      <td>NaN</td>\n",
       "      <td>plimmer-towers</td>\n",
       "      <td>NaN</td>\n",
       "      <td>2019-05-29 01:21:21.628</td>\n",
       "    </tr>\n",
       "    <tr>\n",
       "      <th>1022657</th>\n",
       "      <td>720678</td>\n",
       "      <td>554330673</td>\n",
       "      <td>Старые Бирюли</td>\n",
       "      <td>Северная улица</td>\n",
       "      <td>NaN</td>\n",
       "      <td>NaN</td>\n",
       "      <td>NaN</td>\n",
       "      <td>NaN</td>\n",
       "      <td>NaN</td>\n",
       "      <td>False</td>\n",
       "      <td>...</td>\n",
       "      <td>NaN</td>\n",
       "      <td>NaN</td>\n",
       "      <td>NaN</td>\n",
       "      <td>NaN</td>\n",
       "      <td>49.444430</td>\n",
       "      <td>55.979180</td>\n",
       "      <td>NaN</td>\n",
       "      <td>NaN</td>\n",
       "      <td>NaN</td>\n",
       "      <td>2019-05-29 02:07:00.772</td>\n",
       "    </tr>\n",
       "  </tbody>\n",
       "</table>\n",
       "<p>5 rows × 23 columns</p>\n",
       "</div>"
      ],
      "text/plain": [
       "            sid                id                    name  \\\n",
       "1022653  719973   873926439475785             Baby Season   \n",
       "1022654  719975         390707529          Cueva Carvajal   \n",
       "1022655  719977  1205466612894741  The Cheesecake Factory   \n",
       "1022656  719979         286794844          Plimmer Towers   \n",
       "1022657  720678         554330673           Старые Бирюли   \n",
       "\n",
       "                           street    zip                              city  \\\n",
       "1022653  Suarez de Figueroa # 380    NaN  Santa Cruz de la Sierra, Bolivia   \n",
       "1022654                       NaN    NaN                               NaN   \n",
       "1022655      304 Orland Square Dr  60462             Orland Park, Illinois   \n",
       "1022656          2 Gilmer Terrace    NaN           Wellington, New Zealand   \n",
       "1022657            Северная улица    NaN                               NaN   \n",
       "\n",
       "        region   cd             phone aj_exact_city_match  ...  \\\n",
       "1022653    NaN   BO          69118383               False  ...   \n",
       "1022654    NaN  NaN  +52 81 2089 7776                 NaN  ...   \n",
       "1022655    NaN   US    (708) 873-3747               False  ...   \n",
       "1022656    NaN   NZ               NaN               False  ...   \n",
       "1022657    NaN  NaN               NaN               False  ...   \n",
       "\n",
       "                   dir_city_name            dir_city_slug dir_country_id  \\\n",
       "1022653  Santa Cruz de la Sierra  santa-cruz-de-la-sierra             BO   \n",
       "1022654                      NaN                      NaN            NaN   \n",
       "1022655              Manor Homes              manor-homes             US   \n",
       "1022656                      NaN                      NaN            NaN   \n",
       "1022657                      NaN                      NaN            NaN   \n",
       "\n",
       "        dir_country_name         lat        lng   primary_alias_on_fb  \\\n",
       "1022653          Bolivia  -63.185307 -17.786130        babyseason.srl   \n",
       "1022654              NaN -100.359619  25.653550  CuevaCarvajalBrewPub   \n",
       "1022655    United States  -87.843649  41.618551                   NaN   \n",
       "1022656              NaN  174.775000 -41.285800                   NaN   \n",
       "1022657              NaN   49.444430  55.979180                   NaN   \n",
       "\n",
       "                           slug  \\\n",
       "1022653             baby-season   \n",
       "1022654          cueva-carvajal   \n",
       "1022655  the-cheesecake-factory   \n",
       "1022656          plimmer-towers   \n",
       "1022657                     NaN   \n",
       "\n",
       "                                                   website  \\\n",
       "1022653                                                NaN   \n",
       "1022654                        http://www.cuevacarvajal.mx   \n",
       "1022655  http://locations.thecheesecakefactory.com/il/o...   \n",
       "1022656                                                NaN   \n",
       "1022657                                                NaN   \n",
       "\n",
       "                             cts  \n",
       "1022653  2019-05-29 01:20:57.078  \n",
       "1022654  2019-05-29 01:21:04.434  \n",
       "1022655  2019-05-29 01:21:13.404  \n",
       "1022656  2019-05-29 01:21:21.628  \n",
       "1022657  2019-05-29 02:07:00.772  \n",
       "\n",
       "[5 rows x 23 columns]"
      ]
     },
     "execution_count": 39,
     "metadata": {},
     "output_type": "execute_result"
    }
   ],
   "source": [
    "locations.tail()"
   ]
  },
  {
   "cell_type": "code",
   "execution_count": 40,
   "id": "35332f73-b946-4b15-8574-b3c49e7e05d8",
   "metadata": {},
   "outputs": [
    {
     "data": {
      "text/plain": [
       "(1022658, 23)"
      ]
     },
     "execution_count": 40,
     "metadata": {},
     "output_type": "execute_result"
    }
   ],
   "source": [
    "locations.shape"
   ]
  },
  {
   "cell_type": "code",
   "execution_count": 41,
   "id": "f9c6701c-fb9e-41b1-bf2b-445abcf2cb0e",
   "metadata": {
    "tags": []
   },
   "outputs": [
    {
     "name": "stdout",
     "output_type": "stream",
     "text": [
      "<class 'pandas.core.frame.DataFrame'>\n",
      "RangeIndex: 1022658 entries, 0 to 1022657\n",
      "Data columns (total 23 columns):\n",
      " #   Column                  Non-Null Count    Dtype  \n",
      "---  ------                  --------------    -----  \n",
      " 0   sid                     1022658 non-null  int64  \n",
      " 1   id                      1022658 non-null  int64  \n",
      " 2   name                    1022658 non-null  object \n",
      " 3   street                  715704 non-null   object \n",
      " 4   zip                     715579 non-null   object \n",
      " 5   city                    937166 non-null   object \n",
      " 6   region                  1760 non-null     object \n",
      " 7   cd                      939010 non-null   object \n",
      " 8   phone                   601688 non-null   object \n",
      " 9   aj_exact_city_match     1000510 non-null  object \n",
      " 10  aj_exact_country_match  1000510 non-null  object \n",
      " 11  blurb                   406705 non-null   object \n",
      " 12  dir_city_id             495698 non-null   object \n",
      " 13  dir_city_name           495698 non-null   object \n",
      " 14  dir_city_slug           495221 non-null   object \n",
      " 15  dir_country_id          495628 non-null   object \n",
      " 16  dir_country_name        495698 non-null   object \n",
      " 17  lat                     1016495 non-null  float64\n",
      " 18  lng                     1016495 non-null  float64\n",
      " 19  primary_alias_on_fb     425531 non-null   object \n",
      " 20  slug                    941668 non-null   object \n",
      " 21  website                 623262 non-null   object \n",
      " 22  cts                     1022658 non-null  object \n",
      "dtypes: float64(2), int64(2), object(19)\n",
      "memory usage: 179.5+ MB\n"
     ]
    }
   ],
   "source": [
    "locations.info()"
   ]
  },
  {
   "cell_type": "code",
   "execution_count": 42,
   "id": "5d0f6983-38c7-49a8-ab5b-c999b5865c5b",
   "metadata": {
    "tags": []
   },
   "outputs": [
    {
     "data": {
      "text/html": [
       "<div>\n",
       "<style scoped>\n",
       "    .dataframe tbody tr th:only-of-type {\n",
       "        vertical-align: middle;\n",
       "    }\n",
       "\n",
       "    .dataframe tbody tr th {\n",
       "        vertical-align: top;\n",
       "    }\n",
       "\n",
       "    .dataframe thead th {\n",
       "        text-align: right;\n",
       "    }\n",
       "</style>\n",
       "<table border=\"1\" class=\"dataframe\">\n",
       "  <thead>\n",
       "    <tr style=\"text-align: right;\">\n",
       "      <th></th>\n",
       "      <th>sid</th>\n",
       "      <th>id</th>\n",
       "      <th>lat</th>\n",
       "      <th>lng</th>\n",
       "    </tr>\n",
       "  </thead>\n",
       "  <tbody>\n",
       "    <tr>\n",
       "      <th>count</th>\n",
       "      <td>1.022658e+06</td>\n",
       "      <td>1.022658e+06</td>\n",
       "      <td>1.016495e+06</td>\n",
       "      <td>1.016495e+06</td>\n",
       "    </tr>\n",
       "    <tr>\n",
       "      <th>mean</th>\n",
       "      <td>5.274856e+05</td>\n",
       "      <td>3.152851e+14</td>\n",
       "      <td>-1.529215e+01</td>\n",
       "      <td>3.421718e+01</td>\n",
       "    </tr>\n",
       "    <tr>\n",
       "      <th>std</th>\n",
       "      <td>2.994567e+05</td>\n",
       "      <td>5.795031e+14</td>\n",
       "      <td>7.615085e+01</td>\n",
       "      <td>2.201081e+01</td>\n",
       "    </tr>\n",
       "    <tr>\n",
       "      <th>min</th>\n",
       "      <td>1.000000e+00</td>\n",
       "      <td>7.000000e+00</td>\n",
       "      <td>-1.799830e+02</td>\n",
       "      <td>-9.000000e+01</td>\n",
       "    </tr>\n",
       "    <tr>\n",
       "      <th>25%</th>\n",
       "      <td>2.688392e+05</td>\n",
       "      <td>2.522377e+08</td>\n",
       "      <td>-8.015575e+01</td>\n",
       "      <td>2.997555e+01</td>\n",
       "    </tr>\n",
       "    <tr>\n",
       "      <th>50%</th>\n",
       "      <td>5.300405e+05</td>\n",
       "      <td>8.573350e+08</td>\n",
       "      <td>-2.450000e+00</td>\n",
       "      <td>4.067820e+01</td>\n",
       "    </tr>\n",
       "    <tr>\n",
       "      <th>75%</th>\n",
       "      <td>7.866598e+05</td>\n",
       "      <td>3.304662e+14</td>\n",
       "      <td>3.071740e+01</td>\n",
       "      <td>4.884722e+01</td>\n",
       "    </tr>\n",
       "    <tr>\n",
       "      <th>max</th>\n",
       "      <td>1.043657e+06</td>\n",
       "      <td>2.402148e+16</td>\n",
       "      <td>1.799941e+02</td>\n",
       "      <td>8.999870e+01</td>\n",
       "    </tr>\n",
       "  </tbody>\n",
       "</table>\n",
       "</div>"
      ],
      "text/plain": [
       "                sid            id           lat           lng\n",
       "count  1.022658e+06  1.022658e+06  1.016495e+06  1.016495e+06\n",
       "mean   5.274856e+05  3.152851e+14 -1.529215e+01  3.421718e+01\n",
       "std    2.994567e+05  5.795031e+14  7.615085e+01  2.201081e+01\n",
       "min    1.000000e+00  7.000000e+00 -1.799830e+02 -9.000000e+01\n",
       "25%    2.688392e+05  2.522377e+08 -8.015575e+01  2.997555e+01\n",
       "50%    5.300405e+05  8.573350e+08 -2.450000e+00  4.067820e+01\n",
       "75%    7.866598e+05  3.304662e+14  3.071740e+01  4.884722e+01\n",
       "max    1.043657e+06  2.402148e+16  1.799941e+02  8.999870e+01"
      ]
     },
     "execution_count": 42,
     "metadata": {},
     "output_type": "execute_result"
    }
   ],
   "source": [
    "locations.describe()"
   ]
  },
  {
   "cell_type": "code",
   "execution_count": 28,
   "id": "ea7d85f8-bd45-4e52-a220-39c9f0068bc7",
   "metadata": {
    "tags": []
   },
   "outputs": [
    {
     "name": "stdout",
     "output_type": "stream",
     "text": [
      "number of outliers of lat variable: 0\n",
      "max outlier value of lat variable: nan\n",
      "min outlier value of lat variable: nan\n"
     ]
    },
    {
     "data": {
      "text/plain": [
       "<AxesSubplot:>"
      ]
     },
     "execution_count": 28,
     "metadata": {},
     "output_type": "execute_result"
    },
    {
     "data": {
      "image/png": "[encoded data removed]",
      "text/plain": [
       "<Figure size 432x288 with 1 Axes>"
      ]
     },
     "metadata": {
      "needs_background": "light"
     },
     "output_type": "display_data"
    }
   ],
   "source": [
    "noloc=find_outliers(locations['lat'])\n",
    "print('number of outliers of lat variable: '+ str(len(noloc)))\n",
    "print('max outlier value of lat variable: '+ str(noloc.max()))\n",
    "print('min outlier value of lat variable: '+ str(noloc.min()))\n",
    "\n",
    "locations.boxplot(column=['lat'])"
   ]
  },
  {
   "cell_type": "code",
   "execution_count": 5,
   "id": "61040f73-4b53-4da4-80d9-dbc0067df119",
   "metadata": {},
   "outputs": [
    {
     "data": {
      "text/plain": [
       "<AxesSubplot:title={'center':'Histogram of latitudes'}, ylabel='Frequency'>"
      ]
     },
     "execution_count": 5,
     "metadata": {},
     "output_type": "execute_result"
    },
    {
     "data": {
      "image/png": "[encoded data removed]",
      "text/plain": [
       "<Figure size 432x288 with 1 Axes>"
      ]
     },
     "metadata": {
      "needs_background": "light"
     },
     "output_type": "display_data"
    }
   ],
   "source": [
    "locations.lat.plot.hist(title= 'Histogram of latitudes',color='red',edgecolor='black')"
   ]
  },
  {
   "cell_type": "markdown",
   "id": "fe390da2-0e19-46eb-ac2a-ae289c715e5c",
   "metadata": {},
   "source": [
    "The boxplot and the histogram printed before show the distribution of latitudes of posts locations"
   ]
  },
  {
   "cell_type": "code",
   "execution_count": 27,
   "id": "e8fc012d-bf46-4934-9449-f86e292251f3",
   "metadata": {
    "tags": []
   },
   "outputs": [
    {
     "name": "stdout",
     "output_type": "stream",
     "text": [
      "number of outliers of lat variable: 96259\n",
      "max outlier value of lat variable: 89.998698\n",
      "min outlier value of lat variable: -90.0\n"
     ]
    },
    {
     "data": {
      "text/plain": [
       "<AxesSubplot:>"
      ]
     },
     "execution_count": 27,
     "metadata": {},
     "output_type": "execute_result"
    },
    {
     "data": {
      "image/png": "[encoded data removed]",
      "text/plain": [
       "<Figure size 432x288 with 1 Axes>"
      ]
     },
     "metadata": {
      "needs_background": "light"
     },
     "output_type": "display_data"
    }
   ],
   "source": [
    "noloc=find_outliers(locations['lng'])\n",
    "print('number of outliers of lat variable: '+ str(len(noloc)))\n",
    "print('max outlier value of lat variable: '+ str(noloc.max()))\n",
    "print('min outlier value of lat variable: '+ str(noloc.min()))\n",
    "\n",
    "locations.boxplot(column=['lng'])"
   ]
  },
  {
   "cell_type": "code",
   "execution_count": 6,
   "id": "60f709a5-a0e0-46ab-b6f8-e5b917359a0d",
   "metadata": {},
   "outputs": [
    {
     "data": {
      "text/plain": [
       "<AxesSubplot:title={'center':'Histogram of longitudes'}, ylabel='Frequency'>"
      ]
     },
     "execution_count": 6,
     "metadata": {},
     "output_type": "execute_result"
    },
    {
     "data": {
      "image/png": "[encoded data removed]",
      "text/plain": [
       "<Figure size 432x288 with 1 Axes>"
      ]
     },
     "metadata": {
      "needs_background": "light"
     },
     "output_type": "display_data"
    }
   ],
   "source": [
    "locations.lng.plot.hist(title= 'Histogram of longitudes',color='blue',edgecolor='black')"
   ]
  },
  {
   "cell_type": "markdown",
   "id": "24c47aca-c1e8-4709-a101-2ea8b151a971",
   "metadata": {},
   "source": [
    "The boxplot and the histogram printed before show the distribution of longitudes of posts locations"
   ]
  },
  {
   "cell_type": "markdown",
   "id": "e924de3d-e07f-425b-b8bd-5e73a75e048b",
   "metadata": {},
   "source": [
    "From ranges of the two distribution we understand that probably the two measures have been swapped"
   ]
  },
  {
   "cell_type": "code",
   "execution_count": 48,
   "id": "00a59ce4-41ee-4e2e-9420-772a8115f0fb",
   "metadata": {
    "tags": []
   },
   "outputs": [
    {
     "name": "stdout",
     "output_type": "stream",
     "text": [
      "street : 30.02%\n",
      "zip : 30.03%\n",
      "city : 8.36%\n",
      "region : 99.83%\n",
      "cd : 8.18%\n",
      "phone : 41.16%\n",
      "aj_exact_city_match : 2.17%\n",
      "aj_exact_country_match : 2.17%\n",
      "blurb : 60.23%\n",
      "dir_city_id : 51.53%\n",
      "dir_city_name : 51.53%\n",
      "dir_city_slug : 51.58%\n",
      "dir_country_id : 51.54%\n",
      "dir_country_name : 51.53%\n",
      "lat : 0.60%\n",
      "lng : 0.60%\n",
      "primary_alias_on_fb : 58.39%\n",
      "slug : 7.92%\n",
      "website : 39.05%\n"
     ]
    }
   ],
   "source": [
    "for column in locations.columns:\n",
    "    if locations[column].isnull().sum() > 0:\n",
    "        print(column, ': {:.2%}'.format(locations[column].isnull().sum() /\n",
    "                                               locations[column].shape[0]))"
   ]
  },
  {
   "cell_type": "markdown",
   "id": "97737f4a-4fc7-4323-bd94-74d73ef231f6",
   "metadata": {},
   "source": [
    "These are the percentages of null values in each variable. These percentages can be very high like region or blurb"
   ]
  },
  {
   "cell_type": "code",
   "execution_count": 23,
   "id": "ad6de124-2043-447a-b123-fd2cbb910c03",
   "metadata": {},
   "outputs": [],
   "source": [
    "locations_copy=locations.copy()"
   ]
  },
  {
   "cell_type": "code",
   "execution_count": null,
   "id": "85df6e8c-99b9-403d-a15f-5cfd42883e22",
   "metadata": {},
   "outputs": [],
   "source": [
    "locations_copy.street.fillna('', inplace=True)\n",
    "locations_copy.zip.fillna('', inplace=True)\n",
    "locations_copy.city.fillna('', inplace=True)\n",
    "locations_copy.region.fillna('', inplace=True)\n",
    "locations_copy.cd.fillna('', inplace=True)\n",
    "locations_copy.phone.fillna('', inplace=True)\n",
    "locations_copy.aj_exact_city_match.fillna('', inplace=True)\n",
    "locations_copy.aj_exact_country_match.fillna('', inplace=True)\n",
    "locations_copy.blurb.fillna('', inplace=True)\n",
    "locations_copy.dir_city_id.fillna('', inplace=True)\n",
    "locations_copy.dir_city_name.fillna('', inplace=True)\n",
    "locations_copy.dir_city_slug.fillna('', inplace=True)\n",
    "locations_copy.dir_country_id.fillna('', inplace=True)\n",
    "locations_copy.dir_country_name.fillna('', inplace=True)\n",
    "locations_copy.primary_alias_on_fb.fillna('', inplace=True)\n",
    "locations_copy.slug.fillna('', inplace=True)\n",
    "locations_copy.website.fillna('', inplace=True)\n",
    "locations_copy.cts.fillna('', inplace=True)\n",
    "locations_copy.lat.fillna('', inplace=True)\n",
    "locations_copy.lng.fillna('', inplace=True)"
   ]
  },
  {
   "cell_type": "code",
   "execution_count": 55,
   "id": "3042abc3-a6a5-4c58-a9b2-da1ea799e5b7",
   "metadata": {
    "tags": []
   },
   "outputs": [
    {
     "data": {
      "text/plain": [
       "sid                       0\n",
       "id                        0\n",
       "name                      0\n",
       "street                    0\n",
       "zip                       0\n",
       "city                      0\n",
       "region                    0\n",
       "cd                        0\n",
       "phone                     0\n",
       "aj_exact_city_match       0\n",
       "aj_exact_country_match    0\n",
       "blurb                     0\n",
       "dir_city_id               0\n",
       "dir_city_name             0\n",
       "dir_city_slug             0\n",
       "dir_country_id            0\n",
       "dir_country_name          0\n",
       "lat                       0\n",
       "lng                       0\n",
       "primary_alias_on_fb       0\n",
       "slug                      0\n",
       "website                   0\n",
       "cts                       0\n",
       "dtype: int64"
      ]
     },
     "execution_count": 55,
     "metadata": {},
     "output_type": "execute_result"
    }
   ],
   "source": [
    "locations_copy.isnull().sum()"
   ]
  },
  {
   "cell_type": "markdown",
   "id": "34748de2-2340-48ef-b484-95ce08756dfc",
   "metadata": {},
   "source": [
    "We can replace null values with empty string"
   ]
  },
  {
   "cell_type": "markdown",
   "id": "3d9f56a1-7cf6-437a-a33f-30e509bfb047",
   "metadata": {},
   "source": [
    "### Posts"
   ]
  },
  {
   "cell_type": "code",
   "execution_count": 15,
   "id": "a921747d-0af0-4296-aea9-f4f0de1a4dea",
   "metadata": {},
   "outputs": [],
   "source": [
    "posts = pd.read_csv('~/instagram_posts.zip', delimiter='\\t',usecols = ['numbr_likes','number_comments','post_type'])"
   ]
  },
  {
   "cell_type": "markdown",
   "id": "effecf01-779f-40e7-bf5a-c8eae1fb3f72",
   "metadata": {},
   "source": [
    "To work easily on this large dataset we can import only three variables that can be considered as the most significant variables: number of likes, number of comments and post type (photo, video or both). Other variables are SID, sid_profile, post_id, profile_id, location_id, cts (timestamp when the Post was created\n",
    ") and description."
   ]
  },
  {
   "cell_type": "code",
   "execution_count": 20,
   "id": "8b2fb9df-bf5c-4eb1-b709-44bc0f5646f3",
   "metadata": {},
   "outputs": [
    {
     "name": "stdout",
     "output_type": "stream",
     "text": [
      "number of outliers of number of likes variable: 4288041\n",
      "max outlier value of number of likes variable: 8822952.0\n",
      "min outlier value of number of likes variable: 256.0\n",
      "mean is: 2286.0740841796987\n",
      "median is: 469.0\n"
     ]
    },
    {
     "data": {
      "image/png": "[encoded data removed]",
      "text/plain": [
       "<Figure size 1440x360 with 2 Axes>"
      ]
     },
     "metadata": {
      "needs_background": "light"
     },
     "output_type": "display_data"
    }
   ],
   "source": [
    "likes_outliers=find_outliers(posts['numbr_likes'])\n",
    "print('number of outliers of number of likes variable: '+ str(len(likes_outliers)))\n",
    "print('max outlier value of number of likes variable: '+ str(likes_outliers.max()))\n",
    "print('min outlier value of number of likes variable: '+ str(likes_outliers.min()))\n",
    "print('mean is: '+ str(likes_outliers.mean()))\n",
    "print('median is: '+ str(likes_outliers.median()))\n",
    "plt.figure(figsize=(20, 5))\n",
    "\n",
    "ax1 = plt.subplot(1, 2, 1)\n",
    "ax1.set_title(\"Boxplot of # of likes per user\", {\"fontsize\":16, \"color\":\"blue\"})\n",
    "posts.numbr_likes.plot.box(vert = False)\n",
    "\n",
    "ax2 = plt.subplot(1, 2, 2)\n",
    "ax2.set_title(\"Boxplot of # of likes per user without outliers\", {\"fontsize\":16, \"color\":\"blue\"})\n",
    "posts.numbr_likes.plot.box(showfliers=False, vert = False, fontsize = \"large\")\n",
    "plt.show()"
   ]
  },
  {
   "cell_type": "markdown",
   "id": "40ba70ae-4012-4751-ba14-1c41f2dddd61",
   "metadata": {},
   "source": [
    "Outliers have very high values, the maximum is 8822952.0 likes and mean is 2286 likes and the median is469 likes considering all values"
   ]
  },
  {
   "cell_type": "code",
   "execution_count": 21,
   "id": "ede27cde-16cc-4d67-adab-e4977d0530a0",
   "metadata": {},
   "outputs": [
    {
     "name": "stdout",
     "output_type": "stream",
     "text": [
      "number of outliers of number of likes variable: 4347524\n",
      "max outlier value of number of likes variable: 488953.0\n",
      "min outlier value of number of likes variable: 13.0\n",
      "mean is: 53.79412051549342\n",
      "median is: 22.0\n"
     ]
    },
    {
     "data": {
      "image/png": "[encoded data removed]",
      "text/plain": [
       "<Figure size 1440x360 with 2 Axes>"
      ]
     },
     "metadata": {
      "needs_background": "light"
     },
     "output_type": "display_data"
    }
   ],
   "source": [
    "comments_outliers=find_outliers(posts['number_comments'])\n",
    "print('number of outliers of number of likes variable: '+ str(len(comments_outliers)))\n",
    "print('max outlier value of number of likes variable: '+ str(comments_outliers.max()))\n",
    "print('min outlier value of number of likes variable: '+ str(comments_outliers.min()))\n",
    "print('mean is: '+ str(comments_outliers.mean()))\n",
    "print('median is: '+ str(comments_outliers.median()))\n",
    "plt.figure(figsize=(20, 5))\n",
    "\n",
    "ax1 = plt.subplot(1, 2, 1)\n",
    "ax1.set_title(\"Boxplot of # of comments per user\", {\"fontsize\":16, \"color\":\"blue\"})\n",
    "posts.number_comments.plot.box(vert = False)\n",
    "\n",
    "ax2 = plt.subplot(1, 2, 2)\n",
    "ax2.set_title(\"Boxplot of # of comments per user without outliers\", {\"fontsize\":16, \"color\":\"blue\"})\n",
    "posts.number_comments.plot.box(showfliers=False, vert = False, fontsize = \"large\")\n",
    "plt.show()"
   ]
  },
  {
   "cell_type": "code",
   "execution_count": 24,
   "id": "b3881192-3fa8-42f7-85d8-28c04d93a4ad",
   "metadata": {},
   "outputs": [
    {
     "name": "stdout",
     "output_type": "stream",
     "text": [
      "absolute frequencies: \n",
      "1    41534486\n",
      "2     1134768\n",
      "3       40943\n",
      "Name: post_type, dtype: int64\n",
      "relative frequencies: \n",
      "1    0.972472\n",
      "2    0.026569\n",
      "3    0.000959\n",
      "Name: post_type, dtype: float64\n"
     ]
    }
   ],
   "source": [
    "print('absolute frequencies: \\n' +str(posts.post_type.value_counts()))\n",
    "print('relative frequencies: \\n' +str(posts.post_type.value_counts(normalize=True)))\n"
   ]
  },
  {
   "cell_type": "markdown",
   "id": "30cf4d66-be80-4022-ad9d-fc9a5f80d367",
   "metadata": {},
   "source": [
    "As we can see, more than 97% of posts in the dataset are only photos."
   ]
  },
  {
   "cell_type": "markdown",
   "id": "3d0db56c-7342-4fc1-aed2-ec9e95f3dcc9",
   "metadata": {
    "jp-MarkdownHeadingCollapsed": true,
    "tags": []
   },
   "source": [
    "# [RQ 2.1] Plot the number of posts for each profile in descending order"
   ]
  },
  {
   "cell_type": "markdown",
   "id": "a68355f2-bd6d-42e4-8a64-c9c416f914f5",
   "metadata": {},
   "source": [
    "We start by showing the data frame sorted by number of posts"
   ]
  },
  {
   "cell_type": "code",
   "execution_count": null,
   "id": "a1ab24b9-951f-46f0-895e-4dcb9128e010",
   "metadata": {},
   "outputs": [
    {
     "data": {
      "text/html": [
       "<div>\n",
       "<style scoped>\n",
       "    .dataframe tbody tr th:only-of-type {\n",
       "        vertical-align: middle;\n",
       "    }\n",
       "\n",
       "    .dataframe tbody tr th {\n",
       "        vertical-align: top;\n",
       "    }\n",
       "\n",
       "    .dataframe thead th {\n",
       "        text-align: right;\n",
       "    }\n",
       "</style>\n",
       "<table border=\"1\" class=\"dataframe\">\n",
       "  <thead>\n",
       "    <tr style=\"text-align: right;\">\n",
       "      <th></th>\n",
       "      <th>profile_id</th>\n",
       "      <th>n_posts</th>\n",
       "    </tr>\n",
       "  </thead>\n",
       "  <tbody>\n",
       "    <tr>\n",
       "      <th>3990313</th>\n",
       "      <td>1.996648e+08</td>\n",
       "      <td>183730.0</td>\n",
       "    </tr>\n",
       "    <tr>\n",
       "      <th>2571453</th>\n",
       "      <td>8.563367e+09</td>\n",
       "      <td>142428.0</td>\n",
       "    </tr>\n",
       "    <tr>\n",
       "      <th>4338921</th>\n",
       "      <td>1.273455e+09</td>\n",
       "      <td>126340.0</td>\n",
       "    </tr>\n",
       "    <tr>\n",
       "      <th>3942129</th>\n",
       "      <td>9.813508e+06</td>\n",
       "      <td>125220.0</td>\n",
       "    </tr>\n",
       "    <tr>\n",
       "      <th>4219642</th>\n",
       "      <td>1.607309e+09</td>\n",
       "      <td>117262.0</td>\n",
       "    </tr>\n",
       "    <tr>\n",
       "      <th>...</th>\n",
       "      <td>...</td>\n",
       "      <td>...</td>\n",
       "    </tr>\n",
       "    <tr>\n",
       "      <th>2300812</th>\n",
       "      <td>3.864219e+09</td>\n",
       "      <td>0.0</td>\n",
       "    </tr>\n",
       "    <tr>\n",
       "      <th>2300811</th>\n",
       "      <td>5.007520e+09</td>\n",
       "      <td>0.0</td>\n",
       "    </tr>\n",
       "    <tr>\n",
       "      <th>2300810</th>\n",
       "      <td>5.430227e+09</td>\n",
       "      <td>0.0</td>\n",
       "    </tr>\n",
       "    <tr>\n",
       "      <th>2300809</th>\n",
       "      <td>6.584424e+06</td>\n",
       "      <td>0.0</td>\n",
       "    </tr>\n",
       "    <tr>\n",
       "      <th>4509585</th>\n",
       "      <td>2.088094e+09</td>\n",
       "      <td>0.0</td>\n",
       "    </tr>\n",
       "  </tbody>\n",
       "</table>\n",
       "<p>4509586 rows × 2 columns</p>\n",
       "</div>"
      ],
      "text/plain": [
       "           profile_id   n_posts\n",
       "3990313  1.996648e+08  183730.0\n",
       "2571453  8.563367e+09  142428.0\n",
       "4338921  1.273455e+09  126340.0\n",
       "3942129  9.813508e+06  125220.0\n",
       "4219642  1.607309e+09  117262.0\n",
       "...               ...       ...\n",
       "2300812  3.864219e+09       0.0\n",
       "2300811  5.007520e+09       0.0\n",
       "2300810  5.430227e+09       0.0\n",
       "2300809  6.584424e+06       0.0\n",
       "4509585  2.088094e+09       0.0\n",
       "\n",
       "[4509586 rows x 2 columns]"
      ]
     },
     "metadata": {},
     "output_type": "display_data"
    }
   ],
   "source": [
    "ordered_prof = profiles.sort_values('n_posts',ascending=False)[['profile_id','n_posts']]\n",
    "display(ordered_prof)\n"
   ]
  },
  {
   "cell_type": "markdown",
   "id": "81a9bbc3-e960-4be1-9d9b-8e4b3a8b6937",
   "metadata": {},
   "source": [
    "We can see from the descriptive table that: \n",
    ">- the **average number** of posts per user is quite high, and this is probably due to the presence of particularly active users (with high amounts of posts);\n",
    ">- confirming the statement in the point above, the **standard deviation** (and consequently the variance) is large and makes the average a poor indicator of the population;\n",
    ">- about **half the population** has a number of posts very close to the minimum value;\n",
    ">- **25 % of the population** are users who are not very (or not at all) active.\n",
    "\n",
    "We use the function below to retrieve the most of these infos."
   ]
  },
  {
   "cell_type": "code",
   "execution_count": null,
   "id": "266463ae-3743-4095-b332-ef9efc6ac696",
   "metadata": {},
   "outputs": [
    {
     "data": {
      "text/html": [
       "<div>\n",
       "<style scoped>\n",
       "    .dataframe tbody tr th:only-of-type {\n",
       "        vertical-align: middle;\n",
       "    }\n",
       "\n",
       "    .dataframe tbody tr th {\n",
       "        vertical-align: top;\n",
       "    }\n",
       "\n",
       "    .dataframe thead th {\n",
       "        text-align: right;\n",
       "    }\n",
       "</style>\n",
       "<table border=\"1\" class=\"dataframe\">\n",
       "  <thead>\n",
       "    <tr style=\"text-align: right;\">\n",
       "      <th></th>\n",
       "      <th>profile_id</th>\n",
       "      <th>n_posts</th>\n",
       "    </tr>\n",
       "  </thead>\n",
       "  <tbody>\n",
       "    <tr>\n",
       "      <th>count</th>\n",
       "      <td>4.477139e+06</td>\n",
       "      <td>4.509586e+06</td>\n",
       "    </tr>\n",
       "    <tr>\n",
       "      <th>mean</th>\n",
       "      <td>3.083302e+09</td>\n",
       "      <td>3.135659e+02</td>\n",
       "    </tr>\n",
       "    <tr>\n",
       "      <th>std</th>\n",
       "      <td>4.266575e+10</td>\n",
       "      <td>9.280713e+02</td>\n",
       "    </tr>\n",
       "    <tr>\n",
       "      <th>min</th>\n",
       "      <td>4.000000e+00</td>\n",
       "      <td>0.000000e+00</td>\n",
       "    </tr>\n",
       "    <tr>\n",
       "      <th>25%</th>\n",
       "      <td>2.735177e+08</td>\n",
       "      <td>0.000000e+00</td>\n",
       "    </tr>\n",
       "    <tr>\n",
       "      <th>50%</th>\n",
       "      <td>1.649248e+09</td>\n",
       "      <td>4.800000e+01</td>\n",
       "    </tr>\n",
       "    <tr>\n",
       "      <th>75%</th>\n",
       "      <td>5.514691e+09</td>\n",
       "      <td>2.870000e+02</td>\n",
       "    </tr>\n",
       "    <tr>\n",
       "      <th>max</th>\n",
       "      <td>9.001013e+13</td>\n",
       "      <td>1.837300e+05</td>\n",
       "    </tr>\n",
       "  </tbody>\n",
       "</table>\n",
       "</div>"
      ],
      "text/plain": [
       "         profile_id       n_posts\n",
       "count  4.477139e+06  4.509586e+06\n",
       "mean   3.083302e+09  3.135659e+02\n",
       "std    4.266575e+10  9.280713e+02\n",
       "min    4.000000e+00  0.000000e+00\n",
       "25%    2.735177e+08  0.000000e+00\n",
       "50%    1.649248e+09  4.800000e+01\n",
       "75%    5.514691e+09  2.870000e+02\n",
       "max    9.001013e+13  1.837300e+05"
      ]
     },
     "metadata": {},
     "output_type": "display_data"
    }
   ],
   "source": [
    "display(ordered_prof.describe())"
   ]
  },
  {
   "cell_type": "markdown",
   "id": "67805db5",
   "metadata": {},
   "source": [
    "<div class=\"alert alert-block alert-info\">\n",
    "<b>Outlier definition</b>: an outlier is an observation that lies an abnormal distance from other values in a random sample from a population.\n",
    "</div>"
   ]
  },
  {
   "cell_type": "markdown",
   "id": "15d1346e",
   "metadata": {},
   "source": [
    "We want to graphcally visualize information about the population through two types of boxplots: \n",
    ">- the one on the left represents the entire dataset, including isolated and/or extreme bridges (outlier cases);\n",
    ">- the second boxplot, on the other hand, provides a better overview, eliminating the distorting effect of outliers and allowing a better visualization of the distribution of posts by users.\n",
    "\n",
    "From the box plot \"free\" of the bias of the outliers we can infer information such as quartiles (the three vertical lines represent 25th, 50th, and 75th percentiles, respectively), thus freeing ourselves from the mean, which in this case turns out to be unrepresentative of the population."
   ]
  },
  {
   "cell_type": "code",
   "execution_count": null,
   "id": "ba09248a-e5ed-4864-9aa6-a15f90137ba9",
   "metadata": {},
   "outputs": [
    {
     "data": {
      "image/png": "[encoded data removed]",
      "text/plain": [
       "<Figure size 1440x360 with 2 Axes>"
      ]
     },
     "metadata": {
      "needs_background": "light"
     },
     "output_type": "display_data"
    }
   ],
   "source": [
    "plt.figure(figsize=(20, 5))\n",
    "\n",
    "ax1 = plt.subplot(1, 2, 1)\n",
    "ax1.set_title(\"Boxplot of # of posts per user\", {\"fontsize\":16, \"color\":\"blue\"})\n",
    "ordered_prof[\"n_posts\"].plot.box(vert = False, fontsize = \"large\")\n",
    "\n",
    "ax2 = plt.subplot(1, 2, 2)\n",
    "ax2.set_title(\"Boxplot of # of posts per user without outliers\", {\"fontsize\":16, \"color\":\"blue\"})\n",
    "ordered_prof[\"n_posts\"].plot.box(showfliers=False, vert = False, fontsize = \"large\")\n",
    "plt.show()"
   ]
  },
  {
   "cell_type": "markdown",
   "id": "eb1afd68",
   "metadata": {},
   "source": [
    "<div class=\"alert alert-block alert-danger\">\n",
    "<b>WARNING</b>: note that the box plot on the right correctly displays much information but neglects a number of aspects such as the actual extremes of the data set.\n",
    "</div>"
   ]
  },
  {
   "cell_type": "markdown",
   "id": "b9637e7a-2604-452a-929e-b18396cc1d27",
   "metadata": {
    "jp-MarkdownHeadingCollapsed": true,
    "tags": []
   },
   "source": [
    "# [RQ 2.2] What posts have the highest number of \"likes\"?"
   ]
  },
  {
   "cell_type": "markdown",
   "id": "034cfbd3",
   "metadata": {},
   "source": [
    "### Importing the the whole data set \"instagram_posts.csv\""
   ]
  },
  {
   "cell_type": "markdown",
   "id": "d17b94e1",
   "metadata": {},
   "source": [
    "In this case we have a huge data set. In order to import every row of __'instagram_posts'__ we select only the columns of interest for each excercise ."
   ]
  },
  {
   "cell_type": "code",
   "execution_count": 3,
   "id": "993f23f7",
   "metadata": {},
   "outputs": [],
   "source": [
    "\n",
    "posts = pd.read_csv('~/instagram_posts.zip', delimiter='\\t',usecols = ['post_id','numbr_likes','number_comments'])\n"
   ]
  },
  {
   "cell_type": "markdown",
   "id": "dedf8f83",
   "metadata": {},
   "source": [
    "Then we clean the data set as always"
   ]
  },
  {
   "cell_type": "code",
   "execution_count": 4,
   "id": "6caad477",
   "metadata": {},
   "outputs": [
    {
     "data": {
      "text/html": [
       "<div>\n",
       "<style scoped>\n",
       "    .dataframe tbody tr th:only-of-type {\n",
       "        vertical-align: middle;\n",
       "    }\n",
       "\n",
       "    .dataframe tbody tr th {\n",
       "        vertical-align: top;\n",
       "    }\n",
       "\n",
       "    .dataframe thead th {\n",
       "        text-align: right;\n",
       "    }\n",
       "</style>\n",
       "<table border=\"1\" class=\"dataframe\">\n",
       "  <thead>\n",
       "    <tr style=\"text-align: right;\">\n",
       "      <th></th>\n",
       "      <th>post_id</th>\n",
       "      <th>numbr_likes</th>\n",
       "      <th>number_comments</th>\n",
       "    </tr>\n",
       "  </thead>\n",
       "  <tbody>\n",
       "    <tr>\n",
       "      <th>0</th>\n",
       "      <td>BXdjjUlgcgq</td>\n",
       "      <td>80.0</td>\n",
       "      <td>0.0</td>\n",
       "    </tr>\n",
       "    <tr>\n",
       "      <th>1</th>\n",
       "      <td>BVg0pbolYBC</td>\n",
       "      <td>25.0</td>\n",
       "      <td>1.0</td>\n",
       "    </tr>\n",
       "    <tr>\n",
       "      <th>2</th>\n",
       "      <td>BRgkjcXFp3Q</td>\n",
       "      <td>9.0</td>\n",
       "      <td>0.0</td>\n",
       "    </tr>\n",
       "    <tr>\n",
       "      <th>3</th>\n",
       "      <td>BKTKeNhjEA7</td>\n",
       "      <td>4.0</td>\n",
       "      <td>0.0</td>\n",
       "    </tr>\n",
       "    <tr>\n",
       "      <th>4</th>\n",
       "      <td>8-NQrvoYLX</td>\n",
       "      <td>8.0</td>\n",
       "      <td>0.0</td>\n",
       "    </tr>\n",
       "    <tr>\n",
       "      <th>5</th>\n",
       "      <td>BrYDPJeABJQ</td>\n",
       "      <td>138.0</td>\n",
       "      <td>15.0</td>\n",
       "    </tr>\n",
       "    <tr>\n",
       "      <th>6</th>\n",
       "      <td>BmQ418mgSnL</td>\n",
       "      <td>389.0</td>\n",
       "      <td>10.0</td>\n",
       "    </tr>\n",
       "    <tr>\n",
       "      <th>7</th>\n",
       "      <td>Bm1YQ3Hn1gJ</td>\n",
       "      <td>198.0</td>\n",
       "      <td>23.0</td>\n",
       "    </tr>\n",
       "    <tr>\n",
       "      <th>8</th>\n",
       "      <td>2qBVjbTgzi</td>\n",
       "      <td>127.0</td>\n",
       "      <td>8.0</td>\n",
       "    </tr>\n",
       "    <tr>\n",
       "      <th>9</th>\n",
       "      <td>BP5ViC6gaEf</td>\n",
       "      <td>154.0</td>\n",
       "      <td>6.0</td>\n",
       "    </tr>\n",
       "  </tbody>\n",
       "</table>\n",
       "</div>"
      ],
      "text/plain": [
       "       post_id  numbr_likes  number_comments\n",
       "0  BXdjjUlgcgq         80.0              0.0\n",
       "1  BVg0pbolYBC         25.0              1.0\n",
       "2  BRgkjcXFp3Q          9.0              0.0\n",
       "3  BKTKeNhjEA7          4.0              0.0\n",
       "4   8-NQrvoYLX          8.0              0.0\n",
       "5  BrYDPJeABJQ        138.0             15.0\n",
       "6  BmQ418mgSnL        389.0             10.0\n",
       "7  Bm1YQ3Hn1gJ        198.0             23.0\n",
       "8   2qBVjbTgzi        127.0              8.0\n",
       "9  BP5ViC6gaEf        154.0              6.0"
      ]
     },
     "execution_count": 4,
     "metadata": {},
     "output_type": "execute_result"
    }
   ],
   "source": [
    "\n",
    "posts.post_id.fillna('',inplace=True)\n",
    "posts.number_comments.fillna(0, inplace=True)\n",
    "posts.numbr_likes.fillna(0, inplace=True)\n",
    "\n",
    "#Let's look at the content of the data frame\n",
    "posts.head(10)"
   ]
  },
  {
   "cell_type": "code",
   "execution_count": 5,
   "id": "59bfd8d9",
   "metadata": {},
   "outputs": [
    {
     "data": {
      "text/html": [
       "<div>\n",
       "<style scoped>\n",
       "    .dataframe tbody tr th:only-of-type {\n",
       "        vertical-align: middle;\n",
       "    }\n",
       "\n",
       "    .dataframe tbody tr th {\n",
       "        vertical-align: top;\n",
       "    }\n",
       "\n",
       "    .dataframe thead th {\n",
       "        text-align: right;\n",
       "    }\n",
       "</style>\n",
       "<table border=\"1\" class=\"dataframe\">\n",
       "  <thead>\n",
       "    <tr style=\"text-align: right;\">\n",
       "      <th></th>\n",
       "      <th>post_id</th>\n",
       "      <th>numbr_likes</th>\n",
       "      <th>number_comments</th>\n",
       "    </tr>\n",
       "  </thead>\n",
       "  <tbody>\n",
       "    <tr>\n",
       "      <th>19624085</th>\n",
       "      <td>Bt3yaXmAM0d</td>\n",
       "      <td>8822952.0</td>\n",
       "      <td>165886.0</td>\n",
       "    </tr>\n",
       "    <tr>\n",
       "      <th>19623988</th>\n",
       "      <td>BuwffB7g8cK</td>\n",
       "      <td>5447066.0</td>\n",
       "      <td>25303.0</td>\n",
       "    </tr>\n",
       "    <tr>\n",
       "      <th>19624082</th>\n",
       "      <td>Buc1gyZAaMQ</td>\n",
       "      <td>5116398.0</td>\n",
       "      <td>40608.0</td>\n",
       "    </tr>\n",
       "    <tr>\n",
       "      <th>19623986</th>\n",
       "      <td>BvcukE8AMuG</td>\n",
       "      <td>4271466.0</td>\n",
       "      <td>30770.0</td>\n",
       "    </tr>\n",
       "    <tr>\n",
       "      <th>39701024</th>\n",
       "      <td>BqSLFVBFLfq</td>\n",
       "      <td>4264745.0</td>\n",
       "      <td>18691.0</td>\n",
       "    </tr>\n",
       "    <tr>\n",
       "      <th>6293907</th>\n",
       "      <td>BwTSXBKg7gN</td>\n",
       "      <td>3586546.0</td>\n",
       "      <td>15405.0</td>\n",
       "    </tr>\n",
       "    <tr>\n",
       "      <th>19624086</th>\n",
       "      <td>Btw8pFXAvQm</td>\n",
       "      <td>3558599.0</td>\n",
       "      <td>15715.0</td>\n",
       "    </tr>\n",
       "    <tr>\n",
       "      <th>19802016</th>\n",
       "      <td>BvC3n6_gqin</td>\n",
       "      <td>3533326.0</td>\n",
       "      <td>59475.0</td>\n",
       "    </tr>\n",
       "    <tr>\n",
       "      <th>30850564</th>\n",
       "      <td>Bw7vqLrFkHi</td>\n",
       "      <td>3340297.0</td>\n",
       "      <td>149489.0</td>\n",
       "    </tr>\n",
       "    <tr>\n",
       "      <th>39812576</th>\n",
       "      <td>Bw2gTH1AiDA</td>\n",
       "      <td>3311246.0</td>\n",
       "      <td>64318.0</td>\n",
       "    </tr>\n",
       "  </tbody>\n",
       "</table>\n",
       "</div>"
      ],
      "text/plain": [
       "              post_id  numbr_likes  number_comments\n",
       "19624085  Bt3yaXmAM0d    8822952.0         165886.0\n",
       "19623988  BuwffB7g8cK    5447066.0          25303.0\n",
       "19624082  Buc1gyZAaMQ    5116398.0          40608.0\n",
       "19623986  BvcukE8AMuG    4271466.0          30770.0\n",
       "39701024  BqSLFVBFLfq    4264745.0          18691.0\n",
       "6293907   BwTSXBKg7gN    3586546.0          15405.0\n",
       "19624086  Btw8pFXAvQm    3558599.0          15715.0\n",
       "19802016  BvC3n6_gqin    3533326.0          59475.0\n",
       "30850564  Bw7vqLrFkHi    3340297.0         149489.0\n",
       "39812576  Bw2gTH1AiDA    3311246.0          64318.0"
      ]
     },
     "execution_count": 5,
     "metadata": {},
     "output_type": "execute_result"
    }
   ],
   "source": [
    "# sorting by number of likes\n",
    "posts.sort_values('numbr_likes', ascending=False).head(10)"
   ]
  },
  {
   "cell_type": "markdown",
   "id": "0038649d",
   "metadata": {
    "jp-MarkdownHeadingCollapsed": true,
    "tags": []
   },
   "source": [
    "# [RQ 2.3] What posts have the most and the least number of comments?\n"
   ]
  },
  {
   "cell_type": "code",
   "execution_count": 6,
   "id": "5da69d23",
   "metadata": {},
   "outputs": [
    {
     "data": {
      "text/html": [
       "<div>\n",
       "<style scoped>\n",
       "    .dataframe tbody tr th:only-of-type {\n",
       "        vertical-align: middle;\n",
       "    }\n",
       "\n",
       "    .dataframe tbody tr th {\n",
       "        vertical-align: top;\n",
       "    }\n",
       "\n",
       "    .dataframe thead th {\n",
       "        text-align: right;\n",
       "    }\n",
       "</style>\n",
       "<table border=\"1\" class=\"dataframe\">\n",
       "  <thead>\n",
       "    <tr style=\"text-align: right;\">\n",
       "      <th></th>\n",
       "      <th>post_id</th>\n",
       "      <th>numbr_likes</th>\n",
       "      <th>number_comments</th>\n",
       "    </tr>\n",
       "  </thead>\n",
       "  <tbody>\n",
       "    <tr>\n",
       "      <th>41873060</th>\n",
       "      <td>Bx2sPAjHviO</td>\n",
       "      <td>38871.0</td>\n",
       "      <td>488953.0</td>\n",
       "    </tr>\n",
       "    <tr>\n",
       "      <th>12164781</th>\n",
       "      <td>BuGjhWAhAW5</td>\n",
       "      <td>81523.0</td>\n",
       "      <td>313997.0</td>\n",
       "    </tr>\n",
       "    <tr>\n",
       "      <th>33261751</th>\n",
       "      <td>BJ-rkpTgn1N</td>\n",
       "      <td>54507.0</td>\n",
       "      <td>257488.0</td>\n",
       "    </tr>\n",
       "    <tr>\n",
       "      <th>11149127</th>\n",
       "      <td>BMtisIxjhtT</td>\n",
       "      <td>331703.0</td>\n",
       "      <td>214365.0</td>\n",
       "    </tr>\n",
       "    <tr>\n",
       "      <th>9383817</th>\n",
       "      <td>BzOOWj3DfZK</td>\n",
       "      <td>23515.0</td>\n",
       "      <td>189888.0</td>\n",
       "    </tr>\n",
       "    <tr>\n",
       "      <th>5427268</th>\n",
       "      <td>BoQoM-JFkPA</td>\n",
       "      <td>129258.0</td>\n",
       "      <td>180635.0</td>\n",
       "    </tr>\n",
       "    <tr>\n",
       "      <th>25257169</th>\n",
       "      <td>Bwarws1lCok</td>\n",
       "      <td>684861.0</td>\n",
       "      <td>173988.0</td>\n",
       "    </tr>\n",
       "    <tr>\n",
       "      <th>6220011</th>\n",
       "      <td>Bt4qlVDAZMH</td>\n",
       "      <td>2224495.0</td>\n",
       "      <td>170836.0</td>\n",
       "    </tr>\n",
       "    <tr>\n",
       "      <th>31689573</th>\n",
       "      <td>Bs9NhQkAcJA</td>\n",
       "      <td>226336.0</td>\n",
       "      <td>166919.0</td>\n",
       "    </tr>\n",
       "    <tr>\n",
       "      <th>14257307</th>\n",
       "      <td>Bzqb95QI_1E</td>\n",
       "      <td>169791.0</td>\n",
       "      <td>166198.0</td>\n",
       "    </tr>\n",
       "  </tbody>\n",
       "</table>\n",
       "</div>"
      ],
      "text/plain": [
       "              post_id  numbr_likes  number_comments\n",
       "41873060  Bx2sPAjHviO      38871.0         488953.0\n",
       "12164781  BuGjhWAhAW5      81523.0         313997.0\n",
       "33261751  BJ-rkpTgn1N      54507.0         257488.0\n",
       "11149127  BMtisIxjhtT     331703.0         214365.0\n",
       "9383817   BzOOWj3DfZK      23515.0         189888.0\n",
       "5427268   BoQoM-JFkPA     129258.0         180635.0\n",
       "25257169  Bwarws1lCok     684861.0         173988.0\n",
       "6220011   Bt4qlVDAZMH    2224495.0         170836.0\n",
       "31689573  Bs9NhQkAcJA     226336.0         166919.0\n",
       "14257307  Bzqb95QI_1E     169791.0         166198.0"
      ]
     },
     "execution_count": 6,
     "metadata": {},
     "output_type": "execute_result"
    }
   ],
   "source": [
    "# Displaying the 10 most commented posts\n",
    "posts.sort_values('number_comments', ascending=False).head(10)"
   ]
  },
  {
   "cell_type": "code",
   "execution_count": 7,
   "id": "0b326f68",
   "metadata": {},
   "outputs": [
    {
     "data": {
      "text/html": [
       "<div>\n",
       "<style scoped>\n",
       "    .dataframe tbody tr th:only-of-type {\n",
       "        vertical-align: middle;\n",
       "    }\n",
       "\n",
       "    .dataframe tbody tr th {\n",
       "        vertical-align: top;\n",
       "    }\n",
       "\n",
       "    .dataframe thead th {\n",
       "        text-align: right;\n",
       "    }\n",
       "</style>\n",
       "<table border=\"1\" class=\"dataframe\">\n",
       "  <thead>\n",
       "    <tr style=\"text-align: right;\">\n",
       "      <th></th>\n",
       "      <th>post_id</th>\n",
       "      <th>numbr_likes</th>\n",
       "      <th>number_comments</th>\n",
       "    </tr>\n",
       "  </thead>\n",
       "  <tbody>\n",
       "    <tr>\n",
       "      <th>0</th>\n",
       "      <td>BXdjjUlgcgq</td>\n",
       "      <td>80.0</td>\n",
       "      <td>0.0</td>\n",
       "    </tr>\n",
       "    <tr>\n",
       "      <th>11118493</th>\n",
       "      <td>BulP9Cgl_w3</td>\n",
       "      <td>23.0</td>\n",
       "      <td>0.0</td>\n",
       "    </tr>\n",
       "    <tr>\n",
       "      <th>11118494</th>\n",
       "      <td>BuPOlbNl1wc</td>\n",
       "      <td>27.0</td>\n",
       "      <td>0.0</td>\n",
       "    </tr>\n",
       "    <tr>\n",
       "      <th>11118496</th>\n",
       "      <td>BuBNGbLFCoA</td>\n",
       "      <td>24.0</td>\n",
       "      <td>0.0</td>\n",
       "    </tr>\n",
       "    <tr>\n",
       "      <th>11118497</th>\n",
       "      <td>BtmABtrFM85</td>\n",
       "      <td>23.0</td>\n",
       "      <td>0.0</td>\n",
       "    </tr>\n",
       "    <tr>\n",
       "      <th>11118499</th>\n",
       "      <td>BwtgkWmF0-a</td>\n",
       "      <td>42.0</td>\n",
       "      <td>0.0</td>\n",
       "    </tr>\n",
       "    <tr>\n",
       "      <th>11118501</th>\n",
       "      <td>BrXso1BlvO9</td>\n",
       "      <td>18.0</td>\n",
       "      <td>0.0</td>\n",
       "    </tr>\n",
       "    <tr>\n",
       "      <th>28429740</th>\n",
       "      <td>Bt9yiYjhIyi</td>\n",
       "      <td>43.0</td>\n",
       "      <td>0.0</td>\n",
       "    </tr>\n",
       "    <tr>\n",
       "      <th>11118505</th>\n",
       "      <td>BnnbljUBOpd</td>\n",
       "      <td>45.0</td>\n",
       "      <td>0.0</td>\n",
       "    </tr>\n",
       "    <tr>\n",
       "      <th>28429739</th>\n",
       "      <td>Bt90U7ilqrO</td>\n",
       "      <td>69.0</td>\n",
       "      <td>0.0</td>\n",
       "    </tr>\n",
       "  </tbody>\n",
       "</table>\n",
       "</div>"
      ],
      "text/plain": [
       "              post_id  numbr_likes  number_comments\n",
       "0         BXdjjUlgcgq         80.0              0.0\n",
       "11118493  BulP9Cgl_w3         23.0              0.0\n",
       "11118494  BuPOlbNl1wc         27.0              0.0\n",
       "11118496  BuBNGbLFCoA         24.0              0.0\n",
       "11118497  BtmABtrFM85         23.0              0.0\n",
       "11118499  BwtgkWmF0-a         42.0              0.0\n",
       "11118501  BrXso1BlvO9         18.0              0.0\n",
       "28429740  Bt9yiYjhIyi         43.0              0.0\n",
       "11118505  BnnbljUBOpd         45.0              0.0\n",
       "28429739  Bt90U7ilqrO         69.0              0.0"
      ]
     },
     "execution_count": 7,
     "metadata": {},
     "output_type": "execute_result"
    }
   ],
   "source": [
    "# Displaying the 10 least commented posts\n",
    "posts.sort_values('number_comments').head(10)"
   ]
  },
  {
   "cell_type": "markdown",
   "id": "224f2a3b",
   "metadata": {},
   "source": [
    "Given the fact that probably a lot of posts have the least number of comments (0 comments), we would know the effective number of possts with no comments"
   ]
  },
  {
   "cell_type": "code",
   "execution_count": 10,
   "id": "ed47df6b",
   "metadata": {},
   "outputs": [
    {
     "data": {
      "text/html": [
       "<div>\n",
       "<style scoped>\n",
       "    .dataframe tbody tr th:only-of-type {\n",
       "        vertical-align: middle;\n",
       "    }\n",
       "\n",
       "    .dataframe tbody tr th {\n",
       "        vertical-align: top;\n",
       "    }\n",
       "\n",
       "    .dataframe thead th {\n",
       "        text-align: right;\n",
       "    }\n",
       "</style>\n",
       "<table border=\"1\" class=\"dataframe\">\n",
       "  <thead>\n",
       "    <tr style=\"text-align: right;\">\n",
       "      <th></th>\n",
       "      <th>post_id</th>\n",
       "      <th>numbr_likes</th>\n",
       "      <th>number_comments</th>\n",
       "    </tr>\n",
       "  </thead>\n",
       "  <tbody>\n",
       "    <tr>\n",
       "      <th>0</th>\n",
       "      <td>BXdjjUlgcgq</td>\n",
       "      <td>80.0</td>\n",
       "      <td>0.0</td>\n",
       "    </tr>\n",
       "    <tr>\n",
       "      <th>2</th>\n",
       "      <td>BRgkjcXFp3Q</td>\n",
       "      <td>9.0</td>\n",
       "      <td>0.0</td>\n",
       "    </tr>\n",
       "    <tr>\n",
       "      <th>3</th>\n",
       "      <td>BKTKeNhjEA7</td>\n",
       "      <td>4.0</td>\n",
       "      <td>0.0</td>\n",
       "    </tr>\n",
       "    <tr>\n",
       "      <th>4</th>\n",
       "      <td>8-NQrvoYLX</td>\n",
       "      <td>8.0</td>\n",
       "      <td>0.0</td>\n",
       "    </tr>\n",
       "    <tr>\n",
       "      <th>11</th>\n",
       "      <td>Bx-ptmpinBs</td>\n",
       "      <td>16.0</td>\n",
       "      <td>0.0</td>\n",
       "    </tr>\n",
       "    <tr>\n",
       "      <th>...</th>\n",
       "      <td>...</td>\n",
       "      <td>...</td>\n",
       "      <td>...</td>\n",
       "    </tr>\n",
       "    <tr>\n",
       "      <th>42710190</th>\n",
       "      <td>BpeRbppFQ2l</td>\n",
       "      <td>43.0</td>\n",
       "      <td>0.0</td>\n",
       "    </tr>\n",
       "    <tr>\n",
       "      <th>42710191</th>\n",
       "      <td>Bdx3o7WDypu</td>\n",
       "      <td>149.0</td>\n",
       "      <td>0.0</td>\n",
       "    </tr>\n",
       "    <tr>\n",
       "      <th>42710192</th>\n",
       "      <td>BcpWMWGBfxh</td>\n",
       "      <td>74.0</td>\n",
       "      <td>0.0</td>\n",
       "    </tr>\n",
       "    <tr>\n",
       "      <th>42710193</th>\n",
       "      <td>Ba6LZWwlCl8</td>\n",
       "      <td>49.0</td>\n",
       "      <td>0.0</td>\n",
       "    </tr>\n",
       "    <tr>\n",
       "      <th>42710194</th>\n",
       "      <td>BPN0kM1hYUw</td>\n",
       "      <td>18.0</td>\n",
       "      <td>0.0</td>\n",
       "    </tr>\n",
       "  </tbody>\n",
       "</table>\n",
       "<p>14133205 rows × 3 columns</p>\n",
       "</div>"
      ],
      "text/plain": [
       "              post_id  numbr_likes  number_comments\n",
       "0         BXdjjUlgcgq         80.0              0.0\n",
       "2         BRgkjcXFp3Q          9.0              0.0\n",
       "3         BKTKeNhjEA7          4.0              0.0\n",
       "4          8-NQrvoYLX          8.0              0.0\n",
       "11        Bx-ptmpinBs         16.0              0.0\n",
       "...               ...          ...              ...\n",
       "42710190  BpeRbppFQ2l         43.0              0.0\n",
       "42710191  Bdx3o7WDypu        149.0              0.0\n",
       "42710192  BcpWMWGBfxh         74.0              0.0\n",
       "42710193  Ba6LZWwlCl8         49.0              0.0\n",
       "42710194  BPN0kM1hYUw         18.0              0.0\n",
       "\n",
       "[14133205 rows x 3 columns]"
      ]
     },
     "execution_count": 10,
     "metadata": {},
     "output_type": "execute_result"
    }
   ],
   "source": [
    "# Remark: we replaced every number_comments 'na' with the 0 value  \n",
    "posts[posts['number_comments']==0]"
   ]
  },
  {
   "cell_type": "markdown",
   "id": "8132b69d",
   "metadata": {
    "jp-MarkdownHeadingCollapsed": true,
    "tags": []
   },
   "source": [
    "# [RQ 2.4] How many posts include tagged locations, and how many do not? Show it using an appropriate chart and comment your results\n"
   ]
  },
  {
   "cell_type": "markdown",
   "id": "0410fb83",
   "metadata": {},
   "source": [
    "Partially importing the data set"
   ]
  },
  {
   "cell_type": "code",
   "execution_count": null,
   "id": "82f5600b-3adc-4ccb-a95c-43a37f6d4a22",
   "metadata": {},
   "outputs": [],
   "source": [
    "posts = pd.read_csv('~/instagram_posts.zip', delimiter='\\t',usecols = ['location_id','post_type'])"
   ]
  },
  {
   "cell_type": "markdown",
   "id": "e05b094f",
   "metadata": {},
   "source": [
    "Cleaning the data set"
   ]
  },
  {
   "cell_type": "code",
   "execution_count": null,
   "id": "0bae57f9-e2ad-4a02-a3bf-31c8d37bae4f",
   "metadata": {},
   "outputs": [],
   "source": [
    "posts.location_id.fillna('',inplace=True)\n",
    "posts.post_type.fillna(0, inplace=True)"
   ]
  },
  {
   "cell_type": "code",
   "execution_count": null,
   "id": "b6d73f45",
   "metadata": {},
   "outputs": [
    {
     "name": "stdout",
     "output_type": "stream",
     "text": [
      "The number of posts without location tag is: 12972772\n"
     ]
    }
   ],
   "source": [
    "# Building the data-frame only with posts without location tag\n",
    "no_location = posts[posts['location_id']=='']\n",
    "count_notag = no_location.shape[0]\n",
    "count_tag = posts.shape[0] - count_notag\n",
    "print(\"The number of posts without location tag is:\", count_notag)\n",
    "print(\"The number of posts with location tag is:\", count_tag)"
   ]
  },
  {
   "cell_type": "markdown",
   "id": "79dbd8fe",
   "metadata": {},
   "source": [
    "The sample of posts clearly presents a majority (69,4%) of posts with location tags, and this grants a number of food for thought: \n",
    "\n",
    ">- on the social media under consideration, the relationship between publishing a post and referring to a specific location is fundamental, thus benefiting businesses in particular such as those in the restaurant industry and those related to places and events;\n",
    "\n",
    ">- the almost ubiquitous presence of a location tag allows for the analysis of the level of services and popularity of a specific context and serves as a catalyst for price/service discrimination offered based on a predictive study of users."
   ]
  },
  {
   "cell_type": "code",
   "execution_count": null,
   "id": "3ac5e745",
   "metadata": {},
   "outputs": [
    {
     "data": {
      "image/png": "[encoded data removed]",
      "text/plain": [
       "<Figure size 432x288 with 1 Axes>"
      ]
     },
     "metadata": {},
     "output_type": "display_data"
    }
   ],
   "source": [
    "\n",
    "labels = 'With location tag', 'Without location tag'\n",
    "sizes = [count_tag, count_notag]\n",
    "explode = (0, 0.1)  # \"explode\" the 'Without location tag' slice \n",
    "\n",
    "fig1, ax1 = plt.subplots()\n",
    "ax1.pie(sizes, explode=explode, labels=labels, autopct='%1.1f%%',shadow=True, startangle=45, colors=('y','r'))\n",
    "ax1.axis('equal')  \n",
    "\n",
    "plt.show()"
   ]
  },
  {
   "cell_type": "markdown",
   "id": "5933ab51",
   "metadata": {
    "jp-MarkdownHeadingCollapsed": true,
    "tags": []
   },
   "source": [
    "# [RQ 2.5] How many posts include only photos? How many also have videos?"
   ]
  },
  {
   "cell_type": "code",
   "execution_count": null,
   "id": "47bd660d",
   "metadata": {},
   "outputs": [
    {
     "name": "stdout",
     "output_type": "stream",
     "text": [
      "The number of posts containing photos only is: 41534486\n",
      "In addition the number of posts containing photos and videos is: 40943\n"
     ]
    }
   ],
   "source": [
    "# counting posts for each category of post\n",
    "\n",
    "photo_count = posts[posts['post_type']==1].shape[0]\n",
    "video_count = posts[posts['post_type']==2].shape[0]\n",
    "multi_count = posts[posts['post_type']==3].shape[0]\n",
    "\n",
    "print(\"The number of posts containing photos only is:\",photo_count)\n",
    "print(\"In addition the number of posts containing photos and videos is:\",multi_count)"
   ]
  },
  {
   "cell_type": "markdown",
   "id": "d5aa68a8",
   "metadata": {},
   "source": [
    "Users clearly prefer to carry content in a unique format and prefer photos to videos (preferences will likely have been skewed by Tik Tok's growth in popularity in recent years)."
   ]
  },
  {
   "cell_type": "code",
   "execution_count": null,
   "id": "8dc0c5dc",
   "metadata": {},
   "outputs": [
    {
     "data": {
      "image/png": "[encoded data removed]",
      "text/plain": [
       "<Figure size 432x288 with 1 Axes>"
      ]
     },
     "metadata": {
      "needs_background": "light"
     },
     "output_type": "display_data"
    }
   ],
   "source": [
    "labels = ['Only photos', 'Only videos', 'Both photos and videos']\n",
    "counts = [photo_count, video_count, multi_count]\n",
    "\n",
    "fig, ax = plt.subplots()    \n",
    "width = 0.75\n",
    "ind = np.arange(len(counts))  # the x locations for the groups\n",
    "ax.barh(ind, counts, width, color=('b', 'r', 'g'))\n",
    "ax.set_yticks(ind+width/2)\n",
    "ax.set_yticklabels(labels, minor=False)\n",
    "plt.title('Content of posts')\n",
    "      \n",
    "plt.show()"
   ]
  },
  {
   "cell_type": "markdown",
   "id": "c84c49fb",
   "metadata": {},
   "source": [
    "The proportions between the quantities of posts of the 3 categories do not allow a clean visualization of information in the bar plot above. We have huge differencies between them and the photo is the predominant type content in this social (consistent with its historical background and early form of publication)."
   ]
  },
  {
   "cell_type": "markdown",
   "id": "789fa7bb",
   "metadata": {
    "jp-MarkdownHeadingCollapsed": true,
    "tags": []
   },
   "source": [
    "# [RQ 2.6] What's the percentage of business accounts vs non-business? What can you interpret regarding that percentage?"
   ]
  },
  {
   "cell_type": "code",
   "execution_count": null,
   "id": "53aeaadd",
   "metadata": {},
   "outputs": [
    {
     "name": "stdout",
     "output_type": "stream",
     "text": [
      "The number of business accounts is: 855254\n"
     ]
    }
   ],
   "source": [
    "# counting the business accounts\n",
    "\n",
    "business = profiles[profiles['is_business_account']==True].shape[0]\n",
    "tot = profiles.shape[0]\n",
    "not_business = tot - business\n",
    "\n",
    "print(\"The number of business accounts is:\",business, (business/tot)*100,\" of the accounts\")"
   ]
  },
  {
   "cell_type": "markdown",
   "id": "0340a419",
   "metadata": {},
   "source": [
    "Despite the presence of multiple fake, disused, or simple bot accounts, the business option affects a significant portion of users.\n",
    "\n",
    "This means that many profiles use instagram to make a profit and/or for advertising purposes: 19% of the sample monetize with their account or otherwise find it profitable to pay for a premium service to sponsor themselves or the company they work for. \n",
    "The figure is relevant to highlight two main aspects:\n",
    ">- a good portion of what we see has the pure purpose of introducing us to a particular product or service;\n",
    "\n",
    ">- instagram, like most social media, is probably most useful for carrying out marketing strategies. "
   ]
  },
  {
   "cell_type": "markdown",
   "id": "71b7c9a4",
   "metadata": {},
   "source": [
    "<div class=\"alert alert-block alert-danger\">\n",
    "<b>WARNING</b>: The reasoning we have arrived at could be alarming because anything that is closely related to the world of business and consumerism often departs from an objective view of the world. Instead, more room is given to market manipulation, customer study and objectification of reality!\n",
    "</div>"
   ]
  },
  {
   "cell_type": "code",
   "execution_count": null,
   "id": "382090e0",
   "metadata": {},
   "outputs": [
    {
     "data": {
      "image/png": "[encoded data removed]",
      "text/plain": [
       "<Figure size 432x288 with 1 Axes>"
      ]
     },
     "metadata": {},
     "output_type": "display_data"
    }
   ],
   "source": [
    "labels = 'Business', 'Not business'\n",
    "sizes = [business, not_business]\n",
    "explode = (0.3, 0)  # \"explode\" the 'Without location tag' slice \n",
    "\n",
    "fig1, ax1 = plt.subplots()\n",
    "ax1.pie(sizes, explode=explode, labels=labels, autopct='%1.1f%%',shadow=True, startangle=90)\n",
    "ax1.axis('equal')  \n",
    "\n",
    "plt.show()"
   ]
  },
  {
   "cell_type": "markdown",
   "id": "8100c623",
   "metadata": {},
   "source": [
    "<div class=\"alert alert-block alert-warning\">\n",
    "<b>RESULT:</b> This explains why instagram turns out to be an unfriendly place for the formation of united and supportive commuinities (unlike, for example, Reddit) and is rampant with fake news and anccount scams. When deriving information from sources related to increased money circulation and broad speculative interests one must always measure the sincerity of the user and avoid comparing oneself and one's life with ad hoc created accounts on this platform\n",
    "</div>"
   ]
  },
  {
   "cell_type": "markdown",
   "id": "00760e15",
   "metadata": {
    "jp-MarkdownHeadingCollapsed": true,
    "tags": []
   },
   "source": [
    "# [RQ 3.1] What is the most common time in which users publish their posts?"
   ]
  },
  {
   "cell_type": "markdown",
   "id": "fd74d64b",
   "metadata": {},
   "source": [
    "For this excercise we only need the 'cts' attribute"
   ]
  },
  {
   "cell_type": "code",
   "execution_count": 12,
   "id": "12663d2e-f2cc-454a-a61e-308f0b4daa74",
   "metadata": {},
   "outputs": [],
   "source": [
    "posts = pd.read_csv('instagram_posts.zip', delimiter='\\t',usecols = ['cts'])"
   ]
  },
  {
   "cell_type": "code",
   "execution_count": 13,
   "id": "b923ff0a",
   "metadata": {},
   "outputs": [
    {
     "data": {
      "text/plain": [
       "cts    datetime64[ns]\n",
       "dtype: object"
      ]
     },
     "execution_count": 13,
     "metadata": {},
     "output_type": "execute_result"
    }
   ],
   "source": [
    "# converting the cts attribute in date time\n",
    "posts.cts = pd.to_datetime(posts['cts'])\n",
    "posts.dropna(subset=['cts'],inplace=True)\n",
    "posts.dtypes # to verify that we correctly casted our 'cts' attribute"
   ]
  },
  {
   "cell_type": "code",
   "execution_count": 6,
   "id": "371e18d9",
   "metadata": {},
   "outputs": [
    {
     "name": "stdout",
     "output_type": "stream",
     "text": [
      "The most common time in which users publish their posts is: 21:00:09\n",
      "The published posts at this time are: 928\n"
     ]
    }
   ],
   "source": [
    "# using Counter in order to detect the most common date time\n",
    "\n",
    "datetimes = posts['cts'].dt.time\n",
    "counter = Counter(datetimes)\n",
    "most_used = counter.most_common(1)\n",
    "print(\"The most common time in which users publish their posts is:\", most_used[0][0])\n",
    "print(\"The published posts at this time are:\", most_used[0][1])"
   ]
  },
  {
   "cell_type": "code",
   "execution_count": null,
   "id": "df580097-dc2a-4786-a2d9-aa4debf048e3",
   "metadata": {},
   "outputs": [
    {
     "name": "stdout",
     "output_type": "stream",
     "text": [
      "The most common hour in which users publish their posts is: 19\n",
      "The published posts at this hour are: 2499758\n"
     ]
    }
   ],
   "source": [
    "# we could interpretate the output of the excercise as the most common time slot (i.e. most common hour) \n",
    "\n",
    "datetimeh = posts['cts'].dt.hour\n",
    "counter = Counter(datetimeh)\n",
    "most_used = counter.most_common(1)\n",
    "print(\"The most common hour in which users publish their posts is:\", most_used[0][0])\n",
    "print(\"The published posts at this hour are:\", most_used[0][1])"
   ]
  },
  {
   "cell_type": "code",
   "execution_count": null,
   "id": "800b0380",
   "metadata": {},
   "outputs": [
    {
     "name": "stderr",
     "output_type": "stream",
     "text": [
      "\n",
      "KeyboardInterrupt\n",
      "\n"
     ]
    }
   ],
   "source": [
    "# we stringify the datetime objects in order to split in an easy way (only one step per row) the 'datetime' serie\n",
    "# and expand it in a data frame of 3 columns\n",
    "datetimes.astype(str)\n",
    "datetimes = pd.Series(datetimes, dtype=\"string\")\n",
    "datetimes = datetimes.str.split(\":\",expand=True,)\n"
   ]
  },
  {
   "cell_type": "markdown",
   "id": "38fcae89",
   "metadata": {},
   "source": [
    "### In the following histogram we plot the concentration of published posts by time slot"
   ]
  },
  {
   "cell_type": "code",
   "execution_count": null,
   "id": "1b2666a3",
   "metadata": {},
   "outputs": [
    {
     "data": {
      "image/png": "[encoded data removed]",
      "text/plain": [
       "<Figure size 2000x800 with 1 Axes>"
      ]
     },
     "metadata": {},
     "output_type": "display_data"
    }
   ],
   "source": [
    "plt.figure(figsize=(20, 8))\n",
    "plt.title('Daily distribution of posts')\n",
    "plt.xlabel('hours')\n",
    "plt.ylabel('# of posts')\n",
    " \n",
    "plt.hist(datetime[0].sort_values(), bins=24)\n",
    "plt.show()"
   ]
  },
  {
   "cell_type": "markdown",
   "id": "04f3c2f5",
   "metadata": {},
   "source": [
    "We can clearly see an increasing publication of posts in the afternoon/evening (4:00 p.m. to 10:00 p.m.).\n",
    "This concentration is probably due to the possibility of prolonged access to social during non-work or non-school hours. During the night the activity does not stop but slows down."
   ]
  },
  {
   "cell_type": "markdown",
   "id": "f5f43df3",
   "metadata": {},
   "source": [
    "<div class=\"alert alert-block alert-warning\">\n",
    "<b>RESULT:</b> you can use this information to analyze the right time to publish a post and make an initial rough prediction about the possible visibility of the post.\n",
    "</div>"
   ]
  },
  {
   "cell_type": "markdown",
   "id": "af255cbe",
   "metadata": {
    "jp-MarkdownHeadingCollapsed": true,
    "tags": []
   },
   "source": [
    "# [RQ 3.2] Create a function that receives a time intervals list as a parameter and returns a plot with the number of posts for each given interval"
   ]
  },
  {
   "cell_type": "markdown",
   "id": "cdf216b7",
   "metadata": {},
   "source": [
    "We want to write a function that plots the number of posts at the different times of the day given as input. We assume that the times are not in general of equal length and that each interval is defined by two times (one beginning and one ending interval)."
   ]
  },
  {
   "cell_type": "markdown",
   "id": "703ca6ca",
   "metadata": {},
   "source": [
    "<div class=\"alert alert-block alert-danger\">\n",
    "<b>WARNING</b>: we don't use the 'hist' function like in the histogram above since we have not necessarly intervals of the same length or that cover the whole daytime.\n",
    "</div>"
   ]
  },
  {
   "cell_type": "markdown",
   "id": "d94f4b9d",
   "metadata": {},
   "source": [
    "Our function takes in input:\n",
    ">- our 'datetimes' serie with the time of publication of every post in the posts dataframe;\n",
    ">- a list of tuples, each tuple contains two strings (respectively the start time and the end time of a single interval) in the format 'hours:minutes:seconds'."
   ]
  },
  {
   "cell_type": "markdown",
   "id": "ff9f1848",
   "metadata": {},
   "source": [
    "Let's introduce a trivial example with 2 large intervals of time. We'll see that, according to the histogram at the end of the excercise 3.1, during the second time interval a lot of posts are published (in particular compared with the first interval).\n",
    "\n",
    "We note that the the discrepancy in the 2 intervals is given both by the different widths of these and by the time of reference. "
   ]
  },
  {
   "cell_type": "code",
   "execution_count": 7,
   "id": "d949b480",
   "metadata": {},
   "outputs": [
    {
     "data": {
      "image/png": "[encoded data removed]",
      "text/plain": [
       "<Figure size 432x288 with 1 Axes>"
      ]
     },
     "metadata": {
      "needs_background": "light"
     },
     "output_type": "display_data"
    }
   ],
   "source": [
    "# testing the function above\n",
    "from functions import *\n",
    "time_intervals = [('06:00:00','10:59:59'),('11:00:00', '13:59:59')]\n",
    "numb_posts = functions.posts_by_interval(time_intervals, datetimes)\n",
    "plt.bar(np.array([str(interval[0]) + '-'+str(interval[1]) for interval in time_intervals]), numb_posts)\n",
    "plt.xticks(rotation=90)\n",
    "plt.show()\n"
   ]
  },
  {
   "cell_type": "markdown",
   "id": "075fbb5d",
   "metadata": {
    "jp-MarkdownHeadingCollapsed": true,
    "tags": []
   },
   "source": [
    "# [RQ 3.3] Use the function that you created in the previous literal to plot the number of posts between the following time intervals\n"
   ]
  },
  {
   "cell_type": "code",
   "execution_count": 8,
   "id": "8af31061",
   "metadata": {},
   "outputs": [],
   "source": [
    "time_intervals = [('06:00:00','10:59:59'),('11:00:00', '13:59:59'),('14:00:00','16:59:59'),('17:00:00', '19:59:59'),('20:00:00', '23:59:59'),('00:00:00', '02:59:59'),('03:00:00', '05:59:59')]"
   ]
  },
  {
   "cell_type": "code",
   "execution_count": 9,
   "id": "00d13716-b462-4e7b-92c9-e3a35196fce5",
   "metadata": {},
   "outputs": [
    {
     "data": {
      "image/png": "[encoded data removed]",
      "text/plain": [
       "<Figure size 432x288 with 1 Axes>"
      ]
     },
     "metadata": {
      "needs_background": "light"
     },
     "output_type": "display_data"
    },
    {
     "name": "stdout",
     "output_type": "stream",
     "text": [
      "The number of posts published in the time interval ('06:00:00', '10:59:59') is 6378572\n",
      "The number of posts published in the time interval ('11:00:00', '13:59:59') is 5614715\n",
      "The number of posts published in the time interval ('14:00:00', '16:59:59') is 6763037\n",
      "The number of posts published in the time interval ('17:00:00', '19:59:59') is 7409907\n",
      "The number of posts published in the time interval ('20:00:00', '23:59:59') is 8915794\n",
      "The number of posts published in the time interval ('00:00:00', '02:59:59') is 4213617\n",
      "The number of posts published in the time interval ('03:00:00', '05:59:59') is 3411223\n"
     ]
    }
   ],
   "source": [
    "#plotting the # of posts per interval time using the function from the previus point\n",
    "\n",
    "numb_posts = posts_by_interval(time_intervals, datetimes)\n",
    "plt.bar(np.array([str(interval[0]) + '-'+str(interval[1]) for interval in time_intervals]), numb_posts)\n",
    "plt.xticks(rotation=90)\n",
    "plt.show()\n",
    "\n",
    "for i in range(len(time_intervals)):\n",
    "    print(f\"The number of posts published in the time interval {time_intervals[i]} is {numb_posts[i]}\")"
   ]
  },
  {
   "cell_type": "markdown",
   "id": "2558ae53",
   "metadata": {},
   "source": [
    "Obviously we have to assume that the distribution of these times of publication of posts are refer to a unique time zone. In absence of this assumption the result above is not really relevant"
   ]
  },
  {
   "cell_type": "markdown",
   "id": "56d2ea82",
   "metadata": {},
   "source": [
    "The correctness of the result can be inferred through consistency with what we obtained in the histogram of exercise 3.1:\n",
    "\n",
    ">- we have a max of activity in the late afternoon/ after dinner time;\n",
    "\n",
    ">- at the first hours in the morning we have a distinct lack of activity."
   ]
  },
  {
   "cell_type": "markdown",
   "id": "5d7ccb85",
   "metadata": {
    "jp-MarkdownHeadingCollapsed": true,
    "tags": []
   },
   "source": [
    "# [RQ 4.1] Write a function that, given a profile_id, will be able to return the posts that belong to the given profile_id"
   ]
  },
  {
   "cell_type": "markdown",
   "id": "600c0da6",
   "metadata": {},
   "source": [
    "With the function below we extract all over the rows in the 'posts' data frame wich correspond to the profile id passed as agrument of the function"
   ]
  },
  {
   "cell_type": "code",
   "execution_count": 4,
   "id": "d2bd54fd-7eb2-4d6d-bb59-4952eb2f610e",
   "metadata": {},
   "outputs": [],
   "source": [
    "# we partially import the data sets for this excercise\n",
    "profiles = pd.read_csv('~/instagram_profiles.zip', delimiter='\\t',usecols = ['profile_id','n_posts'])"
   ]
  },
  {
   "cell_type": "code",
   "execution_count": 5,
   "id": "6090b640-a878-44aa-a88c-ae69ab694799",
   "metadata": {},
   "outputs": [],
   "source": [
    "posts = pd.read_csv('~/instagram_posts.zip', delimiter='\\t',usecols = ['profile_id','numbr_likes','number_comments'])"
   ]
  },
  {
   "cell_type": "markdown",
   "id": "b55d4fb9",
   "metadata": {},
   "source": [
    "the function posts_by_profileid returns the posts published by the user passed as argument"
   ]
  },
  {
   "cell_type": "code",
   "execution_count": 6,
   "id": "2afc7669",
   "metadata": {},
   "outputs": [
    {
     "data": {
      "text/html": [
       "<div>\n",
       "<style scoped>\n",
       "    .dataframe tbody tr th:only-of-type {\n",
       "        vertical-align: middle;\n",
       "    }\n",
       "\n",
       "    .dataframe tbody tr th {\n",
       "        vertical-align: top;\n",
       "    }\n",
       "\n",
       "    .dataframe thead th {\n",
       "        text-align: right;\n",
       "    }\n",
       "</style>\n",
       "<table border=\"1\" class=\"dataframe\">\n",
       "  <thead>\n",
       "    <tr style=\"text-align: right;\">\n",
       "      <th></th>\n",
       "      <th>profile_id</th>\n",
       "      <th>numbr_likes</th>\n",
       "      <th>number_comments</th>\n",
       "    </tr>\n",
       "  </thead>\n",
       "  <tbody>\n",
       "    <tr>\n",
       "      <th>940554</th>\n",
       "      <td>553970442.0</td>\n",
       "      <td>1043.0</td>\n",
       "      <td>10447.0</td>\n",
       "    </tr>\n",
       "    <tr>\n",
       "      <th>940555</th>\n",
       "      <td>553970442.0</td>\n",
       "      <td>24.0</td>\n",
       "      <td>1.0</td>\n",
       "    </tr>\n",
       "    <tr>\n",
       "      <th>940556</th>\n",
       "      <td>553970442.0</td>\n",
       "      <td>1653.0</td>\n",
       "      <td>11391.0</td>\n",
       "    </tr>\n",
       "    <tr>\n",
       "      <th>940557</th>\n",
       "      <td>553970442.0</td>\n",
       "      <td>3580.0</td>\n",
       "      <td>20671.0</td>\n",
       "    </tr>\n",
       "    <tr>\n",
       "      <th>940570</th>\n",
       "      <td>553970442.0</td>\n",
       "      <td>35.0</td>\n",
       "      <td>0.0</td>\n",
       "    </tr>\n",
       "    <tr>\n",
       "      <th>940571</th>\n",
       "      <td>553970442.0</td>\n",
       "      <td>27.0</td>\n",
       "      <td>0.0</td>\n",
       "    </tr>\n",
       "    <tr>\n",
       "      <th>940572</th>\n",
       "      <td>553970442.0</td>\n",
       "      <td>46.0</td>\n",
       "      <td>0.0</td>\n",
       "    </tr>\n",
       "    <tr>\n",
       "      <th>940573</th>\n",
       "      <td>553970442.0</td>\n",
       "      <td>41.0</td>\n",
       "      <td>0.0</td>\n",
       "    </tr>\n",
       "    <tr>\n",
       "      <th>940574</th>\n",
       "      <td>553970442.0</td>\n",
       "      <td>11.0</td>\n",
       "      <td>0.0</td>\n",
       "    </tr>\n",
       "    <tr>\n",
       "      <th>940575</th>\n",
       "      <td>553970442.0</td>\n",
       "      <td>38.0</td>\n",
       "      <td>0.0</td>\n",
       "    </tr>\n",
       "    <tr>\n",
       "      <th>940576</th>\n",
       "      <td>553970442.0</td>\n",
       "      <td>51.0</td>\n",
       "      <td>0.0</td>\n",
       "    </tr>\n",
       "    <tr>\n",
       "      <th>940577</th>\n",
       "      <td>553970442.0</td>\n",
       "      <td>125.0</td>\n",
       "      <td>3.0</td>\n",
       "    </tr>\n",
       "    <tr>\n",
       "      <th>940578</th>\n",
       "      <td>553970442.0</td>\n",
       "      <td>22.0</td>\n",
       "      <td>0.0</td>\n",
       "    </tr>\n",
       "    <tr>\n",
       "      <th>940580</th>\n",
       "      <td>553970442.0</td>\n",
       "      <td>33.0</td>\n",
       "      <td>2.0</td>\n",
       "    </tr>\n",
       "  </tbody>\n",
       "</table>\n",
       "</div>"
      ],
      "text/plain": [
       "         profile_id  numbr_likes  number_comments\n",
       "940554  553970442.0       1043.0          10447.0\n",
       "940555  553970442.0         24.0              1.0\n",
       "940556  553970442.0       1653.0          11391.0\n",
       "940557  553970442.0       3580.0          20671.0\n",
       "940570  553970442.0         35.0              0.0\n",
       "940571  553970442.0         27.0              0.0\n",
       "940572  553970442.0         46.0              0.0\n",
       "940573  553970442.0         41.0              0.0\n",
       "940574  553970442.0         11.0              0.0\n",
       "940575  553970442.0         38.0              0.0\n",
       "940576  553970442.0         51.0              0.0\n",
       "940577  553970442.0        125.0              3.0\n",
       "940578  553970442.0         22.0              0.0\n",
       "940580  553970442.0         33.0              2.0"
      ]
     },
     "execution_count": 6,
     "metadata": {},
     "output_type": "execute_result"
    }
   ],
   "source": [
    "# testing the function\n",
    "functions.posts_by_profileid(553970442.0,posts)"
   ]
  },
  {
   "cell_type": "markdown",
   "id": "4673476e",
   "metadata": {
    "jp-MarkdownHeadingCollapsed": true,
    "tags": []
   },
   "source": [
    "# [RQ 4.2] Write another function that, given an input n (an integer), will return the posts that belong to the n top posted profiles (top n profiles that have posted the highest number of posts) that their data is available in the profile.csv using the previously written function"
   ]
  },
  {
   "cell_type": "markdown",
   "id": "0812abdb",
   "metadata": {},
   "source": [
    "Let's start with some little changes to the _posts_by_profileid_ function: we want a new function that takes a list of profiles and returns all the posts published by one of these profiles"
   ]
  },
  {
   "cell_type": "markdown",
   "id": "1e8a1d87",
   "metadata": {},
   "source": [
    "The function posts_by_profileid2 returns all the posts that are published by an user that is present in the list passed as argument.\n",
    "The only difference from the funtion above is the argument passed: in this case is a list of profile ids"
   ]
  },
  {
   "cell_type": "code",
   "execution_count": 10,
   "id": "b67fafcf",
   "metadata": {},
   "outputs": [
    {
     "data": {
      "text/html": [
       "<div>\n",
       "<style scoped>\n",
       "    .dataframe tbody tr th:only-of-type {\n",
       "        vertical-align: middle;\n",
       "    }\n",
       "\n",
       "    .dataframe tbody tr th {\n",
       "        vertical-align: top;\n",
       "    }\n",
       "\n",
       "    .dataframe thead th {\n",
       "        text-align: right;\n",
       "    }\n",
       "</style>\n",
       "<table border=\"1\" class=\"dataframe\">\n",
       "  <thead>\n",
       "    <tr style=\"text-align: right;\">\n",
       "      <th></th>\n",
       "      <th>profile_id</th>\n",
       "      <th>numbr_likes</th>\n",
       "      <th>number_comments</th>\n",
       "    </tr>\n",
       "  </thead>\n",
       "  <tbody>\n",
       "    <tr>\n",
       "      <th>313806</th>\n",
       "      <td>4.731971e+09</td>\n",
       "      <td>1963123.0</td>\n",
       "      <td>53878.0</td>\n",
       "    </tr>\n",
       "    <tr>\n",
       "      <th>940554</th>\n",
       "      <td>5.539704e+08</td>\n",
       "      <td>1043.0</td>\n",
       "      <td>10447.0</td>\n",
       "    </tr>\n",
       "    <tr>\n",
       "      <th>940555</th>\n",
       "      <td>5.539704e+08</td>\n",
       "      <td>24.0</td>\n",
       "      <td>1.0</td>\n",
       "    </tr>\n",
       "    <tr>\n",
       "      <th>940556</th>\n",
       "      <td>5.539704e+08</td>\n",
       "      <td>1653.0</td>\n",
       "      <td>11391.0</td>\n",
       "    </tr>\n",
       "    <tr>\n",
       "      <th>940557</th>\n",
       "      <td>5.539704e+08</td>\n",
       "      <td>3580.0</td>\n",
       "      <td>20671.0</td>\n",
       "    </tr>\n",
       "    <tr>\n",
       "      <th>940570</th>\n",
       "      <td>5.539704e+08</td>\n",
       "      <td>35.0</td>\n",
       "      <td>0.0</td>\n",
       "    </tr>\n",
       "    <tr>\n",
       "      <th>940571</th>\n",
       "      <td>5.539704e+08</td>\n",
       "      <td>27.0</td>\n",
       "      <td>0.0</td>\n",
       "    </tr>\n",
       "    <tr>\n",
       "      <th>940572</th>\n",
       "      <td>5.539704e+08</td>\n",
       "      <td>46.0</td>\n",
       "      <td>0.0</td>\n",
       "    </tr>\n",
       "    <tr>\n",
       "      <th>940573</th>\n",
       "      <td>5.539704e+08</td>\n",
       "      <td>41.0</td>\n",
       "      <td>0.0</td>\n",
       "    </tr>\n",
       "    <tr>\n",
       "      <th>940574</th>\n",
       "      <td>5.539704e+08</td>\n",
       "      <td>11.0</td>\n",
       "      <td>0.0</td>\n",
       "    </tr>\n",
       "    <tr>\n",
       "      <th>940575</th>\n",
       "      <td>5.539704e+08</td>\n",
       "      <td>38.0</td>\n",
       "      <td>0.0</td>\n",
       "    </tr>\n",
       "    <tr>\n",
       "      <th>940576</th>\n",
       "      <td>5.539704e+08</td>\n",
       "      <td>51.0</td>\n",
       "      <td>0.0</td>\n",
       "    </tr>\n",
       "    <tr>\n",
       "      <th>940577</th>\n",
       "      <td>5.539704e+08</td>\n",
       "      <td>125.0</td>\n",
       "      <td>3.0</td>\n",
       "    </tr>\n",
       "    <tr>\n",
       "      <th>940578</th>\n",
       "      <td>5.539704e+08</td>\n",
       "      <td>22.0</td>\n",
       "      <td>0.0</td>\n",
       "    </tr>\n",
       "    <tr>\n",
       "      <th>940580</th>\n",
       "      <td>5.539704e+08</td>\n",
       "      <td>33.0</td>\n",
       "      <td>2.0</td>\n",
       "    </tr>\n",
       "    <tr>\n",
       "      <th>41297282</th>\n",
       "      <td>4.731971e+09</td>\n",
       "      <td>47039.0</td>\n",
       "      <td>169.0</td>\n",
       "    </tr>\n",
       "  </tbody>\n",
       "</table>\n",
       "</div>"
      ],
      "text/plain": [
       "            profile_id  numbr_likes  number_comments\n",
       "313806    4.731971e+09    1963123.0          53878.0\n",
       "940554    5.539704e+08       1043.0          10447.0\n",
       "940555    5.539704e+08         24.0              1.0\n",
       "940556    5.539704e+08       1653.0          11391.0\n",
       "940557    5.539704e+08       3580.0          20671.0\n",
       "940570    5.539704e+08         35.0              0.0\n",
       "940571    5.539704e+08         27.0              0.0\n",
       "940572    5.539704e+08         46.0              0.0\n",
       "940573    5.539704e+08         41.0              0.0\n",
       "940574    5.539704e+08         11.0              0.0\n",
       "940575    5.539704e+08         38.0              0.0\n",
       "940576    5.539704e+08         51.0              0.0\n",
       "940577    5.539704e+08        125.0              3.0\n",
       "940578    5.539704e+08         22.0              0.0\n",
       "940580    5.539704e+08         33.0              2.0\n",
       "41297282  4.731971e+09      47039.0            169.0"
      ]
     },
     "execution_count": 10,
     "metadata": {},
     "output_type": "execute_result"
    }
   ],
   "source": [
    "# testing the function above with simply a list of length 2\n",
    "functions.posts_by_profileid2([4731970969.0,553970442.0],posts)"
   ]
  },
  {
   "cell_type": "markdown",
   "id": "108c46cf",
   "metadata": {},
   "source": [
    "Now the function influencers_posts takes in input an integer an returns all the posts of the most 'active' profiles\n",
    "Thus we use a combination with the function decribed in the cells above"
   ]
  },
  {
   "cell_type": "code",
   "execution_count": 12,
   "id": "68e607b6-5313-4c41-a0c8-fa63746e2381",
   "metadata": {},
   "outputs": [
    {
     "data": {
      "text/html": [
       "<div>\n",
       "<style scoped>\n",
       "    .dataframe tbody tr th:only-of-type {\n",
       "        vertical-align: middle;\n",
       "    }\n",
       "\n",
       "    .dataframe tbody tr th {\n",
       "        vertical-align: top;\n",
       "    }\n",
       "\n",
       "    .dataframe thead th {\n",
       "        text-align: right;\n",
       "    }\n",
       "</style>\n",
       "<table border=\"1\" class=\"dataframe\">\n",
       "  <thead>\n",
       "    <tr style=\"text-align: right;\">\n",
       "      <th></th>\n",
       "      <th>profile_id</th>\n",
       "      <th>numbr_likes</th>\n",
       "      <th>number_comments</th>\n",
       "    </tr>\n",
       "  </thead>\n",
       "  <tbody>\n",
       "    <tr>\n",
       "      <th>9592952</th>\n",
       "      <td>199664772.0</td>\n",
       "      <td>0.0</td>\n",
       "      <td>0.0</td>\n",
       "    </tr>\n",
       "    <tr>\n",
       "      <th>9592953</th>\n",
       "      <td>199664772.0</td>\n",
       "      <td>0.0</td>\n",
       "      <td>0.0</td>\n",
       "    </tr>\n",
       "    <tr>\n",
       "      <th>9592954</th>\n",
       "      <td>199664772.0</td>\n",
       "      <td>27.0</td>\n",
       "      <td>0.0</td>\n",
       "    </tr>\n",
       "    <tr>\n",
       "      <th>9592955</th>\n",
       "      <td>199664772.0</td>\n",
       "      <td>28.0</td>\n",
       "      <td>0.0</td>\n",
       "    </tr>\n",
       "    <tr>\n",
       "      <th>9592956</th>\n",
       "      <td>199664772.0</td>\n",
       "      <td>1.0</td>\n",
       "      <td>0.0</td>\n",
       "    </tr>\n",
       "    <tr>\n",
       "      <th>9592957</th>\n",
       "      <td>199664772.0</td>\n",
       "      <td>7.0</td>\n",
       "      <td>0.0</td>\n",
       "    </tr>\n",
       "    <tr>\n",
       "      <th>9592958</th>\n",
       "      <td>199664772.0</td>\n",
       "      <td>3.0</td>\n",
       "      <td>0.0</td>\n",
       "    </tr>\n",
       "    <tr>\n",
       "      <th>9592959</th>\n",
       "      <td>199664772.0</td>\n",
       "      <td>1.0</td>\n",
       "      <td>0.0</td>\n",
       "    </tr>\n",
       "    <tr>\n",
       "      <th>9592960</th>\n",
       "      <td>199664772.0</td>\n",
       "      <td>19.0</td>\n",
       "      <td>0.0</td>\n",
       "    </tr>\n",
       "    <tr>\n",
       "      <th>9592961</th>\n",
       "      <td>199664772.0</td>\n",
       "      <td>11.0</td>\n",
       "      <td>0.0</td>\n",
       "    </tr>\n",
       "    <tr>\n",
       "      <th>9592962</th>\n",
       "      <td>199664772.0</td>\n",
       "      <td>6.0</td>\n",
       "      <td>0.0</td>\n",
       "    </tr>\n",
       "    <tr>\n",
       "      <th>9592963</th>\n",
       "      <td>199664772.0</td>\n",
       "      <td>2.0</td>\n",
       "      <td>0.0</td>\n",
       "    </tr>\n",
       "    <tr>\n",
       "      <th>9592964</th>\n",
       "      <td>199664772.0</td>\n",
       "      <td>4.0</td>\n",
       "      <td>0.0</td>\n",
       "    </tr>\n",
       "    <tr>\n",
       "      <th>9592965</th>\n",
       "      <td>199664772.0</td>\n",
       "      <td>2.0</td>\n",
       "      <td>0.0</td>\n",
       "    </tr>\n",
       "    <tr>\n",
       "      <th>9592966</th>\n",
       "      <td>199664772.0</td>\n",
       "      <td>6.0</td>\n",
       "      <td>0.0</td>\n",
       "    </tr>\n",
       "    <tr>\n",
       "      <th>9592967</th>\n",
       "      <td>199664772.0</td>\n",
       "      <td>2.0</td>\n",
       "      <td>0.0</td>\n",
       "    </tr>\n",
       "    <tr>\n",
       "      <th>9592968</th>\n",
       "      <td>199664772.0</td>\n",
       "      <td>3.0</td>\n",
       "      <td>0.0</td>\n",
       "    </tr>\n",
       "    <tr>\n",
       "      <th>9592969</th>\n",
       "      <td>199664772.0</td>\n",
       "      <td>3.0</td>\n",
       "      <td>0.0</td>\n",
       "    </tr>\n",
       "    <tr>\n",
       "      <th>9593158</th>\n",
       "      <td>199664772.0</td>\n",
       "      <td>17.0</td>\n",
       "      <td>0.0</td>\n",
       "    </tr>\n",
       "    <tr>\n",
       "      <th>9593159</th>\n",
       "      <td>199664772.0</td>\n",
       "      <td>10.0</td>\n",
       "      <td>0.0</td>\n",
       "    </tr>\n",
       "    <tr>\n",
       "      <th>9593160</th>\n",
       "      <td>199664772.0</td>\n",
       "      <td>9.0</td>\n",
       "      <td>0.0</td>\n",
       "    </tr>\n",
       "  </tbody>\n",
       "</table>\n",
       "</div>"
      ],
      "text/plain": [
       "          profile_id  numbr_likes  number_comments\n",
       "9592952  199664772.0          0.0              0.0\n",
       "9592953  199664772.0          0.0              0.0\n",
       "9592954  199664772.0         27.0              0.0\n",
       "9592955  199664772.0         28.0              0.0\n",
       "9592956  199664772.0          1.0              0.0\n",
       "9592957  199664772.0          7.0              0.0\n",
       "9592958  199664772.0          3.0              0.0\n",
       "9592959  199664772.0          1.0              0.0\n",
       "9592960  199664772.0         19.0              0.0\n",
       "9592961  199664772.0         11.0              0.0\n",
       "9592962  199664772.0          6.0              0.0\n",
       "9592963  199664772.0          2.0              0.0\n",
       "9592964  199664772.0          4.0              0.0\n",
       "9592965  199664772.0          2.0              0.0\n",
       "9592966  199664772.0          6.0              0.0\n",
       "9592967  199664772.0          2.0              0.0\n",
       "9592968  199664772.0          3.0              0.0\n",
       "9592969  199664772.0          3.0              0.0\n",
       "9593158  199664772.0         17.0              0.0\n",
       "9593159  199664772.0         10.0              0.0\n",
       "9593160  199664772.0          9.0              0.0"
      ]
     },
     "execution_count": 12,
     "metadata": {},
     "output_type": "execute_result"
    }
   ],
   "source": [
    "# we want to show with this dataframe display that not all over the users' posts are present in the posts dataframe\n",
    "# in the example below we check all the posts in 'posts' data set posted by the user profile with the highest number of posts\n",
    "functions.posts_by_profileid(199664772.0,posts)\n",
    "\n",
    "# clearly we have few of his posts"
   ]
  },
  {
   "cell_type": "code",
   "execution_count": 14,
   "id": "5cdb67df",
   "metadata": {},
   "outputs": [
    {
     "data": {
      "text/html": [
       "<div>\n",
       "<style scoped>\n",
       "    .dataframe tbody tr th:only-of-type {\n",
       "        vertical-align: middle;\n",
       "    }\n",
       "\n",
       "    .dataframe tbody tr th {\n",
       "        vertical-align: top;\n",
       "    }\n",
       "\n",
       "    .dataframe thead th {\n",
       "        text-align: right;\n",
       "    }\n",
       "</style>\n",
       "<table border=\"1\" class=\"dataframe\">\n",
       "  <thead>\n",
       "    <tr style=\"text-align: right;\">\n",
       "      <th></th>\n",
       "      <th>profile_id</th>\n",
       "      <th>numbr_likes</th>\n",
       "      <th>number_comments</th>\n",
       "    </tr>\n",
       "  </thead>\n",
       "  <tbody>\n",
       "    <tr>\n",
       "      <th>233067</th>\n",
       "      <td>1.607309e+09</td>\n",
       "      <td>1.0</td>\n",
       "      <td>0.0</td>\n",
       "    </tr>\n",
       "    <tr>\n",
       "      <th>241977</th>\n",
       "      <td>1.607309e+09</td>\n",
       "      <td>0.0</td>\n",
       "      <td>0.0</td>\n",
       "    </tr>\n",
       "    <tr>\n",
       "      <th>319192</th>\n",
       "      <td>1.607309e+09</td>\n",
       "      <td>4.0</td>\n",
       "      <td>0.0</td>\n",
       "    </tr>\n",
       "    <tr>\n",
       "      <th>494943</th>\n",
       "      <td>1.603890e+09</td>\n",
       "      <td>4.0</td>\n",
       "      <td>0.0</td>\n",
       "    </tr>\n",
       "    <tr>\n",
       "      <th>592982</th>\n",
       "      <td>1.087614e+09</td>\n",
       "      <td>0.0</td>\n",
       "      <td>0.0</td>\n",
       "    </tr>\n",
       "    <tr>\n",
       "      <th>...</th>\n",
       "      <td>...</td>\n",
       "      <td>...</td>\n",
       "      <td>...</td>\n",
       "    </tr>\n",
       "    <tr>\n",
       "      <th>41291586</th>\n",
       "      <td>1.607309e+09</td>\n",
       "      <td>3.0</td>\n",
       "      <td>0.0</td>\n",
       "    </tr>\n",
       "    <tr>\n",
       "      <th>42044048</th>\n",
       "      <td>1.607309e+09</td>\n",
       "      <td>1.0</td>\n",
       "      <td>0.0</td>\n",
       "    </tr>\n",
       "    <tr>\n",
       "      <th>42154726</th>\n",
       "      <td>1.603890e+09</td>\n",
       "      <td>36.0</td>\n",
       "      <td>0.0</td>\n",
       "    </tr>\n",
       "    <tr>\n",
       "      <th>42240454</th>\n",
       "      <td>1.603890e+09</td>\n",
       "      <td>4.0</td>\n",
       "      <td>0.0</td>\n",
       "    </tr>\n",
       "    <tr>\n",
       "      <th>42518439</th>\n",
       "      <td>1.607309e+09</td>\n",
       "      <td>0.0</td>\n",
       "      <td>0.0</td>\n",
       "    </tr>\n",
       "  </tbody>\n",
       "</table>\n",
       "<p>356 rows × 3 columns</p>\n",
       "</div>"
      ],
      "text/plain": [
       "            profile_id  numbr_likes  number_comments\n",
       "233067    1.607309e+09          1.0              0.0\n",
       "241977    1.607309e+09          0.0              0.0\n",
       "319192    1.607309e+09          4.0              0.0\n",
       "494943    1.603890e+09          4.0              0.0\n",
       "592982    1.087614e+09          0.0              0.0\n",
       "...                ...          ...              ...\n",
       "41291586  1.607309e+09          3.0              0.0\n",
       "42044048  1.607309e+09          1.0              0.0\n",
       "42154726  1.603890e+09         36.0              0.0\n",
       "42240454  1.603890e+09          4.0              0.0\n",
       "42518439  1.607309e+09          0.0              0.0\n",
       "\n",
       "[356 rows x 3 columns]"
      ]
     },
     "metadata": {},
     "output_type": "display_data"
    }
   ],
   "source": [
    "display(functions.influencers_posts(10,profiles,posts))"
   ]
  },
  {
   "cell_type": "markdown",
   "id": "616b4ebc",
   "metadata": {
    "jp-MarkdownHeadingCollapsed": true,
    "tags": []
   },
   "source": [
    "# [RQ 4.3] What is the average number of \"likes\" and comments of the top 10 profiles with the highest number of posts which their information is available in profile.csv?"
   ]
  },
  {
   "cell_type": "code",
   "execution_count": 15,
   "id": "54e0f60b",
   "metadata": {},
   "outputs": [
    {
     "data": {
      "text/plain": [
       "profile_id\n",
       "9.813508e+06    0.296296\n",
       "1.996648e+08    7.666667\n",
       "2.181730e+08    0.400000\n",
       "2.855497e+08    3.921875\n",
       "1.087614e+09    2.026316\n",
       "1.273455e+09    2.960000\n",
       "1.603890e+09    6.477612\n",
       "1.607309e+09    1.540541\n",
       "8.563367e+09    0.000000\n",
       "Name: numbr_likes, dtype: float64"
      ]
     },
     "execution_count": 15,
     "metadata": {},
     "output_type": "execute_result"
    }
   ],
   "source": [
    "# the function returns the mean number of likes that the top 10 influencers gain in their posts\n",
    "functions.influencers_posts(10,profiles,posts).groupby('profile_id').numbr_likes.mean()"
   ]
  },
  {
   "cell_type": "code",
   "execution_count": 16,
   "id": "39c9ed87",
   "metadata": {},
   "outputs": [
    {
     "data": {
      "text/plain": [
       "profile_id\n",
       "9.813508e+06    0.000000\n",
       "1.996648e+08    0.000000\n",
       "2.181730e+08    0.040000\n",
       "2.855497e+08    0.000000\n",
       "1.087614e+09    0.184211\n",
       "1.273455e+09    0.040000\n",
       "1.603890e+09    0.044776\n",
       "1.607309e+09    0.000000\n",
       "8.563367e+09    0.000000\n",
       "Name: number_comments, dtype: float64"
      ]
     },
     "execution_count": 16,
     "metadata": {},
     "output_type": "execute_result"
    }
   ],
   "source": [
    "# the function returns the mean number of comments that the top 10 influencers gain in their posts\n",
    "functions.influencers_posts(10,profiles,posts).groupby('profile_id').number_comments.mean()"
   ]
  },
  {
   "cell_type": "markdown",
   "id": "32ba0596",
   "metadata": {
    "jp-MarkdownHeadingCollapsed": true,
    "tags": []
   },
   "source": [
    "# [RQ 4.4] Plot the number of posts that these top 10 profiles have sent on Instagram in the given interval in question RQ3. Interpret the resulting chart"
   ]
  },
  {
   "cell_type": "code",
   "execution_count": 17,
   "id": "39d4722f",
   "metadata": {},
   "outputs": [],
   "source": [
    "posts = pd.read_csv('~/instagram_posts.zip', delimiter='\\t',usecols = ['profile_id','cts'])"
   ]
  },
  {
   "cell_type": "code",
   "execution_count": 24,
   "id": "dba526f9",
   "metadata": {},
   "outputs": [
    {
     "data": {
      "image/png": "[encoded data removed]",
      "text/plain": [
       "<Figure size 432x288 with 1 Axes>"
      ]
     },
     "metadata": {
      "needs_background": "light"
     },
     "output_type": "display_data"
    },
    {
     "name": "stdout",
     "output_type": "stream",
     "text": [
      "The number of posts published in the time interval ('06:00:00', '10:59:59') is 113\n",
      "The number of posts published in the time interval ('11:00:00', '13:59:59') is 35\n",
      "The number of posts published in the time interval ('14:00:00', '16:59:59') is 44\n",
      "The number of posts published in the time interval ('17:00:00', '19:59:59') is 28\n",
      "The number of posts published in the time interval ('20:00:00', '23:59:59') is 22\n",
      "The number of posts published in the time interval ('00:00:00', '02:59:59') is 33\n",
      "The number of posts published in the time interval ('03:00:00', '05:59:59') is 81\n"
     ]
    }
   ],
   "source": [
    "# converting the cts attribute in date time\n",
    "posts.cts = pd.to_datetime(posts['cts'])\n",
    "posts.dropna(subset=['cts'],inplace=True)\n",
    "# we want to plot the number of posts published during the given intervals of time \n",
    "time_intervals = [('06:00:00','10:59:59'),('11:00:00', '13:59:59'),('14:00:00','16:59:59'),('17:00:00', '19:59:59'),('20:00:00', '23:59:59'),('00:00:00', '02:59:59'),('03:00:00', '05:59:59')]\n",
    "datetimes = functions.influencers_posts(10,profiles,posts).cts.dt.time\n",
    "numb_posts = functions.posts_by_interval(time_intervals, datetimes)\n",
    "\n",
    "# now we use the same function used in the point 3.3 \n",
    "plt.bar(np.array([str(interval[0]) + '-'+str(interval[1]) for interval in time_intervals]), numb_posts)\n",
    "plt.xticks(rotation=90)\n",
    "plt.show()\n",
    "\n",
    "for i in range(len(time_intervals)):\n",
    "    print(f\"The number of posts published in the time interval {time_intervals[i]} is {numb_posts[i]}\")"
   ]
  },
  {
   "cell_type": "markdown",
   "id": "4b387f64",
   "metadata": {},
   "source": [
    "Analyzing the time of publication of the most active users have a slightly different time schedule with respect the average. The highest volume of posts is in the morning instead of the evening as we saw before for all profiles. This can be related to a different use of this social network more linked to a job vision."
   ]
  },
  {
   "cell_type": "markdown",
   "id": "6f499ad5",
   "metadata": {
    "jp-MarkdownHeadingCollapsed": true,
    "tags": []
   },
   "source": [
    "# [RQ 5.1] Plot the top 10 most popular users in terms of followers and their number of posts"
   ]
  },
  {
   "cell_type": "code",
   "execution_count": 25,
   "id": "cde7766d",
   "metadata": {},
   "outputs": [
    {
     "data": {
      "text/html": [
       "<div>\n",
       "<style scoped>\n",
       "    .dataframe tbody tr th:only-of-type {\n",
       "        vertical-align: middle;\n",
       "    }\n",
       "\n",
       "    .dataframe tbody tr th {\n",
       "        vertical-align: top;\n",
       "    }\n",
       "\n",
       "    .dataframe thead th {\n",
       "        text-align: right;\n",
       "    }\n",
       "</style>\n",
       "<table border=\"1\" class=\"dataframe\">\n",
       "  <thead>\n",
       "    <tr style=\"text-align: right;\">\n",
       "      <th></th>\n",
       "      <th>profile_id</th>\n",
       "      <th>n_posts</th>\n",
       "      <th>followers</th>\n",
       "    </tr>\n",
       "  </thead>\n",
       "  <tbody>\n",
       "    <tr>\n",
       "      <th>2880218</th>\n",
       "      <td>2.502532e+07</td>\n",
       "      <td>5760.0</td>\n",
       "      <td>285457645.0</td>\n",
       "    </tr>\n",
       "    <tr>\n",
       "      <th>2582507</th>\n",
       "      <td>3.416684e+06</td>\n",
       "      <td>7355.0</td>\n",
       "      <td>65269440.0</td>\n",
       "    </tr>\n",
       "    <tr>\n",
       "      <th>3820939</th>\n",
       "      <td>2.082449e+07</td>\n",
       "      <td>28816.0</td>\n",
       "      <td>35339708.0</td>\n",
       "    </tr>\n",
       "    <tr>\n",
       "      <th>701965</th>\n",
       "      <td>1.876191e+08</td>\n",
       "      <td>3352.0</td>\n",
       "      <td>30689316.0</td>\n",
       "    </tr>\n",
       "    <tr>\n",
       "      <th>2414951</th>\n",
       "      <td>2.125507e+09</td>\n",
       "      <td>2791.0</td>\n",
       "      <td>30246783.0</td>\n",
       "    </tr>\n",
       "    <tr>\n",
       "      <th>2785241</th>\n",
       "      <td>4.968651e+08</td>\n",
       "      <td>990.0</td>\n",
       "      <td>29542143.0</td>\n",
       "    </tr>\n",
       "    <tr>\n",
       "      <th>333193</th>\n",
       "      <td>2.341008e+07</td>\n",
       "      <td>4566.0</td>\n",
       "      <td>29176804.0</td>\n",
       "    </tr>\n",
       "    <tr>\n",
       "      <th>3934581</th>\n",
       "      <td>2.423993e+07</td>\n",
       "      <td>4719.0</td>\n",
       "      <td>29042823.0</td>\n",
       "    </tr>\n",
       "    <tr>\n",
       "      <th>1311970</th>\n",
       "      <td>5.041706e+07</td>\n",
       "      <td>1311.0</td>\n",
       "      <td>26476004.0</td>\n",
       "    </tr>\n",
       "    <tr>\n",
       "      <th>1703764</th>\n",
       "      <td>9.070254e+08</td>\n",
       "      <td>1173.0</td>\n",
       "      <td>26252169.0</td>\n",
       "    </tr>\n",
       "  </tbody>\n",
       "</table>\n",
       "</div>"
      ],
      "text/plain": [
       "           profile_id  n_posts    followers\n",
       "2880218  2.502532e+07   5760.0  285457645.0\n",
       "2582507  3.416684e+06   7355.0   65269440.0\n",
       "3820939  2.082449e+07  28816.0   35339708.0\n",
       "701965   1.876191e+08   3352.0   30689316.0\n",
       "2414951  2.125507e+09   2791.0   30246783.0\n",
       "2785241  4.968651e+08    990.0   29542143.0\n",
       "333193   2.341008e+07   4566.0   29176804.0\n",
       "3934581  2.423993e+07   4719.0   29042823.0\n",
       "1311970  5.041706e+07   1311.0   26476004.0\n",
       "1703764  9.070254e+08   1173.0   26252169.0"
      ]
     },
     "execution_count": 25,
     "metadata": {},
     "output_type": "execute_result"
    }
   ],
   "source": [
    "profiles = pd.read_csv('~\\instagram_profiles.zip',delimiter='\\t')\n",
    "sorted_by_followers = profiles.sort_values('followers', ascending=False)\n",
    "sorted_by_followers[['profile_id','n_posts','followers']].head(10)"
   ]
  },
  {
   "cell_type": "markdown",
   "id": "39cd2d9c",
   "metadata": {},
   "source": [
    "Now we could be interested in the analysis of the relationship between number of posts published and number of followers"
   ]
  },
  {
   "cell_type": "code",
   "execution_count": 26,
   "id": "cca064ea",
   "metadata": {},
   "outputs": [
    {
     "data": {
      "image/png": "[encoded data removed]",
      "text/plain": [
       "<Figure size 432x288 with 1 Axes>"
      ]
     },
     "metadata": {
      "needs_background": "light"
     },
     "output_type": "display_data"
    }
   ],
   "source": [
    "plt.plot(sorted_by_followers.followers, sorted_by_followers.n_posts)\n",
    "plt.xlabel('Followers')\n",
    "plt.ylabel('Number of posts')\n",
    "plt.show()"
   ]
  },
  {
   "cell_type": "markdown",
   "id": "3fa6d4ff",
   "metadata": {},
   "source": [
    "The trend in the number of posts as a function of followers is not as monotonous as we expected. In fact, there are many profiles that despite having a lower number of followers turn out to be more active."
   ]
  },
  {
   "cell_type": "markdown",
   "id": "24d0e019",
   "metadata": {},
   "source": [
    "In fact, the maximum number of published posts is reached by users with fewer followers giving rise to a large discrepancy.\n",
    "Evidently, in general, the most followed users prefer to prioritize quality of content over mere online presence. Certainly bot accounts and outliers represent a spike in posts given the continuous spamming of centers and/or failure to revise posts published in the past"
   ]
  },
  {
   "cell_type": "markdown",
   "id": "d24de887",
   "metadata": {
    "jp-MarkdownHeadingCollapsed": true,
    "tags": []
   },
   "source": [
    "# [RQ 5.2] Who is the most influential user?"
   ]
  },
  {
   "cell_type": "markdown",
   "id": "736b7195",
   "metadata": {},
   "source": [
    "The user that has the highest number of followers can be seen as the most influential one"
   ]
  },
  {
   "cell_type": "code",
   "execution_count": 27,
   "id": "6d2a4d83",
   "metadata": {},
   "outputs": [
    {
     "data": {
      "text/plain": [
       "2880218    25025320.0\n",
       "Name: profile_id, dtype: float64"
      ]
     },
     "execution_count": 27,
     "metadata": {},
     "output_type": "execute_result"
    }
   ],
   "source": [
    "sorted_by_followers.profile_id.head(1)"
   ]
  },
  {
   "cell_type": "markdown",
   "id": "889ad83a",
   "metadata": {
    "jp-MarkdownHeadingCollapsed": true,
    "tags": []
   },
   "source": [
    "# [RQ 5.3] Have they posted anything with tagged locations? Extract the most frequent areas on their posts and plot the number of times each city has been visited"
   ]
  },
  {
   "cell_type": "markdown",
   "id": "561a2da0",
   "metadata": {},
   "source": [
    "In order to exploit the information from the posts of the most influential users we can now define a variation of the function _'influencers_posts'_ of the exercise 4.2. In this case we grasp the posts published by the profiles with the highest number of followers (instead of the highest number of posts)"
   ]
  },
  {
   "cell_type": "code",
   "execution_count": 28,
   "id": "334e37d4",
   "metadata": {},
   "outputs": [],
   "source": [
    "posts = pd.read_csv('~\\instagram_posts.zip',delimiter='\\t', usecols = ['profile_id','location_id','post_type'])"
   ]
  },
  {
   "cell_type": "markdown",
   "id": "bf8c678f",
   "metadata": {},
   "source": [
    "The function influencers_posts2 takes in input an integer n and returns a dataframe of posts"
   ]
  },
  {
   "cell_type": "code",
   "execution_count": 29,
   "id": "d6a3ee85",
   "metadata": {},
   "outputs": [
    {
     "data": {
      "text/plain": [
       "[5332856.0,\n",
       " 587387369.0,\n",
       " 877066659067597.0,\n",
       " 629488.0,\n",
       " 350021298.0,\n",
       " 1653066228336077.0,\n",
       " 524311966.0,\n",
       " 711348463.0,\n",
       " 795373023.0,\n",
       " 384619115.0,\n",
       " 2193902.0,\n",
       " 177643359427566.0,\n",
       " 1021722711.0,\n",
       " 222244450.0,\n",
       " 116531305845344.0,\n",
       " 733213680.0,\n",
       " 927381377419380.0,\n",
       " 495865697430886.0,\n",
       " 302631549.0,\n",
       " 234317128.0,\n",
       " 873036082898953.0,\n",
       " 592482131.0,\n",
       " 248557125.0,\n",
       " 261122325.0,\n",
       " 212948930.0,\n",
       " 302612476852048.0,\n",
       " 236828105.0,\n",
       " 1000244926778781.0,\n",
       " 229302869.0,\n",
       " 288135278570406.0,\n",
       " 645178265.0,\n",
       " 278386894.0,\n",
       " 216366531.0,\n",
       " 216904119.0,\n",
       " 214316284.0,\n",
       " 214029549.0,\n",
       " 968631346.0,\n",
       " 239452040.0,\n",
       " 69752042.0,\n",
       " 1839666952713295.0,\n",
       " 277468932.0,\n",
       " 589320006.0,\n",
       " 3108364.0,\n",
       " 165700643580577.0,\n",
       " 213011753.0,\n",
       " 255009.0,\n",
       " 213011753.0,\n",
       " 213011753.0,\n",
       " 213011753.0,\n",
       " 213011753.0,\n",
       " 213011753.0,\n",
       " 213011753.0,\n",
       " 213011753.0,\n",
       " 213011753.0,\n",
       " 1906910439594849.0,\n",
       " 1906910439594849.0,\n",
       " nan,\n",
       " 1731497986866121.0,\n",
       " nan,\n",
       " 213884067.0,\n",
       " nan,\n",
       " 850954138.0,\n",
       " 561063437.0,\n",
       " nan,\n",
       " 1731497986866121.0,\n",
       " 212901056.0,\n",
       " 217271987.0,\n",
       " nan,\n",
       " nan,\n",
       " nan,\n",
       " nan,\n",
       " nan,\n",
       " nan,\n",
       " nan,\n",
       " nan,\n",
       " nan,\n",
       " nan,\n",
       " nan,\n",
       " nan,\n",
       " nan,\n",
       " 189331311669042.0,\n",
       " 179370.0,\n",
       " 2019565374753966.0,\n",
       " nan,\n",
       " 366902078.0,\n",
       " nan,\n",
       " nan,\n",
       " 366902078.0,\n",
       " nan,\n",
       " nan,\n",
       " 366902078.0,\n",
       " nan,\n",
       " nan,\n",
       " 478088298.0,\n",
       " 1991139437858995.0,\n",
       " 262606339.0,\n",
       " 343191797.0,\n",
       " 409541270.0,\n",
       " nan,\n",
       " nan,\n",
       " nan,\n",
       " nan,\n",
       " nan,\n",
       " nan,\n",
       " nan,\n",
       " nan,\n",
       " nan,\n",
       " nan,\n",
       " nan,\n",
       " nan,\n",
       " 336785864.0,\n",
       " 430549146969261.0,\n",
       " 229123116.0,\n",
       " 687962925.0,\n",
       " 261338470931883.0,\n",
       " 132977180705703.0,\n",
       " 1019347558.0,\n",
       " 220618956.0,\n",
       " 5590714.0,\n",
       " 252960988517436.0,\n",
       " 1027473837.0,\n",
       " 1027473837.0,\n",
       " 1021254794.0,\n",
       " 284407070.0,\n",
       " 252533709.0,\n",
       " 2361753.0,\n",
       " 238999763.0,\n",
       " 272320632.0,\n",
       " 1014896644.0,\n",
       " 277040702.0,\n",
       " 429264.0,\n",
       " 259695682.0,\n",
       " 243602932.0,\n",
       " 7399112.0,\n",
       " 591298383.0,\n",
       " 427449434255991.0,\n",
       " 838523900.0,\n",
       " 1011688667.0,\n",
       " 244021299.0,\n",
       " 433604130.0,\n",
       " 9519563.0]"
      ]
     },
     "execution_count": 29,
     "metadata": {},
     "output_type": "execute_result"
    }
   ],
   "source": [
    "# we are finding the locations tagged in the posts of the 10 most popular users (in terms of followers)\n",
    "famous_locations = functions.influencers_posts2(10,profiles,posts)['location_id'].tolist()\n",
    "famous_locations"
   ]
  },
  {
   "cell_type": "code",
   "execution_count": 30,
   "id": "4ffe8dd1",
   "metadata": {},
   "outputs": [
    {
     "data": {
      "text/html": [
       "<div>\n",
       "<style scoped>\n",
       "    .dataframe tbody tr th:only-of-type {\n",
       "        vertical-align: middle;\n",
       "    }\n",
       "\n",
       "    .dataframe tbody tr th {\n",
       "        vertical-align: top;\n",
       "    }\n",
       "\n",
       "    .dataframe thead th {\n",
       "        text-align: right;\n",
       "    }\n",
       "</style>\n",
       "<table border=\"1\" class=\"dataframe\">\n",
       "  <thead>\n",
       "    <tr style=\"text-align: right;\">\n",
       "      <th></th>\n",
       "      <th>location_id</th>\n",
       "      <th>counts</th>\n",
       "    </tr>\n",
       "  </thead>\n",
       "  <tbody>\n",
       "    <tr>\n",
       "      <th>0</th>\n",
       "      <td>1.793700e+05</td>\n",
       "      <td>450</td>\n",
       "    </tr>\n",
       "    <tr>\n",
       "      <th>1</th>\n",
       "      <td>2.550090e+05</td>\n",
       "      <td>41</td>\n",
       "    </tr>\n",
       "    <tr>\n",
       "      <th>2</th>\n",
       "      <td>4.292640e+05</td>\n",
       "      <td>34</td>\n",
       "    </tr>\n",
       "    <tr>\n",
       "      <th>3</th>\n",
       "      <td>6.294880e+05</td>\n",
       "      <td>35</td>\n",
       "    </tr>\n",
       "    <tr>\n",
       "      <th>4</th>\n",
       "      <td>2.193902e+06</td>\n",
       "      <td>33</td>\n",
       "    </tr>\n",
       "    <tr>\n",
       "      <th>...</th>\n",
       "      <td>...</td>\n",
       "      <td>...</td>\n",
       "    </tr>\n",
       "    <tr>\n",
       "      <th>87</th>\n",
       "      <td>1.731498e+15</td>\n",
       "      <td>4</td>\n",
       "    </tr>\n",
       "    <tr>\n",
       "      <th>88</th>\n",
       "      <td>1.839667e+15</td>\n",
       "      <td>24</td>\n",
       "    </tr>\n",
       "    <tr>\n",
       "      <th>89</th>\n",
       "      <td>1.906910e+15</td>\n",
       "      <td>311</td>\n",
       "    </tr>\n",
       "    <tr>\n",
       "      <th>90</th>\n",
       "      <td>1.991139e+15</td>\n",
       "      <td>10</td>\n",
       "    </tr>\n",
       "    <tr>\n",
       "      <th>91</th>\n",
       "      <td>2.019565e+15</td>\n",
       "      <td>7</td>\n",
       "    </tr>\n",
       "  </tbody>\n",
       "</table>\n",
       "<p>92 rows × 2 columns</p>\n",
       "</div>"
      ],
      "text/plain": [
       "     location_id  counts\n",
       "0   1.793700e+05     450\n",
       "1   2.550090e+05      41\n",
       "2   4.292640e+05      34\n",
       "3   6.294880e+05      35\n",
       "4   2.193902e+06      33\n",
       "..           ...     ...\n",
       "87  1.731498e+15       4\n",
       "88  1.839667e+15      24\n",
       "89  1.906910e+15     311\n",
       "90  1.991139e+15      10\n",
       "91  2.019565e+15       7\n",
       "\n",
       "[92 rows x 2 columns]"
      ]
     },
     "metadata": {},
     "output_type": "display_data"
    }
   ],
   "source": [
    "# we are counting the number of posts that tag one of the most famous locations\n",
    "counting = posts[posts['location_id'].isin(famous_locations)].groupby('location_id').count().reset_index()\n",
    "counting = counting[['location_id', 'profile_id']]\n",
    "counting.columns = ['location_id', 'counts']\n",
    "display(counting)"
   ]
  },
  {
   "cell_type": "markdown",
   "id": "1d2dba3d",
   "metadata": {},
   "source": [
    "Once we have found the location id of the posts published by the most famous users, let's import the locations csv in order to find the cities that correspond to the tagged location id."
   ]
  },
  {
   "cell_type": "code",
   "execution_count": 50,
   "id": "1a616865",
   "metadata": {},
   "outputs": [],
   "source": [
    "locations =  pd.read_csv('~\\instagram_locations.zip',delimiter='\\t')"
   ]
  },
  {
   "cell_type": "code",
   "execution_count": 52,
   "id": "f347474e",
   "metadata": {},
   "outputs": [
    {
     "data": {
      "text/html": [
       "<div>\n",
       "<style scoped>\n",
       "    .dataframe tbody tr th:only-of-type {\n",
       "        vertical-align: middle;\n",
       "    }\n",
       "\n",
       "    .dataframe tbody tr th {\n",
       "        vertical-align: top;\n",
       "    }\n",
       "\n",
       "    .dataframe thead th {\n",
       "        text-align: right;\n",
       "    }\n",
       "</style>\n",
       "<table border=\"1\" class=\"dataframe\">\n",
       "  <thead>\n",
       "    <tr style=\"text-align: right;\">\n",
       "      <th></th>\n",
       "      <th>sid</th>\n",
       "      <th>id</th>\n",
       "      <th>name</th>\n",
       "      <th>street</th>\n",
       "      <th>zip</th>\n",
       "      <th>city</th>\n",
       "      <th>region</th>\n",
       "      <th>cd</th>\n",
       "      <th>phone</th>\n",
       "      <th>aj_exact_city_match</th>\n",
       "      <th>...</th>\n",
       "      <th>dir_city_name</th>\n",
       "      <th>dir_city_slug</th>\n",
       "      <th>dir_country_id</th>\n",
       "      <th>dir_country_name</th>\n",
       "      <th>lat</th>\n",
       "      <th>lng</th>\n",
       "      <th>primary_alias_on_fb</th>\n",
       "      <th>slug</th>\n",
       "      <th>website</th>\n",
       "      <th>cts</th>\n",
       "    </tr>\n",
       "  </thead>\n",
       "  <tbody>\n",
       "    <tr>\n",
       "      <th>0</th>\n",
       "      <td>719981</td>\n",
       "      <td>110296492939207</td>\n",
       "      <td>Playa de Daimuz - Valencia, España</td>\n",
       "      <td></td>\n",
       "      <td>NaN</td>\n",
       "      <td>unknown location</td>\n",
       "      <td></td>\n",
       "      <td></td>\n",
       "      <td></td>\n",
       "      <td>False</td>\n",
       "      <td>...</td>\n",
       "      <td></td>\n",
       "      <td></td>\n",
       "      <td></td>\n",
       "      <td></td>\n",
       "      <td>-0.139475</td>\n",
       "      <td>38.974391</td>\n",
       "      <td>daimuzplaya</td>\n",
       "      <td>playa-de-daimuz-valencia-espana</td>\n",
       "      <td>https://es.wikipedia.org/wiki/Daimuz</td>\n",
       "      <td>2019-05-29 01:21:29.987</td>\n",
       "    </tr>\n",
       "    <tr>\n",
       "      <th>1</th>\n",
       "      <td>719983</td>\n",
       "      <td>274391278</td>\n",
       "      <td>Nová Vieska</td>\n",
       "      <td></td>\n",
       "      <td>NaN</td>\n",
       "      <td>Nová Vieska</td>\n",
       "      <td></td>\n",
       "      <td>SK</td>\n",
       "      <td></td>\n",
       "      <td>True</td>\n",
       "      <td>...</td>\n",
       "      <td>Kis-Újfalu</td>\n",
       "      <td>kis-ujfalu</td>\n",
       "      <td>SK</td>\n",
       "      <td>Slovakia</td>\n",
       "      <td>18.466667</td>\n",
       "      <td>47.866667</td>\n",
       "      <td></td>\n",
       "      <td>nova-vieska</td>\n",
       "      <td></td>\n",
       "      <td>2019-05-29 01:21:38.037</td>\n",
       "    </tr>\n",
       "    <tr>\n",
       "      <th>2</th>\n",
       "      <td>719985</td>\n",
       "      <td>148885595789195</td>\n",
       "      <td>Everest Today</td>\n",
       "      <td>Himalayas</td>\n",
       "      <td>+977</td>\n",
       "      <td>Kathmandu, Nepal</td>\n",
       "      <td></td>\n",
       "      <td>NP</td>\n",
       "      <td></td>\n",
       "      <td>False</td>\n",
       "      <td>...</td>\n",
       "      <td>Pasupati</td>\n",
       "      <td>pasupati</td>\n",
       "      <td>NP</td>\n",
       "      <td>Nepal</td>\n",
       "      <td>85.330150</td>\n",
       "      <td>27.701960</td>\n",
       "      <td>EverestToday</td>\n",
       "      <td>everest-today</td>\n",
       "      <td></td>\n",
       "      <td>2019-05-29 01:21:46.295</td>\n",
       "    </tr>\n",
       "    <tr>\n",
       "      <th>3</th>\n",
       "      <td>719987</td>\n",
       "      <td>263258277</td>\n",
       "      <td>BULAC - Bibliothèque universitaire des langues...</td>\n",
       "      <td>65, rue des Grands-Moulins</td>\n",
       "      <td>75013</td>\n",
       "      <td>Paris, France</td>\n",
       "      <td></td>\n",
       "      <td>FR</td>\n",
       "      <td>01 81 69 18 00</td>\n",
       "      <td>False</td>\n",
       "      <td>...</td>\n",
       "      <td>13ème Arrondissement Paris</td>\n",
       "      <td>13eme-arrondissement-paris</td>\n",
       "      <td>FR</td>\n",
       "      <td>France</td>\n",
       "      <td>2.375995</td>\n",
       "      <td>48.827240</td>\n",
       "      <td>BULAC.Paris</td>\n",
       "      <td>bulac-bibliotheque-universitaire-des-langues-e...</td>\n",
       "      <td>www.bulac.fr</td>\n",
       "      <td>2019-05-29 01:21:54.355</td>\n",
       "    </tr>\n",
       "    <tr>\n",
       "      <th>4</th>\n",
       "      <td>326443</td>\n",
       "      <td>406147529857708</td>\n",
       "      <td>ABC Cable Networks Group</td>\n",
       "      <td>3800 W Alameda Ave</td>\n",
       "      <td>91505</td>\n",
       "      <td>Burbank, California</td>\n",
       "      <td></td>\n",
       "      <td>US</td>\n",
       "      <td>(818) 569-7500</td>\n",
       "      <td>False</td>\n",
       "      <td>...</td>\n",
       "      <td></td>\n",
       "      <td></td>\n",
       "      <td></td>\n",
       "      <td></td>\n",
       "      <td>-118.341864</td>\n",
       "      <td>34.153265</td>\n",
       "      <td></td>\n",
       "      <td>abc-cable-networks-group</td>\n",
       "      <td></td>\n",
       "      <td>2019-04-02 15:22:55.703</td>\n",
       "    </tr>\n",
       "    <tr>\n",
       "      <th>5</th>\n",
       "      <td>326440</td>\n",
       "      <td>242403516699715</td>\n",
       "      <td>The Lakes at Discovery Bay</td>\n",
       "      <td></td>\n",
       "      <td>NaN</td>\n",
       "      <td>unknown location</td>\n",
       "      <td></td>\n",
       "      <td></td>\n",
       "      <td>(925) 308-3883</td>\n",
       "      <td>NaN</td>\n",
       "      <td>...</td>\n",
       "      <td></td>\n",
       "      <td></td>\n",
       "      <td></td>\n",
       "      <td></td>\n",
       "      <td>-121.621549</td>\n",
       "      <td>37.925412</td>\n",
       "      <td>TheLakesatDiscoveryBay</td>\n",
       "      <td>the-lakes-at-discovery-bay</td>\n",
       "      <td>www.TheLakesatDiscoveryBay.com</td>\n",
       "      <td>2019-04-02 15:22:55.367</td>\n",
       "    </tr>\n",
       "    <tr>\n",
       "      <th>6</th>\n",
       "      <td>719988</td>\n",
       "      <td>1651686855080719</td>\n",
       "      <td>Tampines, Singapore</td>\n",
       "      <td>Tampines</td>\n",
       "      <td>529941</td>\n",
       "      <td>Singapore</td>\n",
       "      <td></td>\n",
       "      <td>SG</td>\n",
       "      <td></td>\n",
       "      <td>False</td>\n",
       "      <td>...</td>\n",
       "      <td></td>\n",
       "      <td></td>\n",
       "      <td></td>\n",
       "      <td></td>\n",
       "      <td>103.949729</td>\n",
       "      <td>1.355203</td>\n",
       "      <td>TampinesZingapurA</td>\n",
       "      <td>tampines-singapore</td>\n",
       "      <td></td>\n",
       "      <td>2019-05-29 01:21:56.635</td>\n",
       "    </tr>\n",
       "    <tr>\n",
       "      <th>7</th>\n",
       "      <td>719992</td>\n",
       "      <td>240487083</td>\n",
       "      <td>Sittano’s Bar &amp; Restaurant</td>\n",
       "      <td>Shop R03 Westfield Penrith, Level 1 / Riley St...</td>\n",
       "      <td>2750</td>\n",
       "      <td>Penrith, New South Wales</td>\n",
       "      <td></td>\n",
       "      <td>AU</td>\n",
       "      <td>0247224444</td>\n",
       "      <td>False</td>\n",
       "      <td>...</td>\n",
       "      <td>Penrith</td>\n",
       "      <td>penrith</td>\n",
       "      <td>AU</td>\n",
       "      <td>Australia</td>\n",
       "      <td>150.694367</td>\n",
       "      <td>-33.751031</td>\n",
       "      <td>Sittanos</td>\n",
       "      <td>sittanos-bar-restaurant</td>\n",
       "      <td>http://www.sittanos.com.au/</td>\n",
       "      <td>2019-05-29 01:22:12.909</td>\n",
       "    </tr>\n",
       "    <tr>\n",
       "      <th>8</th>\n",
       "      <td>719996</td>\n",
       "      <td>750669435108256</td>\n",
       "      <td>วัดท่าซุง อุทัยธานี</td>\n",
       "      <td>3212</td>\n",
       "      <td>61000</td>\n",
       "      <td>Nam Soem, Uthai Thani, Thailand</td>\n",
       "      <td></td>\n",
       "      <td>TH</td>\n",
       "      <td>0854623871</td>\n",
       "      <td>False</td>\n",
       "      <td>...</td>\n",
       "      <td></td>\n",
       "      <td></td>\n",
       "      <td></td>\n",
       "      <td></td>\n",
       "      <td>100.073586</td>\n",
       "      <td>15.329776</td>\n",
       "      <td></td>\n",
       "      <td>NaN</td>\n",
       "      <td>http://www.watthasung.com</td>\n",
       "      <td>2019-05-29 01:22:27.749</td>\n",
       "    </tr>\n",
       "    <tr>\n",
       "      <th>9</th>\n",
       "      <td>719998</td>\n",
       "      <td>223283275</td>\n",
       "      <td>Cine Atlas</td>\n",
       "      <td>Hatanpään valtatie 1</td>\n",
       "      <td>33100</td>\n",
       "      <td>Tampere, Finland</td>\n",
       "      <td></td>\n",
       "      <td>FI</td>\n",
       "      <td></td>\n",
       "      <td>False</td>\n",
       "      <td>...</td>\n",
       "      <td></td>\n",
       "      <td></td>\n",
       "      <td></td>\n",
       "      <td></td>\n",
       "      <td>23.766263</td>\n",
       "      <td>61.495690</td>\n",
       "      <td></td>\n",
       "      <td>cine-atlas</td>\n",
       "      <td>http://www.finnkino.fi/cinemas/tampere_cine_atlas</td>\n",
       "      <td>2019-05-29 01:22:35.936</td>\n",
       "    </tr>\n",
       "  </tbody>\n",
       "</table>\n",
       "<p>10 rows × 23 columns</p>\n",
       "</div>"
      ],
      "text/plain": [
       "      sid                id  \\\n",
       "0  719981   110296492939207   \n",
       "1  719983         274391278   \n",
       "2  719985   148885595789195   \n",
       "3  719987         263258277   \n",
       "4  326443   406147529857708   \n",
       "5  326440   242403516699715   \n",
       "6  719988  1651686855080719   \n",
       "7  719992         240487083   \n",
       "8  719996   750669435108256   \n",
       "9  719998         223283275   \n",
       "\n",
       "                                                name  \\\n",
       "0                 Playa de Daimuz - Valencia, España   \n",
       "1                                        Nová Vieska   \n",
       "2                                      Everest Today   \n",
       "3  BULAC - Bibliothèque universitaire des langues...   \n",
       "4                           ABC Cable Networks Group   \n",
       "5                         The Lakes at Discovery Bay   \n",
       "6                                Tampines, Singapore   \n",
       "7                         Sittano’s Bar & Restaurant   \n",
       "8                                วัดท่าซุง อุทัยธานี   \n",
       "9                                         Cine Atlas   \n",
       "\n",
       "                                              street     zip  \\\n",
       "0                                                        NaN   \n",
       "1                                                        NaN   \n",
       "2                                          Himalayas    +977   \n",
       "3                         65, rue des Grands-Moulins   75013   \n",
       "4                                 3800 W Alameda Ave   91505   \n",
       "5                                                        NaN   \n",
       "6                                           Tampines  529941   \n",
       "7  Shop R03 Westfield Penrith, Level 1 / Riley St...    2750   \n",
       "8                                               3212   61000   \n",
       "9                               Hatanpään valtatie 1   33100   \n",
       "\n",
       "                              city region  cd           phone  \\\n",
       "0                 unknown location                              \n",
       "1                      Nová Vieska         SK                   \n",
       "2                 Kathmandu, Nepal         NP                   \n",
       "3                    Paris, France         FR  01 81 69 18 00   \n",
       "4              Burbank, California         US  (818) 569-7500   \n",
       "5                 unknown location             (925) 308-3883   \n",
       "6                        Singapore         SG                   \n",
       "7         Penrith, New South Wales         AU      0247224444   \n",
       "8  Nam Soem, Uthai Thani, Thailand         TH      0854623871   \n",
       "9                 Tampere, Finland         FI                   \n",
       "\n",
       "  aj_exact_city_match  ...               dir_city_name  \\\n",
       "0               False  ...                               \n",
       "1                True  ...                  Kis-Újfalu   \n",
       "2               False  ...                    Pasupati   \n",
       "3               False  ...  13ème Arrondissement Paris   \n",
       "4               False  ...                               \n",
       "5                 NaN  ...                               \n",
       "6               False  ...                               \n",
       "7               False  ...                     Penrith   \n",
       "8               False  ...                               \n",
       "9               False  ...                               \n",
       "\n",
       "                dir_city_slug dir_country_id dir_country_name         lat  \\\n",
       "0                                                               -0.139475   \n",
       "1                  kis-ujfalu             SK         Slovakia   18.466667   \n",
       "2                    pasupati             NP            Nepal   85.330150   \n",
       "3  13eme-arrondissement-paris             FR           France    2.375995   \n",
       "4                                                             -118.341864   \n",
       "5                                                             -121.621549   \n",
       "6                                                              103.949729   \n",
       "7                     penrith             AU        Australia  150.694367   \n",
       "8                                                              100.073586   \n",
       "9                                                               23.766263   \n",
       "\n",
       "         lng     primary_alias_on_fb  \\\n",
       "0  38.974391             daimuzplaya   \n",
       "1  47.866667                           \n",
       "2  27.701960            EverestToday   \n",
       "3  48.827240             BULAC.Paris   \n",
       "4  34.153265                           \n",
       "5  37.925412  TheLakesatDiscoveryBay   \n",
       "6   1.355203       TampinesZingapurA   \n",
       "7 -33.751031                Sittanos   \n",
       "8  15.329776                           \n",
       "9  61.495690                           \n",
       "\n",
       "                                                slug  \\\n",
       "0                    playa-de-daimuz-valencia-espana   \n",
       "1                                        nova-vieska   \n",
       "2                                      everest-today   \n",
       "3  bulac-bibliotheque-universitaire-des-langues-e...   \n",
       "4                           abc-cable-networks-group   \n",
       "5                         the-lakes-at-discovery-bay   \n",
       "6                                 tampines-singapore   \n",
       "7                            sittanos-bar-restaurant   \n",
       "8                                                NaN   \n",
       "9                                         cine-atlas   \n",
       "\n",
       "                                             website                      cts  \n",
       "0               https://es.wikipedia.org/wiki/Daimuz  2019-05-29 01:21:29.987  \n",
       "1                                                     2019-05-29 01:21:38.037  \n",
       "2                                                     2019-05-29 01:21:46.295  \n",
       "3                                       www.bulac.fr  2019-05-29 01:21:54.355  \n",
       "4                                                     2019-04-02 15:22:55.703  \n",
       "5                     www.TheLakesatDiscoveryBay.com  2019-04-02 15:22:55.367  \n",
       "6                                                     2019-05-29 01:21:56.635  \n",
       "7                        http://www.sittanos.com.au/  2019-05-29 01:22:12.909  \n",
       "8                          http://www.watthasung.com  2019-05-29 01:22:27.749  \n",
       "9  http://www.finnkino.fi/cinemas/tampere_cine_atlas  2019-05-29 01:22:35.936  \n",
       "\n",
       "[10 rows x 23 columns]"
      ]
     },
     "execution_count": 52,
     "metadata": {},
     "output_type": "execute_result"
    }
   ],
   "source": [
    "# cleaning the data set\n",
    "locations.sid.fillna('-1',inplace=True)\n",
    "locations.id.fillna('-1',inplace=True)\n",
    "locations.name.fillna('',inplace=True)\n",
    "locations.street.fillna('',inplace=True)\n",
    "locations.city.fillna('unknown location',inplace=True)\n",
    "locations.region.fillna('',inplace=True)\n",
    "locations.cd.fillna('',inplace=True)\n",
    "locations.phone.fillna('',inplace=True)\n",
    "locations.dir_city_name.fillna('',inplace=True)\n",
    "locations.dir_city_slug.fillna('',inplace=True)\n",
    "locations.dir_country_id.fillna('',inplace=True)\n",
    "locations.dir_country_name.fillna('',inplace=True)\n",
    "locations.website.fillna('',inplace=True)\n",
    "locations.primary_alias_on_fb.fillna('',inplace=True)\n",
    "locations.head(10)"
   ]
  },
  {
   "cell_type": "code",
   "execution_count": 53,
   "id": "fb683bae",
   "metadata": {},
   "outputs": [
    {
     "data": {
      "text/plain": [
       "2409              Akron\n",
       "15701           Houston\n",
       "24242           Kowloon\n",
       "38348      Boulder City\n",
       "45317         Singapore\n",
       "               ...     \n",
       "1004275           Parks\n",
       "1007763         Houston\n",
       "1011948            Lodi\n",
       "1012495        New York\n",
       "1014589       Blangpidi\n",
       "Name: 0, Length: 92, dtype: object"
      ]
     },
     "execution_count": 53,
     "metadata": {},
     "output_type": "execute_result"
    }
   ],
   "source": [
    "# finding the cities referred to the most famous lacations\n",
    "cities = locations[locations['id'].isin(famous_locations)].city.str.split(',',expand=True)[0]\n",
    "cities"
   ]
  },
  {
   "cell_type": "markdown",
   "id": "f45267d6",
   "metadata": {},
   "source": [
    "We interpreted the excercise as finding the number of times that people (in general) visited the cities associated to the locations tagged by the 10 most popular users.\n",
    "This result cuold be intersting in terms of measuring the impact of a social media abount the popularity of a place.\n",
    "The most popular users can be seen as 'vestors': through their habits, their routines, behaviour and opinions they can inluence/manipulate the others. In this case people simply tend to visit the most 'sposored' places."
   ]
  },
  {
   "cell_type": "code",
   "execution_count": 68,
   "id": "5b9539b4",
   "metadata": {},
   "outputs": [
    {
     "data": {
      "image/png": "[encoded data removed]",
      "text/plain": [
       "<Figure size 2880x1152 with 1 Axes>"
      ]
     },
     "metadata": {
      "needs_background": "light"
     },
     "output_type": "display_data"
    }
   ],
   "source": [
    "# finally we can plot the number of times that the cities visited by the influencers are visited by the rest of people\n",
    "plt.figure(figsize=(40, 16))\n",
    "labels = cities.tolist()\n",
    "x = np.arange(counting.shape[0])\n",
    "y = counting.counts.tolist()\n",
    "width = 0.3\n",
    "rects1 = plt.bar(x, y, width)\n",
    "plt.ylabel('Number of visits to the location',fontsize=30)\n",
    "plt.xlabel('City',fontsize=30)\n",
    "plt.xticks(x, labels, rotation=90,fontsize=20)\n",
    "\n",
    "plt.bar_label(rects1, padding=1,fontsize=14)\n",
    "\n",
    "\n",
    "fig.tight_layout()\n",
    "\n",
    "plt.show()\n"
   ]
  },
  {
   "cell_type": "markdown",
   "id": "0d396535",
   "metadata": {
    "jp-MarkdownHeadingCollapsed": true,
    "tags": []
   },
   "source": [
    "# [RQ 5.4] How many pictures-only posts have they published? How many reels? (only videos) and how many with both contents? Provide the number as percentages and interpret those figures"
   ]
  },
  {
   "cell_type": "markdown",
   "id": "934d34e6",
   "metadata": {},
   "source": [
    "For this point we decided to use the same code written for the point 5 of RQ2, but applied only to posts published by the most followed users"
   ]
  },
  {
   "cell_type": "code",
   "execution_count": 71,
   "id": "1f057b9d",
   "metadata": {},
   "outputs": [
    {
     "name": "stdout",
     "output_type": "stream",
     "text": [
      "The number of posts containing photos only is: 128 --> 90.78014184397163% of posts\n",
      "The number of posts containing videos only is: 13 --> 9.219858156028367% of posts\n",
      "In addition the number of posts containing photos and videos is: 0 --> 0.0% of posts\n"
     ]
    }
   ],
   "source": [
    "# init the posts published my the 10 most popular users\n",
    "infl_posts = functions.influencers_posts2(10,profiles,posts)\n",
    "\n",
    "# categorizing the posts above by type of post and counting them\n",
    "photo_count = infl_posts[infl_posts['post_type']==1].shape[0]\n",
    "video_count = infl_posts[infl_posts['post_type']==2].shape[0]\n",
    "multi_count = infl_posts[infl_posts['post_type']==3].shape[0]\n",
    "tot = photo_count + video_count + multi_count\n",
    "print(f'The number of posts containing photos only is: {photo_count} --> {(photo_count/tot)*100}% of posts')\n",
    "print(f'The number of posts containing videos only is: {video_count} --> {(video_count/tot)*100}% of posts')\n",
    "print(f'In addition the number of posts containing photos and videos is: {multi_count} --> {(multi_count/tot)*100}% of posts')"
   ]
  },
  {
   "cell_type": "code",
   "execution_count": 72,
   "id": "31cf3fe9",
   "metadata": {},
   "outputs": [
    {
     "data": {
      "image/png": "[encoded data removed]",
      "text/plain": [
       "<Figure size 432x288 with 1 Axes>"
      ]
     },
     "metadata": {
      "needs_background": "light"
     },
     "output_type": "display_data"
    }
   ],
   "source": [
    "labels = ['Only photos', 'Only videos', 'Both photos and videos']\n",
    "counts = [photo_count, video_count, multi_count]\n",
    "\n",
    "fig, ax = plt.subplots()    \n",
    "width = 0.75\n",
    "ind = np.arange(len(counts))  # the x locations for the groups\n",
    "ax.barh(ind, counts, width, color=('b', 'r', 'g'))\n",
    "ax.set_yticks(ind+width/2)\n",
    "ax.set_yticklabels(labels, minor=False)\n",
    "plt.title('Content of posts')\n",
    "      \n",
    "plt.show()"
   ]
  },
  {
   "cell_type": "markdown",
   "id": "a3e0223a",
   "metadata": {},
   "source": [
    "This plot is easy to compare with the plot from the point 2.5: we can see that the propotions between type of posts is the same, probably because of the fact the these posts are published by the most pop inluencers, thus they lead the trend on this platform."
   ]
  },
  {
   "cell_type": "markdown",
   "id": "51d28562",
   "metadata": {
    "jp-MarkdownHeadingCollapsed": true,
    "tags": []
   },
   "source": [
    "# [RQ 5.5] How many \"likes\" and comments did posts with only pictures receive? How about videos and mixed posts? Try to provide the average numbers and confront them with their followers amount, explaining what you can say from that comparison"
   ]
  },
  {
   "cell_type": "code",
   "execution_count": 73,
   "id": "ee827cc4-f77d-48ee-b9bc-805278c16eaa",
   "metadata": {},
   "outputs": [],
   "source": [
    "posts = pd.read_csv('instagram_posts.zip',delimiter='\\t', usecols = ['profile_id','numbr_likes','post_type','number_comments'])"
   ]
  },
  {
   "cell_type": "code",
   "execution_count": 74,
   "id": "406a50b5-4a3b-40dc-9e81-9ca62e4ed469",
   "metadata": {},
   "outputs": [
    {
     "data": {
      "text/html": [
       "<div>\n",
       "<style scoped>\n",
       "    .dataframe tbody tr th:only-of-type {\n",
       "        vertical-align: middle;\n",
       "    }\n",
       "\n",
       "    .dataframe tbody tr th {\n",
       "        vertical-align: top;\n",
       "    }\n",
       "\n",
       "    .dataframe thead th {\n",
       "        text-align: right;\n",
       "    }\n",
       "</style>\n",
       "<table border=\"1\" class=\"dataframe\">\n",
       "  <thead>\n",
       "    <tr style=\"text-align: right;\">\n",
       "      <th></th>\n",
       "      <th>profile_id</th>\n",
       "      <th>post_type</th>\n",
       "      <th>numbr_likes</th>\n",
       "      <th>number_comments</th>\n",
       "    </tr>\n",
       "  </thead>\n",
       "  <tbody>\n",
       "    <tr>\n",
       "      <th>266570</th>\n",
       "      <td>25025320.0</td>\n",
       "      <td>1</td>\n",
       "      <td>125428.0</td>\n",
       "      <td>1240.0</td>\n",
       "    </tr>\n",
       "    <tr>\n",
       "      <th>659635</th>\n",
       "      <td>25025320.0</td>\n",
       "      <td>1</td>\n",
       "      <td>669786.0</td>\n",
       "      <td>4818.0</td>\n",
       "    </tr>\n",
       "    <tr>\n",
       "      <th>1441841</th>\n",
       "      <td>25025320.0</td>\n",
       "      <td>1</td>\n",
       "      <td>1914299.0</td>\n",
       "      <td>20065.0</td>\n",
       "    </tr>\n",
       "    <tr>\n",
       "      <th>1559527</th>\n",
       "      <td>20824486.0</td>\n",
       "      <td>1</td>\n",
       "      <td>164521.0</td>\n",
       "      <td>1415.0</td>\n",
       "    </tr>\n",
       "    <tr>\n",
       "      <th>2410579</th>\n",
       "      <td>25025320.0</td>\n",
       "      <td>1</td>\n",
       "      <td>840588.0</td>\n",
       "      <td>3627.0</td>\n",
       "    </tr>\n",
       "    <tr>\n",
       "      <th>...</th>\n",
       "      <td>...</td>\n",
       "      <td>...</td>\n",
       "      <td>...</td>\n",
       "      <td>...</td>\n",
       "    </tr>\n",
       "    <tr>\n",
       "      <th>41532427</th>\n",
       "      <td>25025320.0</td>\n",
       "      <td>1</td>\n",
       "      <td>1081084.0</td>\n",
       "      <td>12568.0</td>\n",
       "    </tr>\n",
       "    <tr>\n",
       "      <th>41608204</th>\n",
       "      <td>25025320.0</td>\n",
       "      <td>1</td>\n",
       "      <td>1083329.0</td>\n",
       "      <td>15154.0</td>\n",
       "    </tr>\n",
       "    <tr>\n",
       "      <th>41874115</th>\n",
       "      <td>20824486.0</td>\n",
       "      <td>1</td>\n",
       "      <td>106588.0</td>\n",
       "      <td>1475.0</td>\n",
       "    </tr>\n",
       "    <tr>\n",
       "      <th>42211393</th>\n",
       "      <td>20824486.0</td>\n",
       "      <td>2</td>\n",
       "      <td>157695.0</td>\n",
       "      <td>541.0</td>\n",
       "    </tr>\n",
       "    <tr>\n",
       "      <th>42424990</th>\n",
       "      <td>25025320.0</td>\n",
       "      <td>1</td>\n",
       "      <td>1285401.0</td>\n",
       "      <td>4590.0</td>\n",
       "    </tr>\n",
       "  </tbody>\n",
       "</table>\n",
       "<p>141 rows × 4 columns</p>\n",
       "</div>"
      ],
      "text/plain": [
       "          profile_id  post_type  numbr_likes  number_comments\n",
       "266570    25025320.0          1     125428.0           1240.0\n",
       "659635    25025320.0          1     669786.0           4818.0\n",
       "1441841   25025320.0          1    1914299.0          20065.0\n",
       "1559527   20824486.0          1     164521.0           1415.0\n",
       "2410579   25025320.0          1     840588.0           3627.0\n",
       "...              ...        ...          ...              ...\n",
       "41532427  25025320.0          1    1081084.0          12568.0\n",
       "41608204  25025320.0          1    1083329.0          15154.0\n",
       "41874115  20824486.0          1     106588.0           1475.0\n",
       "42211393  20824486.0          2     157695.0            541.0\n",
       "42424990  25025320.0          1    1285401.0           4590.0\n",
       "\n",
       "[141 rows x 4 columns]"
      ]
     },
     "metadata": {},
     "output_type": "display_data"
    }
   ],
   "source": [
    "# init the posts published my the 10 most popular users\n",
    "infl_posts = functions.influencers_posts2(10,profiles,posts)\n",
    "display(infl_posts)"
   ]
  },
  {
   "cell_type": "code",
   "execution_count": 75,
   "id": "caf2a0bb-8b5c-4552-9f27-11ec31143a8f",
   "metadata": {},
   "outputs": [],
   "source": [
    "# let's categorize the posts of the most important inluencers by type of post\n",
    "photo_posts = infl_posts[infl_posts['post_type']==1]\n",
    "video_posts = infl_posts[infl_posts['post_type']==2]\n",
    "multi_posts = infl_posts[infl_posts['post_type']==3] "
   ]
  },
  {
   "cell_type": "code",
   "execution_count": 76,
   "id": "424834f8-e3b6-4f08-a2f3-339bcfaa6a86",
   "metadata": {},
   "outputs": [],
   "source": [
    "# computing the average number of likes and comments obtained by the popular influencers for each category\n",
    "avg_likes_comm_photo = photo_posts.groupby('profile_id').mean()\n",
    "avg_likes_comm_video = video_posts.groupby('profile_id').mean()\n",
    "avg_likes_comm_both = multi_posts.groupby('profile_id').mean()"
   ]
  },
  {
   "cell_type": "code",
   "execution_count": 77,
   "id": "b0b27234-dc6b-4fa1-ac2f-3ba2c332c392",
   "metadata": {},
   "outputs": [
    {
     "data": {
      "text/html": [
       "<div>\n",
       "<style scoped>\n",
       "    .dataframe tbody tr th:only-of-type {\n",
       "        vertical-align: middle;\n",
       "    }\n",
       "\n",
       "    .dataframe tbody tr th {\n",
       "        vertical-align: top;\n",
       "    }\n",
       "\n",
       "    .dataframe thead th {\n",
       "        text-align: right;\n",
       "    }\n",
       "</style>\n",
       "<table border=\"1\" class=\"dataframe\">\n",
       "  <thead>\n",
       "    <tr style=\"text-align: right;\">\n",
       "      <th></th>\n",
       "      <th>profile_id</th>\n",
       "      <th>post_type</th>\n",
       "      <th>numbr_likes</th>\n",
       "      <th>number_comments</th>\n",
       "      <th>followers</th>\n",
       "    </tr>\n",
       "  </thead>\n",
       "  <tbody>\n",
       "    <tr>\n",
       "      <th>8</th>\n",
       "      <td>9.070254e+08</td>\n",
       "      <td>1.0</td>\n",
       "      <td>1.027102e+06</td>\n",
       "      <td>6582.461538</td>\n",
       "      <td>26252169.0</td>\n",
       "    </tr>\n",
       "    <tr>\n",
       "      <th>5</th>\n",
       "      <td>5.041706e+07</td>\n",
       "      <td>1.0</td>\n",
       "      <td>8.631133e+05</td>\n",
       "      <td>8594.733333</td>\n",
       "      <td>26476004.0</td>\n",
       "    </tr>\n",
       "    <tr>\n",
       "      <th>3</th>\n",
       "      <td>2.423993e+07</td>\n",
       "      <td>1.0</td>\n",
       "      <td>1.418733e+05</td>\n",
       "      <td>757.434783</td>\n",
       "      <td>29042823.0</td>\n",
       "    </tr>\n",
       "    <tr>\n",
       "      <th>2</th>\n",
       "      <td>2.341008e+07</td>\n",
       "      <td>1.0</td>\n",
       "      <td>8.121350e+04</td>\n",
       "      <td>365.000000</td>\n",
       "      <td>29176804.0</td>\n",
       "    </tr>\n",
       "    <tr>\n",
       "      <th>7</th>\n",
       "      <td>4.968651e+08</td>\n",
       "      <td>1.0</td>\n",
       "      <td>4.730227e+05</td>\n",
       "      <td>2237.083333</td>\n",
       "      <td>29542143.0</td>\n",
       "    </tr>\n",
       "    <tr>\n",
       "      <th>9</th>\n",
       "      <td>2.125507e+09</td>\n",
       "      <td>1.0</td>\n",
       "      <td>1.008629e+05</td>\n",
       "      <td>963.153846</td>\n",
       "      <td>30246783.0</td>\n",
       "    </tr>\n",
       "    <tr>\n",
       "      <th>6</th>\n",
       "      <td>1.876191e+08</td>\n",
       "      <td>1.0</td>\n",
       "      <td>1.868570e+05</td>\n",
       "      <td>867.000000</td>\n",
       "      <td>30689316.0</td>\n",
       "    </tr>\n",
       "    <tr>\n",
       "      <th>1</th>\n",
       "      <td>2.082449e+07</td>\n",
       "      <td>1.0</td>\n",
       "      <td>2.422357e+05</td>\n",
       "      <td>1087.846154</td>\n",
       "      <td>35339708.0</td>\n",
       "    </tr>\n",
       "    <tr>\n",
       "      <th>0</th>\n",
       "      <td>3.416684e+06</td>\n",
       "      <td>1.0</td>\n",
       "      <td>2.307498e+05</td>\n",
       "      <td>438.400000</td>\n",
       "      <td>65269440.0</td>\n",
       "    </tr>\n",
       "    <tr>\n",
       "      <th>4</th>\n",
       "      <td>2.502532e+07</td>\n",
       "      <td>1.0</td>\n",
       "      <td>9.059335e+05</td>\n",
       "      <td>6703.290323</td>\n",
       "      <td>285457645.0</td>\n",
       "    </tr>\n",
       "  </tbody>\n",
       "</table>\n",
       "</div>"
      ],
      "text/plain": [
       "     profile_id  post_type   numbr_likes  number_comments    followers\n",
       "8  9.070254e+08        1.0  1.027102e+06      6582.461538   26252169.0\n",
       "5  5.041706e+07        1.0  8.631133e+05      8594.733333   26476004.0\n",
       "3  2.423993e+07        1.0  1.418733e+05       757.434783   29042823.0\n",
       "2  2.341008e+07        1.0  8.121350e+04       365.000000   29176804.0\n",
       "7  4.968651e+08        1.0  4.730227e+05      2237.083333   29542143.0\n",
       "9  2.125507e+09        1.0  1.008629e+05       963.153846   30246783.0\n",
       "6  1.876191e+08        1.0  1.868570e+05       867.000000   30689316.0\n",
       "1  2.082449e+07        1.0  2.422357e+05      1087.846154   35339708.0\n",
       "0  3.416684e+06        1.0  2.307498e+05       438.400000   65269440.0\n",
       "4  2.502532e+07        1.0  9.059335e+05      6703.290323  285457645.0"
      ]
     },
     "metadata": {},
     "output_type": "display_data"
    },
    {
     "data": {
      "text/html": [
       "<div>\n",
       "<style scoped>\n",
       "    .dataframe tbody tr th:only-of-type {\n",
       "        vertical-align: middle;\n",
       "    }\n",
       "\n",
       "    .dataframe tbody tr th {\n",
       "        vertical-align: top;\n",
       "    }\n",
       "\n",
       "    .dataframe thead th {\n",
       "        text-align: right;\n",
       "    }\n",
       "</style>\n",
       "<table border=\"1\" class=\"dataframe\">\n",
       "  <thead>\n",
       "    <tr style=\"text-align: right;\">\n",
       "      <th></th>\n",
       "      <th>profile_id</th>\n",
       "      <th>post_type</th>\n",
       "      <th>numbr_likes</th>\n",
       "      <th>number_comments</th>\n",
       "      <th>followers</th>\n",
       "    </tr>\n",
       "  </thead>\n",
       "  <tbody>\n",
       "    <tr>\n",
       "      <th>2</th>\n",
       "      <td>24239929.0</td>\n",
       "      <td>2.0</td>\n",
       "      <td>41763.666667</td>\n",
       "      <td>903.333333</td>\n",
       "      <td>29042823.0</td>\n",
       "    </tr>\n",
       "    <tr>\n",
       "      <th>1</th>\n",
       "      <td>20824486.0</td>\n",
       "      <td>2.0</td>\n",
       "      <td>207295.600000</td>\n",
       "      <td>1026.800000</td>\n",
       "      <td>35339708.0</td>\n",
       "    </tr>\n",
       "    <tr>\n",
       "      <th>0</th>\n",
       "      <td>3416684.0</td>\n",
       "      <td>2.0</td>\n",
       "      <td>261408.000000</td>\n",
       "      <td>583.000000</td>\n",
       "      <td>65269440.0</td>\n",
       "    </tr>\n",
       "    <tr>\n",
       "      <th>3</th>\n",
       "      <td>25025320.0</td>\n",
       "      <td>2.0</td>\n",
       "      <td>593409.666667</td>\n",
       "      <td>5749.333333</td>\n",
       "      <td>285457645.0</td>\n",
       "    </tr>\n",
       "  </tbody>\n",
       "</table>\n",
       "</div>"
      ],
      "text/plain": [
       "   profile_id  post_type    numbr_likes  number_comments    followers\n",
       "2  24239929.0        2.0   41763.666667       903.333333   29042823.0\n",
       "1  20824486.0        2.0  207295.600000      1026.800000   35339708.0\n",
       "0   3416684.0        2.0  261408.000000       583.000000   65269440.0\n",
       "3  25025320.0        2.0  593409.666667      5749.333333  285457645.0"
      ]
     },
     "metadata": {},
     "output_type": "display_data"
    },
    {
     "data": {
      "text/html": [
       "<div>\n",
       "<style scoped>\n",
       "    .dataframe tbody tr th:only-of-type {\n",
       "        vertical-align: middle;\n",
       "    }\n",
       "\n",
       "    .dataframe tbody tr th {\n",
       "        vertical-align: top;\n",
       "    }\n",
       "\n",
       "    .dataframe thead th {\n",
       "        text-align: right;\n",
       "    }\n",
       "</style>\n",
       "<table border=\"1\" class=\"dataframe\">\n",
       "  <thead>\n",
       "    <tr style=\"text-align: right;\">\n",
       "      <th></th>\n",
       "      <th>post_type</th>\n",
       "      <th>numbr_likes</th>\n",
       "      <th>number_comments</th>\n",
       "      <th>profile_id</th>\n",
       "      <th>followers</th>\n",
       "    </tr>\n",
       "  </thead>\n",
       "  <tbody>\n",
       "  </tbody>\n",
       "</table>\n",
       "</div>"
      ],
      "text/plain": [
       "Empty DataFrame\n",
       "Columns: [post_type, numbr_likes, number_comments, profile_id, followers]\n",
       "Index: []"
      ]
     },
     "metadata": {},
     "output_type": "display_data"
    }
   ],
   "source": [
    "# let's add the numbers of followers for each profile id\n",
    "result1 = pd.merge(avg_likes_comm_photo, profiles[['profile_id','followers']], on= 'profile_id')\n",
    "result2 = pd.merge(avg_likes_comm_video, profiles[['profile_id','followers']], on= 'profile_id')\n",
    "result3 = pd.merge(avg_likes_comm_both, profiles[['profile_id','followers']], on= 'profile_id')\n",
    "\n",
    "# sorting the reuslts by number of followers in order to plot the attributes\n",
    "result1 = result1.sort_values(by='followers')\n",
    "result2 = result2.sort_values(by='followers')\n",
    "result3 = result3.sort_values(by='followers')\n",
    "display(result1)\n",
    "display(result2)\n",
    "display(result3)"
   ]
  },
  {
   "cell_type": "code",
   "execution_count": 78,
   "id": "3b24976d-691c-45c1-87cf-2cac661e56da",
   "metadata": {},
   "outputs": [
    {
     "data": {
      "image/png": "[encoded data removed]",
      "text/plain": [
       "<Figure size 432x288 with 1 Axes>"
      ]
     },
     "metadata": {
      "needs_background": "light"
     },
     "output_type": "display_data"
    }
   ],
   "source": [
    "plt.plot(result1.followers, result1.numbr_likes, 'r')\n",
    "plt.plot(result2.followers, result2.numbr_likes, 'b')\n",
    "plt.plot(result3.followers, result3.numbr_likes, 'g')\n",
    "plt.xlabel('number of followers')\n",
    "plt.ylabel('average number of likes')\n",
    "plt.legend(['only photos', 'only videos', 'both video & photo'])\n",
    "plt.show()"
   ]
  },
  {
   "cell_type": "code",
   "execution_count": 79,
   "id": "25a084aa-339e-4681-b9a5-a9b8dc147089",
   "metadata": {},
   "outputs": [
    {
     "data": {
      "image/png": "[encoded data removed]",
      "text/plain": [
       "<Figure size 432x288 with 1 Axes>"
      ]
     },
     "metadata": {
      "needs_background": "light"
     },
     "output_type": "display_data"
    }
   ],
   "source": [
    "plt.plot(result1.followers, result1.number_comments, 'r')\n",
    "plt.plot(result2.followers, result2.number_comments, 'b')\n",
    "plt.plot(result3.followers, result3.number_comments, 'g')\n",
    "plt.xlabel('number of followers')\n",
    "plt.ylabel('average number of comments')\n",
    "plt.legend(['only photos', 'only videos', 'both video & photo'])\n",
    "plt.show()"
   ]
  },
  {
   "cell_type": "markdown",
   "id": "a7c9869d-11bf-4e64-b97f-cbbc49981705",
   "metadata": {},
   "source": [
    "We observe a increasing monotonous relationship (starting from a certain number of followers) between the popularity of a profile and the average number of likes and posts recieved. We know that profiles with a larger 'audience' get, on average, more feedback from their comminity."
   ]
  },
  {
   "cell_type": "markdown",
   "id": "d2befb77-0802-4977-86f9-b6177a92616d",
   "metadata": {
    "tags": []
   },
   "source": [
    "# [RQ 6] It's time to get information from the user posting effectiveness."
   ]
  },
  {
   "cell_type": "markdown",
   "id": "31b06626-81f9-41e9-b43a-75df573cabf0",
   "metadata": {
    "id": "_EamMx4k48Aw"
   },
   "source": [
    "**[RQ6] It's time to get information from the user posting effectiveness.**"
   ]
  },
  {
   "cell_type": "markdown",
   "id": "0523cdcf-7748-4bb1-b2df-6520c90e52ca",
   "metadata": {
    "id": "uZg1j-p73B8Z"
   },
   "source": [
    "**Importing Libraries**"
   ]
  },
  {
   "cell_type": "code",
   "execution_count": 18,
   "id": "3329e1b3-7619-4605-9b9c-58782f1f27fb",
   "metadata": {
    "id": "efccdb7b-0a0a-4b5c-9f07-eed2f26905d4"
   },
   "outputs": [],
   "source": [
    "import pandas as pd\n",
    "import numpy as np\n",
    "import matplotlib.pyplot as plt\n",
    "from datetime import datetime\n",
    "from collections import Counter"
   ]
  },
  {
   "cell_type": "markdown",
   "id": "13fd0ea7-5cc1-4abe-922f-63dfc1ad4ea8",
   "metadata": {
    "id": "yFjWMjoX3Bej"
   },
   "source": [
    "**Read Dataset**"
   ]
  },
  {
   "cell_type": "code",
   "execution_count": 14,
   "id": "aeaa5318-2bed-4b65-ad59-ef6d01e1238f",
   "metadata": {
    "id": "e584dbf5-a64e-4a6b-aff4-1d63d7500728",
    "outputId": "673d19a1-3420-4e8d-e540-7dadb6c5b839"
   },
   "outputs": [
    {
     "data": {
      "text/html": [
       "<div>\n",
       "<style scoped>\n",
       "    .dataframe tbody tr th:only-of-type {\n",
       "        vertical-align: middle;\n",
       "    }\n",
       "\n",
       "    .dataframe tbody tr th {\n",
       "        vertical-align: top;\n",
       "    }\n",
       "\n",
       "    .dataframe thead th {\n",
       "        text-align: right;\n",
       "    }\n",
       "</style>\n",
       "<table border=\"1\" class=\"dataframe\">\n",
       "  <thead>\n",
       "    <tr style=\"text-align: right;\">\n",
       "      <th></th>\n",
       "      <th>sid_profile</th>\n",
       "      <th>cts</th>\n",
       "    </tr>\n",
       "  </thead>\n",
       "  <tbody>\n",
       "    <tr>\n",
       "      <th>0</th>\n",
       "      <td>3496776</td>\n",
       "      <td>2017-08-06 20:06:57.000</td>\n",
       "    </tr>\n",
       "    <tr>\n",
       "      <th>1</th>\n",
       "      <td>-1</td>\n",
       "      <td>2017-06-19 09:31:16.000</td>\n",
       "    </tr>\n",
       "    <tr>\n",
       "      <th>2</th>\n",
       "      <td>-1</td>\n",
       "      <td>2017-03-11 20:05:03.000</td>\n",
       "    </tr>\n",
       "    <tr>\n",
       "      <th>3</th>\n",
       "      <td>-1</td>\n",
       "      <td>2016-09-13 16:27:16.000</td>\n",
       "    </tr>\n",
       "    <tr>\n",
       "      <th>4</th>\n",
       "      <td>-1</td>\n",
       "      <td>2015-10-18 10:19:27.000</td>\n",
       "    </tr>\n",
       "  </tbody>\n",
       "</table>\n",
       "</div>"
      ],
      "text/plain": [
       "   sid_profile                      cts\n",
       "0      3496776  2017-08-06 20:06:57.000\n",
       "1           -1  2017-06-19 09:31:16.000\n",
       "2           -1  2017-03-11 20:05:03.000\n",
       "3           -1  2016-09-13 16:27:16.000\n",
       "4           -1  2015-10-18 10:19:27.000"
      ]
     },
     "execution_count": 14,
     "metadata": {},
     "output_type": "execute_result"
    }
   ],
   "source": [
    "posts = pd.read_csv('~/instagram_posts.zip', delimiter='\\t',usecols = ['sid_profile','cts'])\n",
    "posts.head()"
   ]
  },
  {
   "cell_type": "markdown",
   "id": "5643a47c-9881-4515-a097-567e494a3bd6",
   "metadata": {
    "id": "cYJjGUS_3d3E"
   },
   "source": [
    "**Extracting only important columns**"
   ]
  },
  {
   "cell_type": "code",
   "execution_count": 15,
   "id": "6f891109-3689-40e4-8d2f-e6d1f04d4b16",
   "metadata": {
    "id": "13a3e6df-8c9e-47e8-bd43-601e79191f65",
    "outputId": "d2e2ca27-f140-4dbc-a863-bdd4859e05e6"
   },
   "outputs": [
    {
     "data": {
      "text/html": [
       "<div>\n",
       "<style scoped>\n",
       "    .dataframe tbody tr th:only-of-type {\n",
       "        vertical-align: middle;\n",
       "    }\n",
       "\n",
       "    .dataframe tbody tr th {\n",
       "        vertical-align: top;\n",
       "    }\n",
       "\n",
       "    .dataframe thead th {\n",
       "        text-align: right;\n",
       "    }\n",
       "</style>\n",
       "<table border=\"1\" class=\"dataframe\">\n",
       "  <thead>\n",
       "    <tr style=\"text-align: right;\">\n",
       "      <th></th>\n",
       "      <th>sid_profile</th>\n",
       "      <th>cts</th>\n",
       "    </tr>\n",
       "  </thead>\n",
       "  <tbody>\n",
       "    <tr>\n",
       "      <th>35149671</th>\n",
       "      <td>-1</td>\n",
       "      <td>2010-07-19 01:12:23.000</td>\n",
       "    </tr>\n",
       "    <tr>\n",
       "      <th>4225968</th>\n",
       "      <td>-1</td>\n",
       "      <td>2010-08-21 06:40:27.000</td>\n",
       "    </tr>\n",
       "    <tr>\n",
       "      <th>1939650</th>\n",
       "      <td>-1</td>\n",
       "      <td>2010-09-05 21:48:24.000</td>\n",
       "    </tr>\n",
       "    <tr>\n",
       "      <th>39517938</th>\n",
       "      <td>-1</td>\n",
       "      <td>2010-09-06 18:36:05.000</td>\n",
       "    </tr>\n",
       "    <tr>\n",
       "      <th>35207772</th>\n",
       "      <td>-1</td>\n",
       "      <td>2010-10-15 00:48:15.000</td>\n",
       "    </tr>\n",
       "  </tbody>\n",
       "</table>\n",
       "</div>"
      ],
      "text/plain": [
       "          sid_profile                      cts\n",
       "35149671           -1  2010-07-19 01:12:23.000\n",
       "4225968            -1  2010-08-21 06:40:27.000\n",
       "1939650            -1  2010-09-05 21:48:24.000\n",
       "39517938           -1  2010-09-06 18:36:05.000\n",
       "35207772           -1  2010-10-15 00:48:15.000"
      ]
     },
     "execution_count": 15,
     "metadata": {},
     "output_type": "execute_result"
    }
   ],
   "source": [
    "posts = posts.sort_values(by = ['sid_profile', 'cts'])\n",
    "posts.head()"
   ]
  },
  {
   "cell_type": "markdown",
   "id": "62cfaa62-1d26-49df-8cff-f691b2f48482",
   "metadata": {
    "id": "80797710-792c-46fb-bdde-7c3cbbe49828"
   },
   "source": [
    "1. What is the average time (days and minutes) a user lets pass before publishing another post? Plot the top 3 users that publish posts more frequently (calculate the average time that passes between posts), including their amount of followers and following. Provide insights from that chart.\n"
   ]
  },
  {
   "cell_type": "code",
   "execution_count": 16,
   "id": "c72cff99-aa18-4d23-b363-74d603420de6",
   "metadata": {
    "id": "50ef6cd3-a44c-4e7d-a277-64ae57124d79"
   },
   "outputs": [],
   "source": [
    "def timeAvg(df):\n",
    "    \n",
    "    #sorting the dataset with respect to sid_profile and cts\n",
    "    df.sort_values(by = ['sid_profile', 'cts'], inplace=True) \n",
    "\n",
    "    #initializing dictionaries\n",
    "    records = dict()\n",
    "    prev_date = dict()\n",
    "    profile_avg_posting = dict()\n",
    "\n",
    "    #calculating time between posts\n",
    "    for idx, row in df.iterrows():\n",
    "        if row['sid_profile'] not in records:\n",
    "            records[row['sid_profile']] = []\n",
    "            prev_date[row['sid_profile']] = datetime.strptime(row['cts'][:-4], \"%Y-%m-%d %H:%M:%S\").timestamp()\n",
    "\n",
    "        elif row['sid_profile'] in records:\n",
    "            records[row['sid_profile']].append(datetime.strptime(row['cts'][:-4], \"%Y-%m-%d %H:%M:%S\").timestamp() - prev_date[row['sid_profile']])\n",
    "            prev_date[row['sid_profile']] = datetime.strptime(row['cts'][:-4], \"%Y-%m-%d %H:%M:%S\").timestamp()            \n",
    "\n",
    "    for k, v in records.items():\n",
    "        try:\n",
    "            #calculating average time between posts\n",
    "            profile_avg_posting[k] = int(round(sum(v)/len(v)))\n",
    "            #calculating total average time between posts\n",
    "            average = sum((profile_avg_posting.values()))//len((profile_avg_posting.values()))\n",
    "        except ZeroDivisionError:\n",
    "            pass\n",
    "\n",
    "        #Top 3 profiles that publish posts more frequently\n",
    "        top_3 = Counter(profile_avg_posting)\n",
    "        high = top_3.most_common(3)\n",
    "\n",
    "        keys = [top[0] for top in high]\n",
    "        values = [top[1] for top in high]\n",
    "        \n",
    "    #Plotting profile ID with average time \n",
    "    plt.bar(range(len(keys)), values, tick_label=keys)\n",
    "    plt.title(\"[RQ6.1]\")\n",
    "    plt.xlabel(\"Profile ID\")\n",
    "    plt.ylabel(\"Average Time\")\n",
    "    plt.show()\n",
    "    \n",
    "    #converting time into days and minutes \n",
    "    days = 0\n",
    "    mins = 0\n",
    "    time = average\n",
    "    days = time // (24 * 3600)\n",
    " \n",
    "    time %= 3600\n",
    "    mins = time // 60\n",
    "    \n",
    "    return days, mins"
   ]
  },
  {
   "cell_type": "code",
   "execution_count": null,
   "id": "4952b8df-9d88-4c08-8221-35bcdb0ec6f2",
   "metadata": {},
   "outputs": [],
   "source": [
    "days, mins = timeAvg(posts)\n",
    "\n",
    "print(\"The average time (days and minutes) a user lets pass before publishing another post is\",\n",
    "          str(days) + \" day(s), \"+ str(mins) +  \" mins. \")"
   ]
  },
  {
   "cell_type": "markdown",
   "id": "fc0cc3cb-db07-440b-b394-56f17f4020d1",
   "metadata": {
    "id": "qdTypsZU8kas"
   },
   "source": [
    "The above graph depicts that these three profiles on x-axis posts very frequently and have the least average time between theirs posts."
   ]
  },
  {
   "cell_type": "markdown",
   "id": "7d033fff-034a-4104-95ca-d7c08ba7153d",
   "metadata": {
    "id": "oRUp4Yzw43jc"
   },
   "source": [
    "2. Using the function you previously coded, plot the time intervals with the highest average number of “likes” and the ones with the highest average number of comments on posts."
   ]
  },
  {
   "cell_type": "code",
   "execution_count": null,
   "id": "56772b14-e240-4b3c-915e-391ad6d1d898",
   "metadata": {
    "id": "ebccd190-0f90-4ecf-aa4e-7edac31929f6"
   },
   "outputs": [],
   "source": [
    "def reactionAvg(df):\n",
    "    \n",
    "    #sorting the dataset with respect to cts\n",
    "    df.sort_values(by = ['cts'], inplace=True)\n",
    "    \n",
    "    #formating given time\n",
    "    df['time'] =  pd.to_datetime(df['cts'], format=\"%Y-%m-%d %H:%M:%S\")\n",
    "\n",
    "    #extracting hours\n",
    "    df['Hours'] = df['time'].dt.hour\n",
    "    \n",
    "    #grouping by hours and calculating mean of other values (number of likes)\n",
    "    df = df.groupby(['Hours']).mean()\n",
    "    \n",
    "    #plotting\n",
    "    plt.figure(1, figsize=(16,6))\n",
    "    plt.subplot(1,2,1) \n",
    "    plt.bar(df.reset_index()['Hours'], df.reset_index()['numbr_likes'])\n",
    "    plt.title(\"[RQ6.2]\")\n",
    "    plt.xlabel(\"Time Intervals\")\n",
    "    plt.ylabel(\"Maximum Average Likes\")\n",
    "    plt.subplot(1,2,2) \n",
    "    plt.bar(df.reset_index()['Hours'], df.reset_index()['number_comments'])\n",
    "    plt.title(\"[RQ6.2]\")\n",
    "    plt.xlabel(\"Time Intervals (hours\")\n",
    "    plt.ylabel(\"Maximum Average Comments\")\n",
    "    \n",
    "    \n",
    "    plt.show()\n"
   ]
  },
  {
   "cell_type": "code",
   "execution_count": null,
   "id": "d252628e-aa23-47f9-b837-cad4f267e084",
   "metadata": {
    "id": "96c4de3c-0d39-4d8f-a656-70c2b98971ce",
    "outputId": "e11bbde5-7b9d-4b86-8a2d-819648e5d351"
   },
   "outputs": [
    {
     "data": {
      "image/png": "[encoded data removed]",
      "text/plain": [
       "<Figure size 1152x432 with 2 Axes>"
      ]
     },
     "metadata": {
      "needs_background": "light"
     },
     "output_type": "display_data"
    }
   ],
   "source": [
    "reactionAvg(posts)"
   ]
  },
  {
   "cell_type": "markdown",
   "id": "6f468014-7e4b-40ca-ba6b-51fff7f167c9",
   "metadata": {
    "jp-MarkdownHeadingCollapsed": true,
    "tags": []
   },
   "source": [
    "# [RQ 7.1] What's the probability that a post receives more than 20% \"likes\" of the number of followers a user has?"
   ]
  },
  {
   "cell_type": "code",
   "execution_count": 5,
   "id": "322bb802-282e-48fa-a8f2-d31b6745c8e6",
   "metadata": {},
   "outputs": [],
   "source": [
    "data_sidlikes = pd.read_csv('~/instagram_posts.zip', delimiter='\\t',usecols = ['profile_id','numbr_likes'])"
   ]
  },
  {
   "cell_type": "code",
   "execution_count": 10,
   "id": "919f1431-9b24-4fec-88fa-b68a0d5142bb",
   "metadata": {},
   "outputs": [],
   "source": [
    "profiles.dropna(subset=['profile_id'],inplace=True)"
   ]
  },
  {
   "cell_type": "code",
   "execution_count": 12,
   "id": "4404535f-6b58-4fa5-8a58-886ab00cc77d",
   "metadata": {},
   "outputs": [],
   "source": [
    "data_sidlikes.dropna(subset=['profile_id'],inplace=True)"
   ]
  },
  {
   "cell_type": "code",
   "execution_count": 6,
   "id": "9d97699b-cf36-4602-863a-6ff40ce36717",
   "metadata": {},
   "outputs": [],
   "source": [
    "data_sidfollowers = profiles[['profile_id','followers']]"
   ]
  },
  {
   "cell_type": "markdown",
   "id": "196cb153-30f7-4941-b62d-8686829d5f22",
   "metadata": {},
   "source": [
    "After taking only the columns of posts that we needed, we drop rows with values of profile_id equals to null. Now we can do a merge of these two dataset"
   ]
  },
  {
   "cell_type": "code",
   "execution_count": 13,
   "id": "d312b2a9-a1e0-42cd-ab26-a530b260a2d0",
   "metadata": {},
   "outputs": [
    {
     "data": {
      "text/html": [
       "<div>\n",
       "<style scoped>\n",
       "    .dataframe tbody tr th:only-of-type {\n",
       "        vertical-align: middle;\n",
       "    }\n",
       "\n",
       "    .dataframe tbody tr th {\n",
       "        vertical-align: top;\n",
       "    }\n",
       "\n",
       "    .dataframe thead th {\n",
       "        text-align: right;\n",
       "    }\n",
       "</style>\n",
       "<table border=\"1\" class=\"dataframe\">\n",
       "  <thead>\n",
       "    <tr style=\"text-align: right;\">\n",
       "      <th></th>\n",
       "      <th>profile_id</th>\n",
       "      <th>numbr_likes</th>\n",
       "      <th>followers</th>\n",
       "    </tr>\n",
       "  </thead>\n",
       "  <tbody>\n",
       "    <tr>\n",
       "      <th>0</th>\n",
       "      <td>2.237948e+09</td>\n",
       "      <td>80.0</td>\n",
       "      <td>1204.0</td>\n",
       "    </tr>\n",
       "    <tr>\n",
       "      <th>1</th>\n",
       "      <td>2.237948e+09</td>\n",
       "      <td>86.0</td>\n",
       "      <td>1204.0</td>\n",
       "    </tr>\n",
       "    <tr>\n",
       "      <th>2</th>\n",
       "      <td>2.237948e+09</td>\n",
       "      <td>168.0</td>\n",
       "      <td>1204.0</td>\n",
       "    </tr>\n",
       "    <tr>\n",
       "      <th>3</th>\n",
       "      <td>2.237948e+09</td>\n",
       "      <td>102.0</td>\n",
       "      <td>1204.0</td>\n",
       "    </tr>\n",
       "    <tr>\n",
       "      <th>4</th>\n",
       "      <td>2.237948e+09</td>\n",
       "      <td>145.0</td>\n",
       "      <td>1204.0</td>\n",
       "    </tr>\n",
       "  </tbody>\n",
       "</table>\n",
       "</div>"
      ],
      "text/plain": [
       "     profile_id  numbr_likes  followers\n",
       "0  2.237948e+09         80.0     1204.0\n",
       "1  2.237948e+09         86.0     1204.0\n",
       "2  2.237948e+09        168.0     1204.0\n",
       "3  2.237948e+09        102.0     1204.0\n",
       "4  2.237948e+09        145.0     1204.0"
      ]
     },
     "execution_count": 13,
     "metadata": {},
     "output_type": "execute_result"
    }
   ],
   "source": [
    "likesfollowers = pd.merge(data_sidlikes, data_sidfollowers, how='inner', on = 'profile_id')\n",
    "likesfollowers.head()"
   ]
  },
  {
   "cell_type": "code",
   "execution_count": 14,
   "id": "7e77ae95-8cce-43cb-9aa9-c53cf1cc71b3",
   "metadata": {},
   "outputs": [],
   "source": [
    "likesfollowers['sopra20'] = likesfollowers['numbr_likes']/likesfollowers['followers'] >= 0.2"
   ]
  },
  {
   "cell_type": "markdown",
   "id": "c3ac88af-f15d-4428-8911-3bb56a0922d7",
   "metadata": {},
   "source": [
    "This is a new variable that has true when the number of likes is bigger than 20% of followers for each profile, and false otherwise."
   ]
  },
  {
   "cell_type": "code",
   "execution_count": 15,
   "id": "a0d9f566-f475-4673-873e-8025f3c652e0",
   "metadata": {},
   "outputs": [
    {
     "name": "stdout",
     "output_type": "stream",
     "text": [
      "False    0.844075\n",
      "True     0.155925\n",
      "Name: sopra20, dtype: float64\n"
     ]
    }
   ],
   "source": [
    "relative_counts=likesfollowers[\"sopra20\"].value_counts(normalize=True)\n",
    "print(relative_counts)"
   ]
  },
  {
   "cell_type": "markdown",
   "id": "668af4c0-3165-413d-859e-c664db144ac0",
   "metadata": {},
   "source": [
    "Doing a relative count we have the percentage of true that is equal to the probability that a post receives more than 20% \"likes\" of the number of followers a user has"
   ]
  },
  {
   "cell_type": "markdown",
   "id": "adfaa090-c6bd-4429-99aa-6a923152466e",
   "metadata": {
    "jp-MarkdownHeadingCollapsed": true,
    "tags": []
   },
   "source": [
    "# [RQ 7.2] Do users usually return to locations? Extract the probability that a user returns to a site after having posted it in the past. Does that probability make sense to you? Explain why or why not"
   ]
  },
  {
   "cell_type": "code",
   "execution_count": 25,
   "id": "d1c67b90-fb79-4012-977b-52a415fd4573",
   "metadata": {},
   "outputs": [],
   "source": [
    "posts = pd.read_csv('~/instagram_posts.zip', delimiter='\\t',usecols = ['profile_id','location_id','cts'])"
   ]
  },
  {
   "cell_type": "code",
   "execution_count": 27,
   "id": "541b159c-5c65-487a-9483-9bffcf2f1a06",
   "metadata": {},
   "outputs": [],
   "source": [
    "posts.cts = pd.to_datetime(posts['cts'])\n",
    "posts.cts = posts['cts'].dt.date"
   ]
  },
  {
   "cell_type": "code",
   "execution_count": 30,
   "id": "cc60ad7a-0b02-457a-9f8d-db9ac6c87e9d",
   "metadata": {},
   "outputs": [
    {
     "data": {
      "text/plain": [
       "0    2017-08-06\n",
       "1    2017-06-19\n",
       "2    2017-03-11\n",
       "3    2016-09-13\n",
       "4    2015-10-18\n",
       "Name: cts, dtype: object"
      ]
     },
     "execution_count": 30,
     "metadata": {},
     "output_type": "execute_result"
    }
   ],
   "source": [
    "posts.cts.head()"
   ]
  },
  {
   "cell_type": "markdown",
   "id": "41426aba-8806-4a03-ac17-b7a9fd2b3a41",
   "metadata": {},
   "source": [
    "This code transforms cts in only year-month-day without hours minutes and seconds, so we can compare posts of different days"
   ]
  },
  {
   "cell_type": "code",
   "execution_count": 31,
   "id": "7039fc44-f1f5-465d-9b14-7154da7c076d",
   "metadata": {},
   "outputs": [],
   "source": [
    "posts = posts.drop_duplicates(keep='first')"
   ]
  },
  {
   "cell_type": "markdown",
   "id": "f3b77a9a-5bff-4753-92d8-c9f0a9289b8f",
   "metadata": {},
   "source": [
    "Now we drop duplicates to eliminate profiles that had posted twice in same location but also on the same day"
   ]
  },
  {
   "cell_type": "code",
   "execution_count": 53,
   "id": "a1a533ca-eb6a-472d-8d3a-f2b1d830a28f",
   "metadata": {},
   "outputs": [
    {
     "data": {
      "text/html": [
       "<div>\n",
       "<style scoped>\n",
       "    .dataframe tbody tr th:only-of-type {\n",
       "        vertical-align: middle;\n",
       "    }\n",
       "\n",
       "    .dataframe tbody tr th {\n",
       "        vertical-align: top;\n",
       "    }\n",
       "\n",
       "    .dataframe thead th {\n",
       "        text-align: right;\n",
       "    }\n",
       "</style>\n",
       "<table border=\"1\" class=\"dataframe\">\n",
       "  <thead>\n",
       "    <tr style=\"text-align: right;\">\n",
       "      <th></th>\n",
       "      <th>profile_id</th>\n",
       "      <th>location_id</th>\n",
       "      <th>cts</th>\n",
       "    </tr>\n",
       "  </thead>\n",
       "  <tbody>\n",
       "    <tr>\n",
       "      <th>0</th>\n",
       "      <td>3.000000e+00</td>\n",
       "      <td>1.000000e+01</td>\n",
       "      <td>1</td>\n",
       "    </tr>\n",
       "    <tr>\n",
       "      <th>1</th>\n",
       "      <td>3.000000e+00</td>\n",
       "      <td>5.400000e+01</td>\n",
       "      <td>1</td>\n",
       "    </tr>\n",
       "    <tr>\n",
       "      <th>2</th>\n",
       "      <td>3.000000e+00</td>\n",
       "      <td>8.030000e+02</td>\n",
       "      <td>1</td>\n",
       "    </tr>\n",
       "    <tr>\n",
       "      <th>3</th>\n",
       "      <td>3.000000e+00</td>\n",
       "      <td>1.526200e+04</td>\n",
       "      <td>1</td>\n",
       "    </tr>\n",
       "    <tr>\n",
       "      <th>4</th>\n",
       "      <td>3.000000e+00</td>\n",
       "      <td>2.705200e+04</td>\n",
       "      <td>1</td>\n",
       "    </tr>\n",
       "    <tr>\n",
       "      <th>...</th>\n",
       "      <td>...</td>\n",
       "      <td>...</td>\n",
       "      <td>...</td>\n",
       "    </tr>\n",
       "    <tr>\n",
       "      <th>21096130</th>\n",
       "      <td>9.001013e+13</td>\n",
       "      <td>6.631216e+14</td>\n",
       "      <td>1</td>\n",
       "    </tr>\n",
       "    <tr>\n",
       "      <th>21096131</th>\n",
       "      <td>9.001013e+13</td>\n",
       "      <td>2.075964e+14</td>\n",
       "      <td>1</td>\n",
       "    </tr>\n",
       "    <tr>\n",
       "      <th>21096132</th>\n",
       "      <td>9.001013e+13</td>\n",
       "      <td>1.855425e+14</td>\n",
       "      <td>1</td>\n",
       "    </tr>\n",
       "    <tr>\n",
       "      <th>21096133</th>\n",
       "      <td>9.001013e+13</td>\n",
       "      <td>2.418404e+08</td>\n",
       "      <td>1</td>\n",
       "    </tr>\n",
       "    <tr>\n",
       "      <th>21096134</th>\n",
       "      <td>9.001014e+13</td>\n",
       "      <td>1.077310e+06</td>\n",
       "      <td>1</td>\n",
       "    </tr>\n",
       "  </tbody>\n",
       "</table>\n",
       "<p>21096135 rows × 3 columns</p>\n",
       "</div>"
      ],
      "text/plain": [
       "            profile_id   location_id  cts\n",
       "0         3.000000e+00  1.000000e+01    1\n",
       "1         3.000000e+00  5.400000e+01    1\n",
       "2         3.000000e+00  8.030000e+02    1\n",
       "3         3.000000e+00  1.526200e+04    1\n",
       "4         3.000000e+00  2.705200e+04    1\n",
       "...                ...           ...  ...\n",
       "21096130  9.001013e+13  6.631216e+14    1\n",
       "21096131  9.001013e+13  2.075964e+14    1\n",
       "21096132  9.001013e+13  1.855425e+14    1\n",
       "21096133  9.001013e+13  2.418404e+08    1\n",
       "21096134  9.001014e+13  1.077310e+06    1\n",
       "\n",
       "[21096135 rows x 3 columns]"
      ]
     },
     "metadata": {},
     "output_type": "display_data"
    }
   ],
   "source": [
    "visits_count = posts.groupby(['profile_id','location_id']).count().reset_index()\n",
    "display(visits_count)"
   ]
  },
  {
   "cell_type": "markdown",
   "id": "9d1be861-7683-4f14-a6b0-1435c25baa12",
   "metadata": {},
   "source": [
    "Grouping with groupby we collect on the cts column the times that a profile_id went to a location."
   ]
  },
  {
   "cell_type": "code",
   "execution_count": 60,
   "id": "a61d1ab6-cf8a-45e6-9abd-f1b1c5a2ce9c",
   "metadata": {},
   "outputs": [],
   "source": [
    "visits_count2 = visits_count[visits_count['cts']>1]\n",
    "visits_count2 = visits_count2.drop_duplicates(subset=['profile_id'],keep='first')"
   ]
  },
  {
   "cell_type": "markdown",
   "id": "a20167f8-44dd-414b-9118-3f57fe62cbc6",
   "metadata": {},
   "source": [
    "So counting rows with cts>1 we have the number of people that went to a location more than once in different days"
   ]
  },
  {
   "cell_type": "code",
   "execution_count": 62,
   "id": "51a9c26c-3869-4aa9-a288-bf1b7b7b4d26",
   "metadata": {},
   "outputs": [
    {
     "name": "stdout",
     "output_type": "stream",
     "text": [
      "The probability that a user returns to a site after having posted it in the past is: 0.3915397757362458\n"
     ]
    }
   ],
   "source": [
    "print('The probability that a user returns to a site after having posted it in the past is:',visits_count2.shape[0]/len(profiles))"
   ]
  },
  {
   "cell_type": "markdown",
   "id": "f492c012-e8c5-4341-98a0-d533bd3a03d2",
   "metadata": {},
   "source": [
    "The probability is 39%. This probability is not so significant because we assume that people publish a post with a location tag only when they are in that place; instead we know for our experience that people usually publish posts also after visiting a location, and can be more than one post for each trip."
   ]
  },
  {
   "cell_type": "markdown",
   "id": "586bcfb3-ecb2-464d-a1a8-b7466ffba74a",
   "metadata": {
    "jp-MarkdownHeadingCollapsed": true,
    "tags": []
   },
   "source": [
    "# [RQ 8.1] Does more “likes” also mean more comments? Plot a scatter plot of “likes” vs comments for posts."
   ]
  },
  {
   "cell_type": "code",
   "execution_count": 2,
   "id": "b1cf60d9-adb1-4e13-9f7b-9621696a104c",
   "metadata": {},
   "outputs": [],
   "source": [
    "import pandas as pd\n",
    "posts = pd.read_csv('~/instagram_posts.zip', delimiter='\\t',usecols = ['numbr_likes','number_comments','cts'])"
   ]
  },
  {
   "cell_type": "code",
   "execution_count": 70,
   "id": "7f1ecedf-e54b-4604-9899-0c74f66e68b1",
   "metadata": {},
   "outputs": [
    {
     "data": {
      "text/plain": [
       "<AxesSubplot:xlabel='numbr_likes', ylabel='number_comments'>"
      ]
     },
     "execution_count": 70,
     "metadata": {},
     "output_type": "execute_result"
    },
    {
     "data": {
      "image/png": "[encoded data removed]",
      "text/plain": [
       "<Figure size 432x288 with 1 Axes>"
      ]
     },
     "metadata": {
      "needs_background": "light"
     },
     "output_type": "display_data"
    }
   ],
   "source": [
    "data_likescomments.plot(x='numbr_likes',y='number_comments',kind='scatter')"
   ]
  },
  {
   "cell_type": "markdown",
   "id": "a55f98c4-a681-44ac-ab73-6583dd626177",
   "metadata": {},
   "source": [
    "This is a scatter plot that show the relationship between number of likes and number of posts"
   ]
  },
  {
   "cell_type": "markdown",
   "id": "1f5bc21a-a8ca-452a-a421-083932d7ff21",
   "metadata": {
    "jp-MarkdownHeadingCollapsed": true,
    "tags": []
   },
   "source": [
    "# [RQ 8.2] Can you find any significant relationship between the time a user publishes a post and the number of comments and “likes”? Use an appropriate statistical test or technique and support your choice."
   ]
  },
  {
   "cell_type": "markdown",
   "id": "f474b30d-6905-4cfc-b967-8708244f4582",
   "metadata": {},
   "source": [
    "For this task we could use an anova test that is a statistical formula used to compare the variances between the means of different groups."
   ]
  },
  {
   "cell_type": "code",
   "execution_count": 4,
   "id": "ab3323ea-c1a1-405c-9c2e-2710f10e9e0b",
   "metadata": {},
   "outputs": [],
   "source": [
    "posts = pd.read_csv('~/instagram_posts.zip', delimiter='\\t',usecols = ['number_comments','numbr_likes','cts'])"
   ]
  },
  {
   "cell_type": "code",
   "execution_count": 6,
   "id": "ce52f23f-1c77-47b1-9ff6-d3ed13f2513c",
   "metadata": {},
   "outputs": [],
   "source": [
    "# converting the cts attribute in date time\n",
    "posts.cts = pd.to_datetime(posts['cts'])\n",
    "posts.dropna(subset=['cts'],inplace=True)"
   ]
  },
  {
   "cell_type": "code",
   "execution_count": 7,
   "id": "a03cc78e-d85e-47a7-8106-e2e8fcf61b82",
   "metadata": {},
   "outputs": [
    {
     "name": "stdout",
     "output_type": "stream",
     "text": [
      "Requirement already satisfied: scipy in c:\\users\\stefa\\anaconda3\\lib\\site-packages (1.7.3)\n",
      "Requirement already satisfied: numpy<1.23.0,>=1.16.5 in c:\\users\\stefa\\anaconda3\\lib\\site-packages (from scipy) (1.21.5)\n"
     ]
    }
   ],
   "source": [
    "!pip3 install scipy"
   ]
  },
  {
   "cell_type": "code",
   "execution_count": 8,
   "id": "e084fc8a-52c7-48fb-8f3f-915379736a26",
   "metadata": {},
   "outputs": [],
   "source": [
    "from scipy.stats import f_oneway"
   ]
  },
  {
   "cell_type": "markdown",
   "id": "41974b84-3805-4234-a49e-b29156f1bf45",
   "metadata": {},
   "source": [
    "Using the anova test we can compare the variance between the mean of time intervals and the mean of likes and comments"
   ]
  },
  {
   "cell_type": "markdown",
   "id": "659b60c5-cc19-4604-9b34-f50e3d2f0550",
   "metadata": {
    "jp-MarkdownHeadingCollapsed": true,
    "tags": []
   },
   "source": [
    "# [RQ 8.3] What’s the distribution of followers? Plot the empirical distribution of followers amongst all users and extract the mean, mode, and quantiles. Interpret those figures."
   ]
  },
  {
   "cell_type": "code",
   "execution_count": 15,
   "id": "1ec13ff9-cdc3-47a7-aa75-79d121e75d63",
   "metadata": {},
   "outputs": [
    {
     "data": {
      "image/png": "[encoded data removed]",
      "text/plain": [
       "<Figure size 432x288 with 1 Axes>"
      ]
     },
     "metadata": {
      "needs_background": "light"
     },
     "output_type": "display_data"
    }
   ],
   "source": [
    "import numpy as np\n",
    "def ecdf(x):\n",
    "  x = x / np.sum(x)\n",
    "  return np.cumsum(x)\n",
    "\n",
    "ef=ecdf(profiles['followers'])\n",
    "ef.plot(title = 'Empirical distribution of followers')\n",
    "plt.grid()"
   ]
  },
  {
   "cell_type": "code",
   "execution_count": 38,
   "id": "fd5ea792-e2dd-4030-a11b-57fabe30e264",
   "metadata": {},
   "outputs": [
    {
     "data": {
      "text/plain": [
       "count    3.452771e+06\n",
       "mean     4.739899e+03\n",
       "std      1.939087e+05\n",
       "min      0.000000e+00\n",
       "25%      1.590000e+02\n",
       "50%      4.060000e+02\n",
       "75%      9.740000e+02\n",
       "max      2.854576e+08\n",
       "Name: followers, dtype: float64"
      ]
     },
     "execution_count": 38,
     "metadata": {},
     "output_type": "execute_result"
    }
   ],
   "source": [
    "data_profiles['followers'].describe()"
   ]
  },
  {
   "cell_type": "code",
   "execution_count": 39,
   "id": "3ef99f7c-b91f-47ee-b59f-b343d52ac280",
   "metadata": {},
   "outputs": [
    {
     "data": {
      "text/plain": [
       "0    0.0\n",
       "Name: followers, dtype: float64"
      ]
     },
     "execution_count": 39,
     "metadata": {},
     "output_type": "execute_result"
    }
   ],
   "source": [
    "data_profiles['followers'].mode()"
   ]
  },
  {
   "cell_type": "markdown",
   "id": "0b195242-8ce0-40e3-9c93-0bb5475a28e3",
   "metadata": {},
   "source": [
    "The mean is bigger than the median because the second one is a stronger index that is less affected by outliers. This result shows that the followers distribution has a positive asymmetry. Also quartiles cover a quite small range that goes from 1.590000e+02 to 9.740000e+02 showing that half of the ditribution is inside this small range"
   ]
  },
  {
   "cell_type": "markdown",
   "id": "5d5ca981-d255-4861-b817-b7b77f23b176",
   "metadata": {
    "jp-MarkdownHeadingCollapsed": true,
    "tags": []
   },
   "source": [
    "# [RQ 8.4] What are histograms, bar plots, scatterplots and pie charts used for?"
   ]
  },
  {
   "cell_type": "markdown",
   "id": "00c45f8d-2e2e-4a2a-853a-d2a3e1266449",
   "metadata": {},
   "source": [
    "Histograms show the distribution of the data divided in bins. It is used for continuous variables and from that we can broadly understand the trend of a variable of a dataset. The number of bins determines how specific the representation is of data. We will have a more specific representation for a higher number of bins and a more generic one for a smaller number of bins.\n",
    "Bar plots represents with bars the frequency of a categorial variable. It can be used with a relative frequency or an absolute frequency.\n",
    "The scatterplot is used to evaluate the relationship between two quantitative variables. In this type of graph, the two variables are shown as points on a Cartesian space, the values of one variable are indicated on the horizontal axis (x), while the values of the other variable are represented on the vertical axis (y).\n",
    "Pie charts are used to show the relationship between categorical or nominal data. So we can have a representation of dimensions of each part on the total, usually with the use of percentages."
   ]
  },
  {
   "cell_type": "markdown",
   "id": "d81fa733-4df1-402d-95dd-c44b7d3e6acd",
   "metadata": {
    "jp-MarkdownHeadingCollapsed": true,
    "tags": []
   },
   "source": [
    "# [RQ 8.5] What insights can you extract from a Box Plot?"
   ]
  },
  {
   "cell_type": "markdown",
   "id": "5ea340fd-1a9a-4877-b162-a809b4f4d877",
   "metadata": {},
   "source": [
    "From a boxplot we can first of all see the general distribution. It shows the range of the distribution (so minimum and maximum values) and also any outliers in the dataset. Then we can also extract the quartiles and the median (that is equal to the second quartile)"
   ]
  },
  {
   "cell_type": "markdown",
   "id": "ce9e0cf7",
   "metadata": {
    "jp-MarkdownHeadingCollapsed": true,
    "tags": []
   },
   "source": [
    "# [AQ 1]"
   ]
  },
  {
   "cell_type": "markdown",
   "id": "2f8ee4a9",
   "metadata": {},
   "source": [
    "In want to understand the output of the given algorithm and how it works. "
   ]
  },
  {
   "cell_type": "markdown",
   "id": "9a05ac0e",
   "metadata": {},
   "source": [
    "We study the internal mechanism of our algorithm and try to guess its all possible outcomes.\n",
    "How we proceed :\n",
    ">- first we do a brief analysis of the algorithm with a qualitative description of what happens at each step;\n",
    ">- we report a complete analysis of the algorithm and analytically measure its efficiency ;\n",
    ">- then we proceed with the implementation of it so as to reinforce our assumptions about its nature with practical examples:\n",
    ">- finally we discuss about the optimality of this algorithm and try to find a better solution."
   ]
  },
  {
   "cell_type": "markdown",
   "id": "de3be110",
   "metadata": {},
   "source": [
    "### How does it work?"
   ]
  },
  {
   "cell_type": "markdown",
   "id": "a2136911",
   "metadata": {},
   "source": [
    "We know that we have two functions:\n",
    ">- f2: is the main *RECURSIVE* function;\n",
    ">- f1: the ausiliar function that simply takes as input a sequence of characters and an 'end' integer and prints alll the characters in the sequence till the end-th element."
   ]
  },
  {
   "cell_type": "markdown",
   "id": "265e0146",
   "metadata": {},
   "source": [
    "INPUT : Basically f2 takes as input a 'sequence' of characters (an 'alphabet' population) and an integer 'N' that defines the cardinality of the sample space. \n",
    "\n",
    "OUTPUT : The function prints out all possible permutations of a set of cardinality 'N'.\n",
    "\n",
    "ANALYSIS:\n",
    ">- We identify f2 as the main function in that it simply exploits f1 as the *base case* of recursion (a 'bottom out' on *inputs of some constant size*);\n",
    "\n",
    ">- on the first call of f2 the algorithm iterates N times so as to assign one of the N elements to the first place of the single permutation;\n",
    "\n",
    ">- then passing to the recursive call of f2 which (the second call of the function itself) useful for assigning one of the N-1 remaining elements to the second place of the single permutation --> now we have 2 fixed elements and we have to fill the rest of free positions;\n",
    "\n",
    ">- so on until all the places of the single permutation are filled and pursue the printing of all the elements of the single permutation;\n",
    "\n",
    ">- clearly we call f1 N! times every time the algorithm completes a single permutation: the f1 function takes n steps to print each element of the permutation."
   ]
  },
  {
   "cell_type": "markdown",
   "id": "fad06f97",
   "metadata": {},
   "source": [
    "The algorithm reported actually uses a divide-and-conquer type technique in which we reduce the original problem to a less complex problem with fewer iterations.\n",
    "Specifically in this case it is a decrease and conquer algorithm in that with each recursion we derive a single subproblem of smaller size."
   ]
  },
  {
   "cell_type": "markdown",
   "id": "e48d592f",
   "metadata": {},
   "source": [
    "We can graphically describe the algorithm by a tree structure in which each level of the tree indicates an iteration of the second for loop in f2 (n levels in total). At each i-th level we will have fixed the first i positions of a permutation with values taken from the sequence. The children of the generic node at level i will present one more position with value fixed. We finally arrive at a leaf node from which we proceed with the print of the elements of the leaf itself and return back to the tree to continue with our visit in depth.\n",
    "\n",
    "Note that at each level the number of branches per single node decreases as the positions left empty in the single permutation also decrease (the problem becomes simpler and simpler)."
   ]
  },
  {
   "cell_type": "markdown",
   "id": "ca058562",
   "metadata": {},
   "source": [
    "At each iteration we have a pointer to the first element of the permutation that is not arleady fixed and we iteratevly switch its value with the value of one of the remaining elemnts in the sequence (not arleady assigned). So each branch in this tree represents this switching value operation"
   ]
  },
  {
   "cell_type": "markdown",
   "id": "a66c5c5f",
   "metadata": {},
   "source": [
    "![tree](\\Users\\stefa\\ADMP10.png)\n",
    "\n"
   ]
  },
  {
   "cell_type": "markdown",
   "id": "00497717",
   "metadata": {},
   "source": [
    "We know that at each recurrence the steps of the for loop decrease of a factor 1 till the last recurrence, where we have an input of size 1 and the algorithm runs the loop of the f1 function with a fixed number of steps equals to N.\n",
    "\n",
    "$$\n",
    "\\begin{aligned}\n",
    "&T(N)=N T(N-1)+c\\\\\n",
    "&=N[(N-1) T(N-2)+c]+c\\\\\n",
    "&=N(N-1) T(N-2)+N c+c\\\\\n",
    "&=N(N-1)[(N-2) T(N-3)+c]+N c+c\\\\\n",
    "&=N(N-1)(N-2) T(N-3)+N(N-1) c+N c+c\\\\\n",
    "&=N(N-1)(N-2) T(N-3)+c(1+N+N(N-1))\\\\\n",
    "&=N \\cdot N !+c(1+N+N(N-1)+\\cdots+N(N-1)(N-2)\\cdot \\cdots(N-(N-2))\\cdot N)\\\\\n",
    "&T(N)=N \\cdot N !+\\left(\\sum_{k=0}^{N-2} \\frac{N \\cdot N !}{(N-k) !}\\right) c + c=N \\cdot N !+\\left(\\sum_{k=0}^{N-2} \\frac{1}{(N-k) !}\\right) N \\cdot N!\\cdot c + c\\\\\n",
    "\\end{aligned}\n",
    "$$\n",
    "\n",
    "We can easly verify that the sum $\\sum_{k=0}^{N-2} \\frac{1}{(N-k) !}$ converges and for N that grows to inf can be seen as constant\n",
    "\n",
    "$$\n",
    "\\begin{aligned}\n",
    "&N \\cdot N !+\\left(\\sum_{k=0}^{N-2} \\frac{1}{(N-k) !}\\right) N \\cdot N!\\cdot c + c =O(N \\cdot N !)\\\\\n",
    "\\end{aligned}\n",
    "$$"
   ]
  },
  {
   "cell_type": "markdown",
   "id": "28d31a7d",
   "metadata": {},
   "source": [
    "### Implementing the algorithm in python "
   ]
  },
  {
   "cell_type": "code",
   "execution_count": 80,
   "id": "c349f701",
   "metadata": {},
   "outputs": [],
   "source": [
    "def f1(sequence,end):\n",
    "    for i in range(end):\n",
    "        print(sequence[i])\n",
    "    print('\\n')\n",
    "\n",
    "def f2(sequence,start,end):\n",
    "    if( start==end):\n",
    "        f1(sequence,end)\n",
    "    else:\n",
    "        for i in range(start,end):\n",
    "            temp =  sequence[start]\n",
    "            sequence[start] = sequence[i]\n",
    "            sequence[i]  = temp\n",
    "            f2(sequence,start+1,end)\n",
    "            temp =  sequence[start]\n",
    "            sequence[start] = sequence[i]\n",
    "            sequence[i]  = temp"
   ]
  },
  {
   "cell_type": "code",
   "execution_count": 81,
   "id": "cd23f055",
   "metadata": {},
   "outputs": [
    {
     "name": "stdout",
     "output_type": "stream",
     "text": [
      "x\n",
      "y\n",
      "z\n",
      "\n",
      "\n",
      "x\n",
      "z\n",
      "y\n",
      "\n",
      "\n",
      "y\n",
      "x\n",
      "z\n",
      "\n",
      "\n",
      "y\n",
      "z\n",
      "x\n",
      "\n",
      "\n",
      "z\n",
      "y\n",
      "x\n",
      "\n",
      "\n",
      "z\n",
      "x\n",
      "y\n",
      "\n",
      "\n"
     ]
    }
   ],
   "source": [
    "# as trivial example we use the algorithm for a sequence of 3 characters\n",
    "\n",
    "List = ['x','y','z']\n",
    "N = 3\n",
    "f2(List, 0, N)"
   ]
  },
  {
   "cell_type": "markdown",
   "id": "8883ff8b",
   "metadata": {},
   "source": [
    "### Finding better a solution (?)"
   ]
  },
  {
   "cell_type": "markdown",
   "id": "3b7ff280",
   "metadata": {},
   "source": [
    "This algorithm is the most efficient one because (qualitatively speaking) we necessarly need at least N! steps to build all over the N! possible permutations and we also need N steps in order to print every single permutation (we must iterate over N elements of each simple permutation). This algorithm is based on a decrease-and-conquer technique with a simple recursion and it exploits the switch operation on the pointer to the first element among those not yet fixed. This structure of the algorithm allows the machine to avoid some redundant allocation of space: we don't use ausiliar heaps, lists to build the permutations."
   ]
  },
  {
   "cell_type": "markdown",
   "id": "4d4205f6-11db-4235-bf38-a80f1a89665e",
   "metadata": {
    "jp-MarkdownHeadingCollapsed": true,
    "tags": []
   },
   "source": [
    "# [AQ 2]"
   ]
  },
  {
   "cell_type": "markdown",
   "id": "cf309d2c-e710-4896-9746-b77c84b712f7",
   "metadata": {},
   "source": [
    "### Introduction to the algorithm with a simple recursion"
   ]
  },
  {
   "cell_type": "markdown",
   "id": "5c6fcd55-2d90-4d7d-bbb4-527de42e3aaf",
   "metadata": {},
   "source": [
    "In some way as in the proposed algorithm for the the permutations of a sequence (in the previuos points), we can reduce the problem to a subproblem, recursively iterating over a smaller size array but in this case we use a dynamic programming technique.\n",
    "\n",
    "In dynamic programming one implicitly explores the space of all the possible solutions by decomposing things in sub-problems and then building-up correct solutions to larger and larger subproblems (operating very close to the edge of brute-force search).\n",
    "\n",
    "We have two types of approaches to dynamic programming:\n",
    "1. iteratively building-up subproblems;\n",
    "2. formulating the algo. as a memorized recursion (e.g. our algorithm below).\n",
    "\n",
    "As we show in the scheme below we don't really need to iterate over any possible combination of pieces but we recursively find an optimum for a subproblem"
   ]
  },
  {
   "cell_type": "markdown",
   "id": "649d2a0e-9cbe-4fb8-a525-7bbbf3ad2356",
   "metadata": {},
   "source": [
    "![tree](\\Users\\stefa\\ADMP13.png)"
   ]
  },
  {
   "cell_type": "markdown",
   "id": "55264f32-7291-42ba-869d-f3b7ef3ed862",
   "metadata": {},
   "source": [
    "### Let's first have a look to the *rec_cut_multiplication* function"
   ]
  },
  {
   "cell_type": "markdown",
   "id": "200c02de-0b84-407b-a8b4-f89cb34841bd",
   "metadata": {},
   "source": [
    "This is an ausiliar function that is recursively called\n",
    "\n",
    "INPUT:\n",
    "\n",
    "an integer that indicates the legth of the ribbon\n",
    "\n",
    "\n",
    "PROCESS:\n",
    "\n",
    ">- find almost all the possible combinations of pieces of the ribbon with different length. We avoid to find a large quantity of combinations thanks to the fact that we only need the products of this length. Indeed we are not really interested in finding all the possible combinations of pieces, but we want to find all the possible products of these lengths --> production of the various pieces remains the same when I have all pieces of the same length but distributed with a different order (just referring to the commutative property of multiplication)\n",
    "\n",
    ">- we evaluate the maximum product for each subproblem (we memorize these length within a record) until we only need the maximum product of the larger sub-problem with all the possible lengths of the rest of the ribbon\n",
    "\n",
    "\n",
    "OUTPUT: \n",
    "\n",
    "an array of optimal solutions of the largest subproblems"
   ]
  },
  {
   "cell_type": "code",
   "execution_count": 17,
   "id": "b8077229-80c5-45be-ae4a-37a39480f533",
   "metadata": {},
   "outputs": [],
   "source": [
    "import math\n",
    "\n",
    "def rec_cut_multiplication(N):\n",
    "    \n",
    "    # base case of the recursion\n",
    "    if N == 1:\n",
    "        return [1]\n",
    "    \n",
    "    # building a ribbon of size N\n",
    "    arr = np.zeros(N)\n",
    "    # recording every production of the lengths of the partitions\n",
    "    products = []   \n",
    "    \n",
    "    n = ceil(N/2) # we can jump some iteration thanks to the symmetry of the outputs\n",
    "    for i in range(1, n+1):  # note that we start from i=1 since we want at least two partitions of the ribbon\n",
    "        \n",
    "        left_part, right_part = len(arr[:i]), len(arr[i:]) # building the 2 partitions \n",
    "        \n",
    "        products.append(left_part * right_part)\n",
    "        products.append(left_part * max(rec_cut_multiplication(right_part)))\n",
    "        \n",
    "    return products"
   ]
  },
  {
   "cell_type": "code",
   "execution_count": 20,
   "id": "0542c833-1fed-40f2-bc6f-097e53a61231",
   "metadata": {},
   "outputs": [
    {
     "name": "stdout",
     "output_type": "stream",
     "text": [
      "[4, 4, 6, 4, 6, 3]\n"
     ]
    }
   ],
   "source": [
    "# example of output of the function... you can compare it with the scheme above\n",
    "opt = rec_cut_multiplication(5)\n",
    "print(opt)"
   ]
  },
  {
   "cell_type": "markdown",
   "id": "de53f2d5-f6cd-406e-a1d2-ac67ae44b0ba",
   "metadata": {},
   "source": [
    "### Then the second part of the algorithm with the *ribbon_cuts* function"
   ]
  },
  {
   "cell_type": "markdown",
   "id": "f1cd38aa-4c90-4b60-bc04-bc154b8d3a1a",
   "metadata": {},
   "source": [
    "We arleady explained the core of the algorithm, now we have to reconstruct the lengths of the partitions of the ribbon. We can have a large quantity of solutions for these part of the algorith (due to distributive, associative and deassociative properties of the multiplication).\n",
    "So we simply report the decomposition into prime factors of the maximum of the output from the ausiliar function."
   ]
  },
  {
   "cell_type": "code",
   "execution_count": 24,
   "id": "94269f90-3247-4f7c-9334-d5b5de66e234",
   "metadata": {},
   "outputs": [],
   "source": [
    "def primeFactors(n):\n",
    "\n",
    "    # first control on the prime number two \n",
    "    while n % 2 == 0:\n",
    "        print(2)\n",
    "        n = n / 2\n",
    "         \n",
    "    # n is odd so we find another prime number\n",
    "    for i in range(3,int(math.sqrt(n))+1,2):\n",
    "         \n",
    "        # while i divides n , print i and divide n\n",
    "        while n % i== 0:\n",
    "            print(int(i)),\n",
    "            n = n / i\n",
    "             \n",
    "    # is prime and grater than 2 at this point\n",
    "    if n > 2:\n",
    "        print(int(n))\n",
    "\n",
    "def ribbon_cuts(opt):\n",
    "    return primeFactors(max(opt))"
   ]
  },
  {
   "cell_type": "code",
   "execution_count": 26,
   "id": "7eaf3b7d-ce7b-4406-ba5a-bc5b6d9ad5a3",
   "metadata": {},
   "outputs": [
    {
     "name": "stdout",
     "output_type": "stream",
     "text": [
      "2\n",
      "3\n"
     ]
    }
   ],
   "source": [
    "# continuing the exaple witha ribbon of length 5\n",
    "ribbon_cuts(opt)"
   ]
  },
  {
   "cell_type": "markdown",
   "id": "4befe70a-a226-4c8e-9b80-f5ee97f5c5e5",
   "metadata": {},
   "source": [
    "Although we wanted to try a solution via stored recursion in dynamic programming, we can easily see that our algorithm is exponential. We can evaluate the number of steps for the *rec_cut_multiplication* function:"
   ]
  },
  {
   "cell_type": "markdown",
   "id": "5f914421-7c74-4077-8345-7cde80da7c28",
   "metadata": {},
   "source": [
    "$$\n",
    "\\begin{aligned}\n",
    "&T(N)= \\frac N2 T(N-1)+c\\\\\n",
    "&=\\frac N2 \\left(\\frac{(N-1)}2 T(N-2)+c\\right)+c\\\\\n",
    "&=\\frac N2 \\cdot \\frac{(N-1)}2 \\left(\\frac{(N-2)}2 T(N-3)+c\\right)+2c\\\\\n",
    "&=\\frac N2 \\cdot \\frac{(N-1)}2 \\cdot \\frac{(N-2)}2 \\cdots \\cdot \\frac{(N-N/2)}2\\\\\n",
    "&=\\frac {N!}{2^{N/2} \\cdot \\left( \\frac N2 \\right)!}\\\\\n",
    "\\end{aligned}\n",
    "$$"
   ]
  },
  {
   "cell_type": "markdown",
   "id": "7ea12bf3-2f20-4352-928d-a56116ae8acc",
   "metadata": {},
   "source": [
    "Then we can easly see that the *primeFactors+ function runs in $O(sqrt(N))$ so the total running time is exponential"
   ]
  }
 ],
 "metadata": {
  "kernelspec": {
   "display_name": "Python 3 (ipykernel)",
   "language": "python",
   "name": "python3"
  },
  "language_info": {
   "codemirror_mode": {
    "name": "ipython",
    "version": 3
   },
   "file_extension": ".py",
   "mimetype": "text/x-python",
   "name": "python",
   "nbconvert_exporter": "python",
   "pygments_lexer": "ipython3",
   "version": "3.9.12"
  },
  "vscode": {
   "interpreter": {
    "hash": "6d920c1076f6f22874807bf93d51d582d5197fab8eb3e2fba8b887d20d4fb579"
   }
  }
 },
 "nbformat": 4,
 "nbformat_minor": 5
}
